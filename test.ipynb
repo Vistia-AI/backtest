{
 "cells": [
  {
   "cell_type": "code",
   "execution_count": 1,
   "metadata": {},
   "outputs": [
    {
     "name": "stderr",
     "output_type": "stream",
     "text": [
      "C:\\Users\\Admin\\AppData\\Roaming\\Python\\Python311\\site-packages\\backtesting\\_plotting.py:55: UserWarning: Jupyter Notebook detected. Setting Bokeh output to notebook. This may not work in Jupyter clients without JavaScript support, such as old IDEs. Reset with `backtesting.set_bokeh_output(notebook=False)`.\n",
      "  warnings.warn('Jupyter Notebook detected. '\n"
     ]
    },
    {
     "data": {
      "text/html": [
       "    <style>\n",
       "        .bk-notebook-logo {\n",
       "            display: block;\n",
       "            width: 20px;\n",
       "            height: 20px;\n",
       "            background-image: url(data:image/png;base64,iVBORw0KGgoAAAANSUhEUgAAABQAAAAUCAYAAACNiR0NAAAABHNCSVQICAgIfAhkiAAAAAlwSFlzAAALEgAACxIB0t1+/AAAABx0RVh0U29mdHdhcmUAQWRvYmUgRmlyZXdvcmtzIENTNui8sowAAAOkSURBVDiNjZRtaJVlGMd/1/08zzln5zjP1LWcU9N0NkN8m2CYjpgQYQXqSs0I84OLIC0hkEKoPtiH3gmKoiJDU7QpLgoLjLIQCpEsNJ1vqUOdO7ppbuec5+V+rj4ctwzd8IIbbi6u+8f1539dt3A78eXC7QizUF7gyV1fD1Yqg4JWz84yffhm0qkFqBogB9rM8tZdtwVsPUhWhGcFJngGeWrPzHm5oaMmkfEg1usvLFyc8jLRqDOMru7AyC8saQr7GG7f5fvDeH7Ej8CM66nIF+8yngt6HWaKh7k49Soy9nXurCi1o3qUbS3zWfrYeQDTB/Qj6kX6Ybhw4B+bOYoLKCC9H3Nu/leUTZ1JdRWkkn2ldcCamzrcf47KKXdAJllSlxAOkRgyHsGC/zRday5Qld9DyoM4/q/rUoy/CXh3jzOu3bHUVZeU+DEn8FInkPBFlu3+nW3Nw0mk6vCDiWg8CeJaxEwuHS3+z5RgY+YBR6V1Z1nxSOfoaPa4LASWxxdNp+VWTk7+4vzaou8v8PN+xo+KY2xsw6une2frhw05CTYOmQvsEhjhWjn0bmXPjpE1+kplmmkP3suftwTubK9Vq22qKmrBhpY4jvd5afdRA3wGjFAgcnTK2s4hY0/GPNIb0nErGMCRxWOOX64Z8RAC4oCXdklmEvcL8o0BfkNK4lUg9HTl+oPlQxdNo3Mg4Nv175e/1LDGzZen30MEjRUtmXSfiTVu1kK8W4txyV6BMKlbgk3lMwYCiusNy9fVfvvwMxv8Ynl6vxoByANLTWplvuj/nF9m2+PDtt1eiHPBr1oIfhCChQMBw6Aw0UulqTKZdfVvfG7VcfIqLG9bcldL/+pdWTLxLUy8Qq38heUIjh4XlzZxzQm19lLFlr8vdQ97rjZVOLf8nclzckbcD4wxXMidpX30sFd37Fv/GtwwhzhxGVAprjbg0gCAEeIgwCZyTV2Z1REEW8O4py0wsjeloKoMr6iCY6dP92H6Vw/oTyICIthibxjm/DfN9lVz8IqtqKYLUXfoKVMVQVVJOElGjrnnUt9T9wbgp8AyYKaGlqingHZU/uG2NTZSVqwHQTWkx9hxjkpWDaCg6Ckj5qebgBVbT3V3NNXMSiWSDdGV3hrtzla7J+duwPOToIg42ChPQOQjspnSlp1V+Gjdged7+8UN5CRAV7a5EdFNwCjEaBR27b3W890TE7g24NAP/mMDXRWrGoFPQI9ls/MWO2dWFAar/xcOIImbbpA3zgAAAABJRU5ErkJggg==);\n",
       "        }\n",
       "    </style>\n",
       "    <div>\n",
       "        <a href=\"https://bokeh.org\" target=\"_blank\" class=\"bk-notebook-logo\"></a>\n",
       "        <span id=\"e613d270-e2c2-4592-8cbb-69a08ddf24e9\">Loading BokehJS ...</span>\n",
       "    </div>\n"
      ]
     },
     "metadata": {},
     "output_type": "display_data"
    },
    {
     "data": {
      "application/javascript": "'use strict';\n(function(root) {\n  function now() {\n    return new Date();\n  }\n\n  const force = true;\n\n  if (typeof root._bokeh_onload_callbacks === \"undefined\" || force === true) {\n    root._bokeh_onload_callbacks = [];\n    root._bokeh_is_loading = undefined;\n  }\n\nconst JS_MIME_TYPE = 'application/javascript';\n  const HTML_MIME_TYPE = 'text/html';\n  const EXEC_MIME_TYPE = 'application/vnd.bokehjs_exec.v0+json';\n  const CLASS_NAME = 'output_bokeh rendered_html';\n\n  /**\n   * Render data to the DOM node\n   */\n  function render(props, node) {\n    const script = document.createElement(\"script\");\n    node.appendChild(script);\n  }\n\n  /**\n   * Handle when an output is cleared or removed\n   */\n  function handleClearOutput(event, handle) {\n    function drop(id) {\n      const view = Bokeh.index.get_by_id(id)\n      if (view != null) {\n        view.model.document.clear()\n        Bokeh.index.delete(view)\n      }\n    }\n\n    const cell = handle.cell;\n\n    const id = cell.output_area._bokeh_element_id;\n    const server_id = cell.output_area._bokeh_server_id;\n\n    // Clean up Bokeh references\n    if (id != null) {\n      drop(id)\n    }\n\n    if (server_id !== undefined) {\n      // Clean up Bokeh references\n      const cmd_clean = \"from bokeh.io.state import curstate; print(curstate().uuid_to_server['\" + server_id + \"'].get_sessions()[0].document.roots[0]._id)\";\n      cell.notebook.kernel.execute(cmd_clean, {\n        iopub: {\n          output: function(msg) {\n            const id = msg.content.text.trim()\n            drop(id)\n          }\n        }\n      });\n      // Destroy server and session\n      const cmd_destroy = \"import bokeh.io.notebook as ion; ion.destroy_server('\" + server_id + \"')\";\n      cell.notebook.kernel.execute(cmd_destroy);\n    }\n  }\n\n  /**\n   * Handle when a new output is added\n   */\n  function handleAddOutput(event, handle) {\n    const output_area = handle.output_area;\n    const output = handle.output;\n\n    // limit handleAddOutput to display_data with EXEC_MIME_TYPE content only\n    if ((output.output_type != \"display_data\") || (!Object.prototype.hasOwnProperty.call(output.data, EXEC_MIME_TYPE))) {\n      return\n    }\n\n    const toinsert = output_area.element.find(\".\" + CLASS_NAME.split(' ')[0]);\n\n    if (output.metadata[EXEC_MIME_TYPE][\"id\"] !== undefined) {\n      toinsert[toinsert.length - 1].firstChild.textContent = output.data[JS_MIME_TYPE];\n      // store reference to embed id on output_area\n      output_area._bokeh_element_id = output.metadata[EXEC_MIME_TYPE][\"id\"];\n    }\n    if (output.metadata[EXEC_MIME_TYPE][\"server_id\"] !== undefined) {\n      const bk_div = document.createElement(\"div\");\n      bk_div.innerHTML = output.data[HTML_MIME_TYPE];\n      const script_attrs = bk_div.children[0].attributes;\n      for (let i = 0; i < script_attrs.length; i++) {\n        toinsert[toinsert.length - 1].firstChild.setAttribute(script_attrs[i].name, script_attrs[i].value);\n        toinsert[toinsert.length - 1].firstChild.textContent = bk_div.children[0].textContent\n      }\n      // store reference to server id on output_area\n      output_area._bokeh_server_id = output.metadata[EXEC_MIME_TYPE][\"server_id\"];\n    }\n  }\n\n  function register_renderer(events, OutputArea) {\n\n    function append_mime(data, metadata, element) {\n      // create a DOM node to render to\n      const toinsert = this.create_output_subarea(\n        metadata,\n        CLASS_NAME,\n        EXEC_MIME_TYPE\n      );\n      this.keyboard_manager.register_events(toinsert);\n      // Render to node\n      const props = {data: data, metadata: metadata[EXEC_MIME_TYPE]};\n      render(props, toinsert[toinsert.length - 1]);\n      element.append(toinsert);\n      return toinsert\n    }\n\n    /* Handle when an output is cleared or removed */\n    events.on('clear_output.CodeCell', handleClearOutput);\n    events.on('delete.Cell', handleClearOutput);\n\n    /* Handle when a new output is added */\n    events.on('output_added.OutputArea', handleAddOutput);\n\n    /**\n     * Register the mime type and append_mime function with output_area\n     */\n    OutputArea.prototype.register_mime_type(EXEC_MIME_TYPE, append_mime, {\n      /* Is output safe? */\n      safe: true,\n      /* Index of renderer in `output_area.display_order` */\n      index: 0\n    });\n  }\n\n  // register the mime type if in Jupyter Notebook environment and previously unregistered\n  if (root.Jupyter !== undefined) {\n    const events = require('base/js/events');\n    const OutputArea = require('notebook/js/outputarea').OutputArea;\n\n    if (OutputArea.prototype.mime_types().indexOf(EXEC_MIME_TYPE) == -1) {\n      register_renderer(events, OutputArea);\n    }\n  }\n  if (typeof (root._bokeh_timeout) === \"undefined\" || force === true) {\n    root._bokeh_timeout = Date.now() + 5000;\n    root._bokeh_failed_load = false;\n  }\n\n  const NB_LOAD_WARNING = {'data': {'text/html':\n     \"<div style='background-color: #fdd'>\\n\"+\n     \"<p>\\n\"+\n     \"BokehJS does not appear to have successfully loaded. If loading BokehJS from CDN, this \\n\"+\n     \"may be due to a slow or bad network connection. Possible fixes:\\n\"+\n     \"</p>\\n\"+\n     \"<ul>\\n\"+\n     \"<li>re-rerun `output_notebook()` to attempt to load from CDN again, or</li>\\n\"+\n     \"<li>use INLINE resources instead, as so:</li>\\n\"+\n     \"</ul>\\n\"+\n     \"<code>\\n\"+\n     \"from bokeh.resources import INLINE\\n\"+\n     \"output_notebook(resources=INLINE)\\n\"+\n     \"</code>\\n\"+\n     \"</div>\"}};\n\n  function display_loaded(error = null) {\n    const el = document.getElementById(\"e613d270-e2c2-4592-8cbb-69a08ddf24e9\");\n    if (el != null) {\n      const html = (() => {\n        if (typeof root.Bokeh === \"undefined\") {\n          if (error == null) {\n            return \"BokehJS is loading ...\";\n          } else {\n            return \"BokehJS failed to load.\";\n          }\n        } else {\n          const prefix = `BokehJS ${root.Bokeh.version}`;\n          if (error == null) {\n            return `${prefix} successfully loaded.`;\n          } else {\n            return `${prefix} <b>encountered errors</b> while loading and may not function as expected.`;\n          }\n        }\n      })();\n      el.innerHTML = html;\n\n      if (error != null) {\n        const wrapper = document.createElement(\"div\");\n        wrapper.style.overflow = \"auto\";\n        wrapper.style.height = \"5em\";\n        wrapper.style.resize = \"vertical\";\n        const content = document.createElement(\"div\");\n        content.style.fontFamily = \"monospace\";\n        content.style.whiteSpace = \"pre-wrap\";\n        content.style.backgroundColor = \"rgb(255, 221, 221)\";\n        content.textContent = error.stack ?? error.toString();\n        wrapper.append(content);\n        el.append(wrapper);\n      }\n    } else if (Date.now() < root._bokeh_timeout) {\n      setTimeout(() => display_loaded(error), 100);\n    }\n  }\n\n  function run_callbacks() {\n    try {\n      root._bokeh_onload_callbacks.forEach(function(callback) {\n        if (callback != null)\n          callback();\n      });\n    } finally {\n      delete root._bokeh_onload_callbacks\n    }\n    console.debug(\"Bokeh: all callbacks have finished\");\n  }\n\n  function load_libs(css_urls, js_urls, callback) {\n    if (css_urls == null) css_urls = [];\n    if (js_urls == null) js_urls = [];\n\n    root._bokeh_onload_callbacks.push(callback);\n    if (root._bokeh_is_loading > 0) {\n      console.debug(\"Bokeh: BokehJS is being loaded, scheduling callback at\", now());\n      return null;\n    }\n    if (js_urls == null || js_urls.length === 0) {\n      run_callbacks();\n      return null;\n    }\n    console.debug(\"Bokeh: BokehJS not loaded, scheduling load and callback at\", now());\n    root._bokeh_is_loading = css_urls.length + js_urls.length;\n\n    function on_load() {\n      root._bokeh_is_loading--;\n      if (root._bokeh_is_loading === 0) {\n        console.debug(\"Bokeh: all BokehJS libraries/stylesheets loaded\");\n        run_callbacks()\n      }\n    }\n\n    function on_error(url) {\n      console.error(\"failed to load \" + url);\n    }\n\n    for (let i = 0; i < css_urls.length; i++) {\n      const url = css_urls[i];\n      const element = document.createElement(\"link\");\n      element.onload = on_load;\n      element.onerror = on_error.bind(null, url);\n      element.rel = \"stylesheet\";\n      element.type = \"text/css\";\n      element.href = url;\n      console.debug(\"Bokeh: injecting link tag for BokehJS stylesheet: \", url);\n      document.body.appendChild(element);\n    }\n\n    for (let i = 0; i < js_urls.length; i++) {\n      const url = js_urls[i];\n      const element = document.createElement('script');\n      element.onload = on_load;\n      element.onerror = on_error.bind(null, url);\n      element.async = false;\n      element.src = url;\n      console.debug(\"Bokeh: injecting script tag for BokehJS library: \", url);\n      document.head.appendChild(element);\n    }\n  };\n\n  function inject_raw_css(css) {\n    const element = document.createElement(\"style\");\n    element.appendChild(document.createTextNode(css));\n    document.body.appendChild(element);\n  }\n\n  const js_urls = [\"https://cdn.bokeh.org/bokeh/release/bokeh-3.7.3.min.js\", \"https://cdn.bokeh.org/bokeh/release/bokeh-gl-3.7.3.min.js\", \"https://cdn.bokeh.org/bokeh/release/bokeh-widgets-3.7.3.min.js\", \"https://cdn.bokeh.org/bokeh/release/bokeh-tables-3.7.3.min.js\", \"https://cdn.bokeh.org/bokeh/release/bokeh-mathjax-3.7.3.min.js\"];\n  const css_urls = [];\n\n  const inline_js = [    function(Bokeh) {\n      Bokeh.set_log_level(\"info\");\n    },\nfunction(Bokeh) {\n    }\n  ];\n\n  function run_inline_js() {\n    if (root.Bokeh !== undefined || force === true) {\n      try {\n            for (let i = 0; i < inline_js.length; i++) {\n      inline_js[i].call(root, root.Bokeh);\n    }\n\n      } catch (error) {display_loaded(error);throw error;\n      }if (force === true) {\n        display_loaded();\n      }} else if (Date.now() < root._bokeh_timeout) {\n      setTimeout(run_inline_js, 100);\n    } else if (!root._bokeh_failed_load) {\n      console.log(\"Bokeh: BokehJS failed to load within specified timeout.\");\n      root._bokeh_failed_load = true;\n    } else if (force !== true) {\n      const cell = $(document.getElementById(\"e613d270-e2c2-4592-8cbb-69a08ddf24e9\")).parents('.cell').data().cell;\n      cell.output_area.append_execute_result(NB_LOAD_WARNING)\n    }\n  }\n\n  if (root._bokeh_is_loading === 0) {\n    console.debug(\"Bokeh: BokehJS loaded, going straight to plotting\");\n    run_inline_js();\n  } else {\n    load_libs(css_urls, js_urls, function() {\n      console.debug(\"Bokeh: BokehJS plotting callback run at\", now());\n      run_inline_js();\n    });\n  }\n}(window));",
      "application/vnd.bokehjs_load.v0+json": ""
     },
     "metadata": {},
     "output_type": "display_data"
    },
    {
     "data": {
      "text/plain": [
       "<module 'os' (frozen)>"
      ]
     },
     "execution_count": 1,
     "metadata": {},
     "output_type": "execute_result"
    }
   ],
   "source": [
    "import os\n",
    "import numpy as np\n",
    "from scipy.signal import find_peaks\n",
    "from backtesting import Backtest, Strategy\n",
    "os"
   ]
  },
  {
   "cell_type": "markdown",
   "metadata": {},
   "source": [
    "# Data"
   ]
  },
  {
   "cell_type": "code",
   "execution_count": 2,
   "metadata": {},
   "outputs": [],
   "source": [
    "from sqlalchemy import create_engine\n",
    "from dotenv import load_dotenv\n",
    "load_dotenv()\n",
    "\n",
    "DB_URL = os.getenv('DB_URL')\n",
    "\n",
    "engine = create_engine(\n",
    "    DB_URL,\n",
    "    pool_pre_ping=True,   # checks connection before using\n",
    "    pool_recycle=1800,    # optional: avoids stale timeouts\n",
    "    connect_args={\"check_same_thread\": False} if \"sqlite\" in DB_URL else {},\n",
    ")\n",
    "# engine"
   ]
  },
  {
   "cell_type": "code",
   "execution_count": 48,
   "metadata": {},
   "outputs": [],
   "source": [
    "import pandas as pd\n",
    "from datetime import datetime\n",
    "SCHEMA = 'proddb.'\n",
    "tables = {\n",
    "    'p5m': SCHEMA+'coin_prices_5m',\n",
    "    'p1h': SCHEMA+'coin_prices_1h',\n",
    "    'f5m': SCHEMA+'f_coin_signal_5m',\n",
    "    'f10m': SCHEMA+'f_coin_signal_10m',\n",
    "    'f15m': SCHEMA+'f_coin_signal_15m',\n",
    "    'f30m': SCHEMA+'f_coin_signal_30m',\n",
    "    'f1h': SCHEMA+'f_coin_signal_1h',\n",
    "    'f4h': SCHEMA+'f_coin_signal_4h',\n",
    "    'f1d': SCHEMA+'f_coin_signal_1d',\n",
    "    'f1D': SCHEMA+'f_coin_signal_1d',\n",
    "    'orders': SCHEMA+'trade_orders_sim',\n",
    "    'tp_by_sess': SCHEMA+'trade_orders_tp_by_session',\n",
    "    }\n",
    "\n",
    "from_time = int(datetime(2025, 4, 1, 0, 0, 0).timestamp())\n",
    "to_time = int(datetime(2025, 9, 1, 0, 0, 0).timestamp())\n",
    "from_time, to_time\n",
    "def get_data_4_8(symbol, tf='f1h', extr_cols=[]):\n",
    "    try:\n",
    "        table = tables[tf]\n",
    "    except Exception as e:\n",
    "        print(e)\n",
    "        return tables['p1h']\n",
    "    \n",
    "    if len(extr_cols) > 0:\n",
    "        extr_cols_str = ', ' + ', '.join(extr_cols)\n",
    "    else:\n",
    "        extr_cols_str = ''\n",
    "\n",
    "    df = pd.read_sql(f\"\"\"\n",
    "            select TO_TIMESTAMP(open_time) as open_time, open as Open, close as Close,\n",
    "                high  as High, low as Low, volume as Volume \n",
    "                {extr_cols_str}\n",
    "            from {table} \n",
    "            where open_time >= {from_time} and open_time < {to_time}\n",
    "                and symbol = '{symbol}'\n",
    "            order by open_time asc\n",
    "        \"\"\",\n",
    "        engine, \n",
    "        index_col=\"open_time\")\n",
    "    df.rename(columns={\n",
    "        'open': 'Open',\n",
    "        'close': 'Close',\n",
    "        'high': 'High',\n",
    "        'low': 'Low',\n",
    "        'volume': 'Volume',\n",
    "        'rsi7': 'rsi'\n",
    "    }, inplace=True)\n",
    "    return df\n",
    "df = get_data_4_8('HBARUSDT', 'f1h', ['rsi7', 'rsi14', 'adx'])"
   ]
  },
  {
   "cell_type": "code",
   "execution_count": 23,
   "metadata": {},
   "outputs": [
    {
     "data": {
      "text/html": [
       "<div>\n",
       "<style scoped>\n",
       "    .dataframe tbody tr th:only-of-type {\n",
       "        vertical-align: middle;\n",
       "    }\n",
       "\n",
       "    .dataframe tbody tr th {\n",
       "        vertical-align: top;\n",
       "    }\n",
       "\n",
       "    .dataframe thead th {\n",
       "        text-align: right;\n",
       "    }\n",
       "</style>\n",
       "<table border=\"1\" class=\"dataframe\">\n",
       "  <thead>\n",
       "    <tr style=\"text-align: right;\">\n",
       "      <th></th>\n",
       "      <th>Open</th>\n",
       "      <th>Close</th>\n",
       "      <th>High</th>\n",
       "      <th>Low</th>\n",
       "      <th>Volume</th>\n",
       "      <th>rsi7</th>\n",
       "      <th>rsi14</th>\n",
       "      <th>adx</th>\n",
       "    </tr>\n",
       "    <tr>\n",
       "      <th>open_time</th>\n",
       "      <th></th>\n",
       "      <th></th>\n",
       "      <th></th>\n",
       "      <th></th>\n",
       "      <th></th>\n",
       "      <th></th>\n",
       "      <th></th>\n",
       "      <th></th>\n",
       "    </tr>\n",
       "  </thead>\n",
       "  <tbody>\n",
       "    <tr>\n",
       "      <th>2025-05-13 05:00:00+00:00</th>\n",
       "      <td>0.20554</td>\n",
       "      <td>0.20539</td>\n",
       "      <td>0.20610</td>\n",
       "      <td>0.20419</td>\n",
       "      <td>5471093.0</td>\n",
       "      <td>0.000000</td>\n",
       "      <td>0.000000</td>\n",
       "      <td>0.000000</td>\n",
       "    </tr>\n",
       "    <tr>\n",
       "      <th>2025-05-13 06:00:00+00:00</th>\n",
       "      <td>0.20539</td>\n",
       "      <td>0.20618</td>\n",
       "      <td>0.20773</td>\n",
       "      <td>0.20522</td>\n",
       "      <td>8284475.0</td>\n",
       "      <td>100.000000</td>\n",
       "      <td>100.000000</td>\n",
       "      <td>1.714952</td>\n",
       "    </tr>\n",
       "    <tr>\n",
       "      <th>2025-05-13 07:00:00+00:00</th>\n",
       "      <td>0.20617</td>\n",
       "      <td>0.20677</td>\n",
       "      <td>0.20905</td>\n",
       "      <td>0.20599</td>\n",
       "      <td>6642622.0</td>\n",
       "      <td>100.000000</td>\n",
       "      <td>100.000000</td>\n",
       "      <td>3.260341</td>\n",
       "    </tr>\n",
       "    <tr>\n",
       "      <th>2025-05-13 08:00:00+00:00</th>\n",
       "      <td>0.20678</td>\n",
       "      <td>0.20718</td>\n",
       "      <td>0.20833</td>\n",
       "      <td>0.20651</td>\n",
       "      <td>5241162.0</td>\n",
       "      <td>100.000000</td>\n",
       "      <td>100.000000</td>\n",
       "      <td>4.445942</td>\n",
       "    </tr>\n",
       "    <tr>\n",
       "      <th>2025-05-13 09:00:00+00:00</th>\n",
       "      <td>0.20719</td>\n",
       "      <td>0.20992</td>\n",
       "      <td>0.21034</td>\n",
       "      <td>0.20712</td>\n",
       "      <td>9200234.0</td>\n",
       "      <td>100.000000</td>\n",
       "      <td>100.000000</td>\n",
       "      <td>5.349335</td>\n",
       "    </tr>\n",
       "    <tr>\n",
       "      <th>...</th>\n",
       "      <td>...</td>\n",
       "      <td>...</td>\n",
       "      <td>...</td>\n",
       "      <td>...</td>\n",
       "      <td>...</td>\n",
       "      <td>...</td>\n",
       "      <td>...</td>\n",
       "      <td>...</td>\n",
       "    </tr>\n",
       "    <tr>\n",
       "      <th>2025-08-31 12:00:00+00:00</th>\n",
       "      <td>0.22497</td>\n",
       "      <td>0.22484</td>\n",
       "      <td>0.22513</td>\n",
       "      <td>0.22348</td>\n",
       "      <td>2047893.0</td>\n",
       "      <td>42.469685</td>\n",
       "      <td>45.242043</td>\n",
       "      <td>3.935555</td>\n",
       "    </tr>\n",
       "    <tr>\n",
       "      <th>2025-08-31 13:00:00+00:00</th>\n",
       "      <td>0.22483</td>\n",
       "      <td>0.22345</td>\n",
       "      <td>0.22519</td>\n",
       "      <td>0.22318</td>\n",
       "      <td>2397163.0</td>\n",
       "      <td>32.524784</td>\n",
       "      <td>40.376849</td>\n",
       "      <td>3.836092</td>\n",
       "    </tr>\n",
       "    <tr>\n",
       "      <th>2025-08-31 14:00:00+00:00</th>\n",
       "      <td>0.22345</td>\n",
       "      <td>0.22352</td>\n",
       "      <td>0.22400</td>\n",
       "      <td>0.22237</td>\n",
       "      <td>3075512.0</td>\n",
       "      <td>33.440501</td>\n",
       "      <td>40.722562</td>\n",
       "      <td>4.004198</td>\n",
       "    </tr>\n",
       "    <tr>\n",
       "      <th>2025-08-31 15:00:00+00:00</th>\n",
       "      <td>0.22352</td>\n",
       "      <td>0.22569</td>\n",
       "      <td>0.22579</td>\n",
       "      <td>0.22343</td>\n",
       "      <td>4111748.0</td>\n",
       "      <td>55.353883</td>\n",
       "      <td>50.336180</td>\n",
       "      <td>3.869782</td>\n",
       "    </tr>\n",
       "    <tr>\n",
       "      <th>2025-08-31 16:00:00+00:00</th>\n",
       "      <td>0.22570</td>\n",
       "      <td>0.22393</td>\n",
       "      <td>0.22582</td>\n",
       "      <td>0.22344</td>\n",
       "      <td>4909046.0</td>\n",
       "      <td>42.205597</td>\n",
       "      <td>44.090496</td>\n",
       "      <td>3.742305</td>\n",
       "    </tr>\n",
       "  </tbody>\n",
       "</table>\n",
       "<p>2652 rows × 8 columns</p>\n",
       "</div>"
      ],
      "text/plain": [
       "                              Open    Close     High      Low     Volume  \\\n",
       "open_time                                                                  \n",
       "2025-05-13 05:00:00+00:00  0.20554  0.20539  0.20610  0.20419  5471093.0   \n",
       "2025-05-13 06:00:00+00:00  0.20539  0.20618  0.20773  0.20522  8284475.0   \n",
       "2025-05-13 07:00:00+00:00  0.20617  0.20677  0.20905  0.20599  6642622.0   \n",
       "2025-05-13 08:00:00+00:00  0.20678  0.20718  0.20833  0.20651  5241162.0   \n",
       "2025-05-13 09:00:00+00:00  0.20719  0.20992  0.21034  0.20712  9200234.0   \n",
       "...                            ...      ...      ...      ...        ...   \n",
       "2025-08-31 12:00:00+00:00  0.22497  0.22484  0.22513  0.22348  2047893.0   \n",
       "2025-08-31 13:00:00+00:00  0.22483  0.22345  0.22519  0.22318  2397163.0   \n",
       "2025-08-31 14:00:00+00:00  0.22345  0.22352  0.22400  0.22237  3075512.0   \n",
       "2025-08-31 15:00:00+00:00  0.22352  0.22569  0.22579  0.22343  4111748.0   \n",
       "2025-08-31 16:00:00+00:00  0.22570  0.22393  0.22582  0.22344  4909046.0   \n",
       "\n",
       "                                 rsi7       rsi14       adx  \n",
       "open_time                                                    \n",
       "2025-05-13 05:00:00+00:00    0.000000    0.000000  0.000000  \n",
       "2025-05-13 06:00:00+00:00  100.000000  100.000000  1.714952  \n",
       "2025-05-13 07:00:00+00:00  100.000000  100.000000  3.260341  \n",
       "2025-05-13 08:00:00+00:00  100.000000  100.000000  4.445942  \n",
       "2025-05-13 09:00:00+00:00  100.000000  100.000000  5.349335  \n",
       "...                               ...         ...       ...  \n",
       "2025-08-31 12:00:00+00:00   42.469685   45.242043  3.935555  \n",
       "2025-08-31 13:00:00+00:00   32.524784   40.376849  3.836092  \n",
       "2025-08-31 14:00:00+00:00   33.440501   40.722562  4.004198  \n",
       "2025-08-31 15:00:00+00:00   55.353883   50.336180  3.869782  \n",
       "2025-08-31 16:00:00+00:00   42.205597   44.090496  3.742305  \n",
       "\n",
       "[2652 rows x 8 columns]"
      ]
     },
     "execution_count": 23,
     "metadata": {},
     "output_type": "execute_result"
    }
   ],
   "source": [
    "# time = df.index\n",
    "# for i in range(1, len(time)):\n",
    "#     if (time[i] - time[i-1]).total_seconds() == 3600:\n",
    "#         print(i, time[i], time[i-1])\n",
    "#         break\n",
    "\n",
    "df "
   ]
  },
  {
   "cell_type": "markdown",
   "metadata": {},
   "source": [
    "# Backtesting lib"
   ]
  },
  {
   "cell_type": "code",
   "execution_count": 8,
   "metadata": {},
   "outputs": [],
   "source": [
    "\n",
    "from backtesting.lib import FractionalBacktest\n",
    "from backtesting.test import GOOG\n",
    "\n",
    "GOOG.tail()\n",
    "def save_stats(stats, backtest, out='backtest_summary.csv',tag=''):\n",
    "    d = stats.to_dict()\n",
    "    _ = d.pop('_equity_curve')\n",
    "    trades = d.pop('_trades')\n",
    "    df = pd.DataFrame([d])\n",
    "    df['tag'] = tag\n",
    "    df.to_csv(out, header=False, index=False, mode='a')\n",
    "\n",
    "    folder = tag.replace('_', '/')\n",
    "    os.makedirs(folder, exist_ok=True)\n",
    "    trades.to_markdown(os.path.join(folder, str(stats._strategy)+'_trades.md'), index=False)\n",
    "    backtest.plot(filename=os.path.join(folder, str(stats._strategy)+'_equity_curve.html'), open_browser=False)\n",
    "\n"
   ]
  },
  {
   "cell_type": "code",
   "execution_count": null,
   "metadata": {},
   "outputs": [],
   "source": []
  },
  {
   "cell_type": "markdown",
   "metadata": {},
   "source": [
    "## Triple pattern"
   ]
  },
  {
   "cell_type": "code",
   "execution_count": 10,
   "metadata": {},
   "outputs": [],
   "source": [
    "def detect_triple_pattern(df, tol=0.01, min_prominence=0.01, min_distance=5):\n",
    "    \"\"\"Identify Triple Top or Bottom patterns in OHLC data.\n",
    "    Parameters:\n",
    "    - df: DataFrame with 'Close' prices\n",
    "    - kind: 'top' for Triple Top or 'bottom' for Triple Bottom\n",
    "    - tol: Tolerance for matching levels as fraction\n",
    "    - min_prominence: Minimum prominence for swing detection\n",
    "    - min_distance: Minimum candle distance between swings\n",
    "    Returns:\n",
    "    - List of dictionaries with indices of pattern points and necklines\n",
    "    \"\"\"\n",
    "    df = df.copy()\n",
    "    lows = df['Low']\n",
    "    highs = df['High']\n",
    "    swings, _ = find_peaks(-lows, prominence=min_prominence, distance=min_distance)\n",
    "    # direction = 'bullish'\n",
    "    bullish = []\n",
    "    for i in range(len(swings) - 2):\n",
    "        p1, p2, p3 = swings[i], swings[i+1], swings[i+2]\n",
    "        levels = lows.values[[p1, p2, p3]]\n",
    "        lv_mean = levels.mean()\n",
    "        if np.ptp(levels) <= tol * lv_mean:\n",
    "            neckline_val = max(highs.values[p1:p3+1])\n",
    "            bullish.append({\n",
    "                'p1': p1, 'p2': p2, 'p3': p3,\n",
    "                'boundary_value': neckline_val,\n",
    "                })\n",
    "            \n",
    "\n",
    "    swings, _ = find_peaks(highs, prominence=min_prominence, distance=min_distance)\n",
    "    # direction = 'bearish'\n",
    "    bearish = []\n",
    "    for i in range(len(swings) - 2):\n",
    "        p1, p2, p3 = swings[i], swings[i+1], swings[i+2]\n",
    "        levels = highs.values[[p1, p2, p3]]\n",
    "        lv_mean = levels.mean()\n",
    "        if np.ptp(levels) <= tol * lv_mean:\n",
    "            neckline_val = min(lows.values[p1:p3+1])\n",
    "            bearish.append({\n",
    "                'p1': p1, 'p2': p2, 'p3': p3,\n",
    "                'boundary_value': neckline_val,\n",
    "                })\n",
    "    return (bullish, bearish)\n"
   ]
  },
  {
   "cell_type": "code",
   "execution_count": 43,
   "metadata": {},
   "outputs": [],
   "source": [
    "class TriplePatternStrategy(Strategy):\n",
    "    max_periods = 9\n",
    "    tol = 0.01\n",
    "    min_prominence = 0.01\n",
    "    min_distance = 5\n",
    "    def init(self,):\n",
    "        df = self.data.df\n",
    "        # print(self.max_periods)\n",
    "        bull, bear = detect_triple_pattern(df, tol=self.tol, min_prominence=self.min_prominence, min_distance=self.min_distance)\n",
    "        # print(bull, bear)\n",
    "        df['bull'] = None\n",
    "        \n",
    "        self.bull = []\n",
    "        self.bear = []\n",
    "\n",
    "        for p in bull:\n",
    "            df['bull'].iat[p['p3']] = p['boundary_value']\n",
    "            self.bull.append([p['p3'], p['boundary_value']])\n",
    "\n",
    "        df['bear'] = None\n",
    "        for p in bear:\n",
    "            df['bear'].iat[p['p3']] = p['boundary_value']\n",
    "            self.bear.append([p['p3'], p['boundary_value']])\n",
    "\n",
    "        # self.bull = self.I(lambda: df['bull'], name='Bullish')\n",
    "        # self.bear = self.I(lambda: df['bear'], name='Bearish')\n",
    "\n",
    "    def CloseOldPosition(self, periods=9):\n",
    "        current_bar = len(self.data.index) -1\n",
    "        for trade in self.trades:\n",
    "            if current_bar - trade.entry_bar >=  periods:\n",
    "                trade.close()\n",
    "                # print(\"Closed old position at bar\", current_bar, trade.entry_bar, \" for trade\", trade)\n",
    "    def next(self):\n",
    "        self.CloseOldPosition(self.max_periods)\n",
    "        if len(self.bull) > 0:\n",
    "            t, boundary = self.bull[0]\n",
    "            if len(self.data.index) > t+1:\n",
    "                if self.data.High[-1] > boundary:\n",
    "                    if not self.position.is_long:\n",
    "                        # print(\"BULL: \", self.data.index[-1], t, boundary, self.data.Close[-1], self.data.High[-1], self.data.Low[-1])\n",
    "                        self.buy(sl=self.data.Close[-1] * 0.98, tp=self.data.Close[-1] * 1.05)  # Example SL/TP\n",
    "                        self.position.close()  # Close previous position if any\n",
    "                    self.bull.pop(0)\n",
    "                elif len(self.data.index) > t+14:\n",
    "                    self.bull.pop(0)\n",
    "\n",
    "        if len(self.bear) > 0:\n",
    "            t, boundary = self.bear[0]\n",
    "            if len(self.data.index) > t+1:\n",
    "                if self.data.Low[-1] < boundary:\n",
    "                    if not self.position.is_short:\n",
    "                        # print(\"BEAR: \", self.data.index[-1], t, boundary, self.data.Close[-1], self.data.High[-1], self.data.Low[-1])\n",
    "                        # self.sell(sl=self.data.Close[-1] * 1.02, tp=self.data.Close[-1] * 0.95)  # Example SL/TP\n",
    "                        self.position.close()  # Close previous position if any\n",
    "                    self.bear.pop(0)\n",
    "                elif len(self.data.index) > t+14:\n",
    "                    self.bear.pop(0)\n",
    "\n",
    "class TriplePatternStrategy_9p(TriplePatternStrategy):\n",
    "    max_periods = 9\n",
    "    tol = 0.01\n",
    "    min_prominence = 0.01\n",
    "    min_distance = 5\n",
    "\n",
    "class TriplePatternStrategy_26p(TriplePatternStrategy):\n",
    "    max_periods = 26\n",
    "    tol = 0.01\n",
    "    min_prominence = 0.01\n",
    "    min_distance = 5\n",
    " "
   ]
  },
  {
   "cell_type": "code",
   "execution_count": 16,
   "metadata": {},
   "outputs": [],
   "source": [
    "# df = GOOG.copy()\n",
    "\n",
    "# bt = FractionalBacktest(df, TriplePatternStrategy_26p, cash=10_000, commission=.002, fractional_unit=0.001)\n",
    "# stats = bt.run()\n",
    "# stats.to_csv(\"backtest_results.csv\", )\n"
   ]
  },
  {
   "cell_type": "code",
   "execution_count": null,
   "metadata": {},
   "outputs": [],
   "source": [
    "# bt.plot()"
   ]
  },
  {
   "cell_type": "markdown",
   "metadata": {},
   "source": [
    "## Butterfly Pattern"
   ]
  },
  {
   "cell_type": "code",
   "execution_count": 40,
   "metadata": {},
   "outputs": [],
   "source": [
    "from pyharmonics.marketdata import BinanceCandleData  # or your own DataFrame\n",
    "from pyharmonics.technicals import Technicals\n",
    "from pyharmonics.search import HarmonicSearch\n",
    "import pandas as pd\n",
    "\n",
    "def detect_butterfly_pattern(df):\n",
    "    _df = df.copy()\n",
    "    _df.columns = ['open', 'high', 'low', 'close', 'volume']\n",
    "    t = Technicals(_df, 'SYMBOL', 'CUSTOM')  # timeframe as needed\n",
    "    hs = HarmonicSearch(t)\n",
    "    hs.search()\n",
    "    patterns = hs.get_patterns(family=hs.XABCD)  # includes Butterfly \n",
    "    return patterns['XABCD']"
   ]
  },
  {
   "cell_type": "code",
   "execution_count": 41,
   "metadata": {},
   "outputs": [],
   "source": [
    "class ButterflyStrategy(Strategy):\n",
    "    max_periods = 9\n",
    "    def init(self):\n",
    "        df = self.data.df\n",
    "        # print(self.max_periods)\n",
    "        patterns = detect_butterfly_pattern(df)\n",
    "        # print(patterns)\n",
    "        df['bull'] = 0\n",
    "        df['bear'] = 0\n",
    "        if len(patterns) > 0:            \n",
    "            for p in patterns:\n",
    "                if p.bullish:\n",
    "                    df['bull'].at[p.x[-1]] = 1\n",
    "                else:\n",
    "                    df['bear'].at[p.x[-1]] = 1\n",
    "\n",
    "        self.bull = self.I(lambda: df['bull'], name='Bullish')\n",
    "        self.bear = self.I(lambda: df['bear'], name='Bearish')\n",
    "\n",
    "    def CloseOldPosition(self, periods=9):\n",
    "        current_bar = len(self.data.index) -1\n",
    "        for trade in self.trades:\n",
    "            if current_bar - trade.entry_bar >= periods:\n",
    "                trade.close()\n",
    "                # print(\"Closed old position at bar\", current_bar, trade.entry_bar, \" for trade\", trade)\n",
    "    def next(self):\n",
    "        self.CloseOldPosition(self.max_periods)\n",
    "        if self.bull > 0:\n",
    "            if not self.position.is_long:\n",
    "                self.buy(sl=self.data.Close[-1] * 0.98, tp=self.data.Close[-1] * 1.05)  # Example SL/TP\n",
    "                self.position.close()  # Close previous position if any\n",
    "        if self.bear > 0:\n",
    "            if not self.position.is_short:\n",
    "                # self.sell(sl=self.data.Close[-1] * 1.02, tp=self.data.Close[-1] * 0.95)  # Example SL/TP\n",
    "                self.position.close()  # Close previous position if any\n",
    "\n",
    "class ButterflyStrategy_9p(ButterflyStrategy):\n",
    "    max_periods = 9\n",
    "\n",
    "class ButterflyStrategy_26p(ButterflyStrategy):\n",
    "    max_periods = 26\n",
    " "
   ]
  },
  {
   "cell_type": "code",
   "execution_count": null,
   "metadata": {},
   "outputs": [],
   "source": [
    "bt = FractionalBacktest(df, ButterflyStrategy_9p, cash=10_000, commission=.002, fractional_unit=0.01)\n",
    "stats = bt.run()\n",
    "bt.plot()\n"
   ]
  },
  {
   "cell_type": "markdown",
   "metadata": {},
   "source": [
    "## RSI long Pattern"
   ]
  },
  {
   "cell_type": "code",
   "execution_count": 44,
   "metadata": {},
   "outputs": [],
   "source": [
    "class RSILongStrategy(Strategy):\n",
    "    rsi_periods = 7\n",
    "    max_periods = 9\n",
    "    def init(self):\n",
    "        self.rsi = self.I(lambda x: x, self.data.rsi)\n",
    "\n",
    "    def CloseOldPosition(self, periods=9):\n",
    "        current_bar = len(self.data.index) -1\n",
    "        for trade in self.trades:\n",
    "            if current_bar - trade.entry_bar >= periods:\n",
    "                trade.close()\n",
    "                # print(\"Closed old position at bar\", current_bar, trade.entry_bar, \" for trade\", trade)\n",
    "    def next(self):\n",
    "        self.CloseOldPosition(self.max_periods)\n",
    "        if len(self.rsi) < 3:\n",
    "            return\n",
    "        rsi_left = self.rsi[-5:-2]\n",
    "        rsi_edge = self.rsi[-2]\n",
    "        rsi_right = self.rsi[-1]\n",
    "        # print(\"rsi: \", self.rsi[-10:])\n",
    "\n",
    "        if rsi_right >= 75:\n",
    "            if rsi_edge > rsi_right and rsi_edge >= max(rsi_left):\n",
    "                self.position.close()\n",
    "                # self.sell(sl=self.data.Close[-1] * 1.02, tp=self.data.Close[-1] * 0.95)  # Example SL/TP\n",
    "        elif rsi_right <= 25:\n",
    "            if rsi_edge < rsi_right and rsi_edge <= min(rsi_left):\n",
    "                self.position.close()\n",
    "                self.buy(sl=self.data.Close[-1] * 0.98, tp=self.data.Close[-1] * 1.05)  # Example SL/TP\n",
    "\n",
    "class RSI7LongStrategy_9p(RSILongStrategy):\n",
    "    rsi_periods = 7\n",
    "    max_periods = 9\n",
    "\n",
    "class RSI7LongStrategy_26p(RSILongStrategy):\n",
    "    rsi_periods = 7\n",
    "    max_periods = 26\n",
    "# stras = RSI7LongStrategy_9p(data = df)\n",
    "# stras.data"
   ]
  },
  {
   "cell_type": "markdown",
   "metadata": {},
   "source": [
    "## ADX long Pattern"
   ]
  },
  {
   "cell_type": "code",
   "execution_count": null,
   "metadata": {},
   "outputs": [],
   "source": [
    "from pandas.core.ops.docstrings import reverse_op\n",
    "\n",
    "\n",
    "class ADXLongStrategy(Strategy):\n",
    "    max_periods = 9\n",
    "    def init(self):\n",
    "        self.adx = self.I(lambda x: x, self.data.adx)\n",
    "\n",
    "        predict_trend = []\n",
    "        for i in range(len(self.data.index)):\n",
    "            if i < 5:\n",
    "                predict_trend.append(None)\n",
    "                continue\n",
    "\n",
    "            if min(self.data.Low[i-4:i+1]) == self.data.Low.iloc[i-1] or min(self.data.Low[i-4:i+1]) == self.data.Low.iloc[i-1]:  # edge point\n",
    "                low_trend = self.data.Low[i-5:i-1] < self.data.Low.iloc[i-1]\n",
    "                high_trend = self.data.High[i-5:i-1] < self.data.High.iloc[i-1]\n",
    "                close_trend = self.data.Close[i-5:i-1] < self.data.Close.iloc[i-1]\n",
    "                if (low_trend+high_trend+close_trend) >= 2:  # current trend up \n",
    "                    predict_trend.append('DOWN')                \n",
    "                else:  # current trend down \n",
    "                    predict_trend.append('UP')\n",
    "\n",
    "        self.predict_trend = self.I(lambda x: x, predict_trend)\n",
    "\n",
    "\n",
    "    def CloseOldPosition(self, periods=9):\n",
    "        current_bar = len(self.data.index) - 1\n",
    "        for trade in self.trades:\n",
    "            if current_bar - trade.entry_bar >= periods:\n",
    "                trade.close()\n",
    "                # print(\"Closed old position at bar\", current_bar, trade.entry_bar, \" for trade\", trade)\n",
    "    def next(self):\n",
    "        self.CloseOldPosition(self.max_periods)\n",
    "        if len(self.rsi) < 3:\n",
    "            return\n",
    "        rsi_left = self.rsi[-5:]\n",
    "        rsi_edge = self.rsi[-2]\n",
    "        # print(\"rsi: \", self.rsi[-10:])\n",
    "\n",
    "        if rsi_right >= 75:\n",
    "            if rsi_edge > rsi_right and rsi_edge >= max(rsi_left):\n",
    "                self.position.close()\n",
    "                # self.sell(sl=self.data.Close[-1] * 1.02, tp=self.data.Close[-1] * 0.95)  # Example SL/TP\n",
    "        elif rsi_right <= 25:\n",
    "            if rsi_edge < rsi_right and rsi_edge <= min(rsi_left):\n",
    "                self.position.close()\n",
    "                self.buy(sl=self.data.Close[-1] * 0.98, tp=self.data.Close[-1] * 1.05)  # Example SL/TP\n",
    "\n",
    "class RSI7LongStrategy_9p(RSILongStrategy):\n",
    "    rsi_periods = 7\n",
    "    max_periods = 9\n",
    "\n",
    "class RSI7LongStrategy_26p(RSILongStrategy):\n",
    "    rsi_periods = 7\n",
    "    max_periods = 26\n",
    "# stras = RSI7LongStrategy_9p(data = df)\n",
    "# stras.data"
   ]
  },
  {
   "cell_type": "markdown",
   "metadata": {},
   "source": [
    "# All in one"
   ]
  },
  {
   "cell_type": "code",
   "execution_count": null,
   "metadata": {},
   "outputs": [],
   "source": [
    "def backtest_function(symbol, timeframe, strategies, cash=10_000, commission=0.002):\n",
    "    symbol = symbol.upper()\n",
    "    timeframe = timeframe.lower()\n",
    "    tag = f\"{symbol}_{timeframe}\"\n",
    "    df = get_data_4_8(symbol, timeframe, ['rsi7', 'adx'])\n",
    "    print(\"df.shape: \", df.shape)\n",
    "    fractional_unit = pow(10, 2-int(np.log10(df['High'].max())))\n",
    "    # _stats, _plot = [], []\n",
    "    for strategy in strategies:\n",
    "        max_periods = strategy.max_periods\n",
    "        print(f\"Running backtest for {strategy.__name__} with max_periods={max_periods}\")\n",
    "        bt = FractionalBacktest(df, strategy, cash=cash, commission=commission, fractional_unit=fractional_unit)\n",
    "        stats = bt.run()\n",
    "        save_stats(stats, bt, \"backtest_summary.csv\", tag)"
   ]
  },
  {
   "cell_type": "code",
   "execution_count": 139,
   "metadata": {},
   "outputs": [
    {
     "name": "stdout",
     "output_type": "stream",
     "text": [
      "Running backtest for TriplePatternStrategy_9p with max_periods=9\n",
      "Running backtest for TriplePatternStrategy_26p with max_periods=26\n",
      "Running backtest for ButterflyStrategy_9p with max_periods=9\n",
      "Running backtest for ButterflyStrategy_26p with max_periods=26\n"
     ]
    }
   ],
   "source": [
    "a = backtest_function(\"ETHUSDT\", \"4h\", [TriplePatternStrategy_9p, TriplePatternStrategy_26p, ButterflyStrategy_9p, ButterflyStrategy_26p])"
   ]
  },
  {
   "cell_type": "code",
   "execution_count": 44,
   "metadata": {},
   "outputs": [
    {
     "name": "stdout",
     "output_type": "stream",
     "text": [
      "df.shape:  (2652, 5)\n",
      "Running backtest for TriplePatternStrategy_9p with max_periods=9\n"
     ]
    },
    {
     "data": {
      "application/vnd.jupyter.widget-view+json": {
       "model_id": "c1281aec34564c2c82290de5ea99d4a2",
       "version_major": 2,
       "version_minor": 0
      },
      "text/plain": [
       "FractionalBacktest.run:   0%|          | 0/2651 [00:00<?, ?bar/s]"
      ]
     },
     "metadata": {},
     "output_type": "display_data"
    },
    {
     "name": "stdout",
     "output_type": "stream",
     "text": [
      "Running backtest for TriplePatternStrategy_26p with max_periods=26\n"
     ]
    },
    {
     "name": "stderr",
     "output_type": "stream",
     "text": [
      "C:\\Users\\Admin\\AppData\\Roaming\\Python\\Python311\\site-packages\\bokeh\\util\\serialization.py:242: UserWarning: no explicit representation of timezones available for np.datetime64\n",
      "  return convert(array.astype(\"datetime64[us]\"))\n"
     ]
    },
    {
     "data": {
      "application/vnd.jupyter.widget-view+json": {
       "model_id": "7ebaebeff33043bb8788acdf9e1aee81",
       "version_major": 2,
       "version_minor": 0
      },
      "text/plain": [
       "FractionalBacktest.run:   0%|          | 0/2651 [00:00<?, ?bar/s]"
      ]
     },
     "metadata": {},
     "output_type": "display_data"
    },
    {
     "name": "stderr",
     "output_type": "stream",
     "text": [
      "C:\\Users\\Admin\\AppData\\Roaming\\Python\\Python311\\site-packages\\bokeh\\util\\serialization.py:242: UserWarning: no explicit representation of timezones available for np.datetime64\n",
      "  return convert(array.astype(\"datetime64[us]\"))\n"
     ]
    },
    {
     "name": "stdout",
     "output_type": "stream",
     "text": [
      "Running backtest for ButterflyStrategy_9p with max_periods=9\n"
     ]
    },
    {
     "data": {
      "application/vnd.jupyter.widget-view+json": {
       "model_id": "c4eb103629d24181ae2e5753489f1198",
       "version_major": 2,
       "version_minor": 0
      },
      "text/plain": [
       "FractionalBacktest.run:   0%|          | 0/2651 [00:00<?, ?bar/s]"
      ]
     },
     "metadata": {},
     "output_type": "display_data"
    },
    {
     "name": "stderr",
     "output_type": "stream",
     "text": [
      "C:\\Users\\Admin\\AppData\\Roaming\\Python\\Python311\\site-packages\\bokeh\\util\\serialization.py:242: UserWarning: no explicit representation of timezones available for np.datetime64\n",
      "  return convert(array.astype(\"datetime64[us]\"))\n"
     ]
    },
    {
     "name": "stdout",
     "output_type": "stream",
     "text": [
      "Running backtest for ButterflyStrategy_26p with max_periods=26\n"
     ]
    },
    {
     "data": {
      "application/vnd.jupyter.widget-view+json": {
       "model_id": "32b8aa1f4fd147ce88c1a0af6b5fd208",
       "version_major": 2,
       "version_minor": 0
      },
      "text/plain": [
       "FractionalBacktest.run:   0%|          | 0/2651 [00:00<?, ?bar/s]"
      ]
     },
     "metadata": {},
     "output_type": "display_data"
    },
    {
     "name": "stderr",
     "output_type": "stream",
     "text": [
      "C:\\Users\\Admin\\AppData\\Roaming\\Python\\Python311\\site-packages\\bokeh\\util\\serialization.py:242: UserWarning: no explicit representation of timezones available for np.datetime64\n",
      "  return convert(array.astype(\"datetime64[us]\"))\n"
     ]
    },
    {
     "name": "stdout",
     "output_type": "stream",
     "text": [
      "df.shape:  (2652, 5)\n",
      "Running backtest for TriplePatternStrategy_9p with max_periods=9\n"
     ]
    },
    {
     "data": {
      "application/vnd.jupyter.widget-view+json": {
       "model_id": "7709be879766419b85c7c6e1f54e136a",
       "version_major": 2,
       "version_minor": 0
      },
      "text/plain": [
       "FractionalBacktest.run:   0%|          | 0/2651 [00:00<?, ?bar/s]"
      ]
     },
     "metadata": {},
     "output_type": "display_data"
    },
    {
     "name": "stdout",
     "output_type": "stream",
     "text": [
      "Running backtest for TriplePatternStrategy_26p with max_periods=26\n"
     ]
    },
    {
     "name": "stderr",
     "output_type": "stream",
     "text": [
      "C:\\Users\\Admin\\AppData\\Roaming\\Python\\Python311\\site-packages\\bokeh\\util\\serialization.py:242: UserWarning: no explicit representation of timezones available for np.datetime64\n",
      "  return convert(array.astype(\"datetime64[us]\"))\n"
     ]
    },
    {
     "data": {
      "application/vnd.jupyter.widget-view+json": {
       "model_id": "614bc8ba46e94092b11733ab2aa010d0",
       "version_major": 2,
       "version_minor": 0
      },
      "text/plain": [
       "FractionalBacktest.run:   0%|          | 0/2651 [00:00<?, ?bar/s]"
      ]
     },
     "metadata": {},
     "output_type": "display_data"
    },
    {
     "name": "stderr",
     "output_type": "stream",
     "text": [
      "C:\\Users\\Admin\\AppData\\Roaming\\Python\\Python311\\site-packages\\bokeh\\util\\serialization.py:242: UserWarning: no explicit representation of timezones available for np.datetime64\n",
      "  return convert(array.astype(\"datetime64[us]\"))\n"
     ]
    },
    {
     "name": "stdout",
     "output_type": "stream",
     "text": [
      "Running backtest for ButterflyStrategy_9p with max_periods=9\n"
     ]
    },
    {
     "data": {
      "application/vnd.jupyter.widget-view+json": {
       "model_id": "a1c07fd0e4894b98ad35a59419b5456b",
       "version_major": 2,
       "version_minor": 0
      },
      "text/plain": [
       "FractionalBacktest.run:   0%|          | 0/2651 [00:00<?, ?bar/s]"
      ]
     },
     "metadata": {},
     "output_type": "display_data"
    },
    {
     "name": "stderr",
     "output_type": "stream",
     "text": [
      "C:\\Users\\Admin\\AppData\\Roaming\\Python\\Python311\\site-packages\\bokeh\\util\\serialization.py:242: UserWarning: no explicit representation of timezones available for np.datetime64\n",
      "  return convert(array.astype(\"datetime64[us]\"))\n"
     ]
    },
    {
     "name": "stdout",
     "output_type": "stream",
     "text": [
      "Running backtest for ButterflyStrategy_26p with max_periods=26\n"
     ]
    },
    {
     "data": {
      "application/vnd.jupyter.widget-view+json": {
       "model_id": "47a54083301d45528e6e026b8a1ed91d",
       "version_major": 2,
       "version_minor": 0
      },
      "text/plain": [
       "FractionalBacktest.run:   0%|          | 0/2651 [00:00<?, ?bar/s]"
      ]
     },
     "metadata": {},
     "output_type": "display_data"
    },
    {
     "name": "stderr",
     "output_type": "stream",
     "text": [
      "C:\\Users\\Admin\\AppData\\Roaming\\Python\\Python311\\site-packages\\backtesting\\lib.py:548: UserWarning: Some trades remain open at the end of backtest. Use `Backtest(..., finalize_trades=True)` to close them and include them in stats.\n",
      "  result = super().run(**kwargs)\n",
      "C:\\Users\\Admin\\AppData\\Roaming\\Python\\Python311\\site-packages\\bokeh\\util\\serialization.py:242: UserWarning: no explicit representation of timezones available for np.datetime64\n",
      "  return convert(array.astype(\"datetime64[us]\"))\n"
     ]
    }
   ],
   "source": [
    "symbols = ['ETHUSDT', 'HBARUSDT']  # , 'ETHUSDT'\n",
    "tfs = [\"1h\"]\n",
    "for symbol in symbols:\n",
    "    for tf in tfs:\n",
    "        a = backtest_function(symbol, tf, [TriplePatternStrategy_9p, TriplePatternStrategy_26p, ButterflyStrategy_9p, ButterflyStrategy_26p])"
   ]
  },
  {
   "cell_type": "code",
   "execution_count": 140,
   "metadata": {},
   "outputs": [],
   "source": [
    "df_4h = get_data_4_8(\"ETHUSDT\", \"4h\")\n",
    "bt = FractionalBacktest(df_4h, TriplePatternStrategy_9p, cash=10_000, commission=0.002, fractional_unit=0.01)\n",
    "df_4h_stat = bt.run()"
   ]
  },
  {
   "cell_type": "code",
   "execution_count": 141,
   "metadata": {},
   "outputs": [],
   "source": [
    "df_1d = get_data_4_8(\"ETHUSDT\", \"1d\")\n",
    "bt = FractionalBacktest(df_1d, TriplePatternStrategy_9p, cash=10_000, commission=0.002, fractional_unit=0.01)\n",
    "df_1d_stat = bt.run()"
   ]
  },
  {
   "cell_type": "code",
   "execution_count": 22,
   "metadata": {},
   "outputs": [
    {
     "data": {
      "text/html": [
       "<div>\n",
       "<style scoped>\n",
       "    .dataframe tbody tr th:only-of-type {\n",
       "        vertical-align: middle;\n",
       "    }\n",
       "\n",
       "    .dataframe tbody tr th {\n",
       "        vertical-align: top;\n",
       "    }\n",
       "\n",
       "    .dataframe thead th {\n",
       "        text-align: right;\n",
       "    }\n",
       "</style>\n",
       "<table border=\"1\" class=\"dataframe\">\n",
       "  <thead>\n",
       "    <tr style=\"text-align: right;\">\n",
       "      <th></th>\n",
       "      <th>Open</th>\n",
       "      <th>Close</th>\n",
       "      <th>High</th>\n",
       "      <th>Low</th>\n",
       "      <th>Volume</th>\n",
       "    </tr>\n",
       "    <tr>\n",
       "      <th>open_time</th>\n",
       "      <th></th>\n",
       "      <th></th>\n",
       "      <th></th>\n",
       "      <th></th>\n",
       "      <th></th>\n",
       "    </tr>\n",
       "  </thead>\n",
       "  <tbody>\n",
       "    <tr>\n",
       "      <th>2025-05-13 00:00:00+00:00</th>\n",
       "      <td>0.20554</td>\n",
       "      <td>0.21612</td>\n",
       "      <td>0.21857</td>\n",
       "      <td>0.20419</td>\n",
       "      <td>183175906.0</td>\n",
       "    </tr>\n",
       "    <tr>\n",
       "      <th>2025-08-28 00:00:00+00:00</th>\n",
       "      <td>0.23762</td>\n",
       "      <td>0.23922</td>\n",
       "      <td>0.24201</td>\n",
       "      <td>0.23540</td>\n",
       "      <td>134719322.0</td>\n",
       "    </tr>\n",
       "    <tr>\n",
       "      <th>2025-08-29 00:00:00+00:00</th>\n",
       "      <td>0.23922</td>\n",
       "      <td>0.22796</td>\n",
       "      <td>0.24037</td>\n",
       "      <td>0.22349</td>\n",
       "      <td>249640545.0</td>\n",
       "    </tr>\n",
       "    <tr>\n",
       "      <th>2025-08-30 00:00:00+00:00</th>\n",
       "      <td>0.22797</td>\n",
       "      <td>0.22574</td>\n",
       "      <td>0.22951</td>\n",
       "      <td>0.22028</td>\n",
       "      <td>107200716.0</td>\n",
       "    </tr>\n",
       "    <tr>\n",
       "      <th>2025-08-31 00:00:00+00:00</th>\n",
       "      <td>0.22575</td>\n",
       "      <td>0.21896</td>\n",
       "      <td>0.22871</td>\n",
       "      <td>0.21784</td>\n",
       "      <td>79075844.0</td>\n",
       "    </tr>\n",
       "  </tbody>\n",
       "</table>\n",
       "</div>"
      ],
      "text/plain": [
       "                              Open    Close     High      Low       Volume\n",
       "open_time                                                                 \n",
       "2025-05-13 00:00:00+00:00  0.20554  0.21612  0.21857  0.20419  183175906.0\n",
       "2025-08-28 00:00:00+00:00  0.23762  0.23922  0.24201  0.23540  134719322.0\n",
       "2025-08-29 00:00:00+00:00  0.23922  0.22796  0.24037  0.22349  249640545.0\n",
       "2025-08-30 00:00:00+00:00  0.22797  0.22574  0.22951  0.22028  107200716.0\n",
       "2025-08-31 00:00:00+00:00  0.22575  0.21896  0.22871  0.21784   79075844.0"
      ]
     },
     "execution_count": 22,
     "metadata": {},
     "output_type": "execute_result"
    }
   ],
   "source": [
    "df"
   ]
  },
  {
   "cell_type": "code",
   "execution_count": null,
   "metadata": {},
   "outputs": [],
   "source": [
    "df."
   ]
  },
  {
   "cell_type": "code",
   "execution_count": null,
   "metadata": {},
   "outputs": [],
   "source": []
  }
 ],
 "metadata": {
  "kernelspec": {
   "display_name": "Python 3",
   "language": "python",
   "name": "python3"
  },
  "language_info": {
   "codemirror_mode": {
    "name": "ipython",
    "version": 3
   },
   "file_extension": ".py",
   "mimetype": "text/x-python",
   "name": "python",
   "nbconvert_exporter": "python",
   "pygments_lexer": "ipython3",
   "version": "3.11.2"
  }
 },
 "nbformat": 4,
 "nbformat_minor": 2
}
