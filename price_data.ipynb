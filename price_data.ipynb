{
 "cells": [
  {
   "cell_type": "code",
   "execution_count": 1,
   "metadata": {},
   "outputs": [
    {
     "name": "stderr",
     "output_type": "stream",
     "text": [
      "C:\\Users\\Admin\\AppData\\Roaming\\Python\\Python311\\site-packages\\backtesting\\_plotting.py:55: UserWarning: Jupyter Notebook detected. Setting Bokeh output to notebook. This may not work in Jupyter clients without JavaScript support, such as old IDEs. Reset with `backtesting.set_bokeh_output(notebook=False)`.\n",
      "  warnings.warn('Jupyter Notebook detected. '\n"
     ]
    },
    {
     "data": {
      "text/html": [
       "    <style>\n",
       "        .bk-notebook-logo {\n",
       "            display: block;\n",
       "            width: 20px;\n",
       "            height: 20px;\n",
       "            background-image: url(data:image/png;base64,iVBORw0KGgoAAAANSUhEUgAAABQAAAAUCAYAAACNiR0NAAAABHNCSVQICAgIfAhkiAAAAAlwSFlzAAALEgAACxIB0t1+/AAAABx0RVh0U29mdHdhcmUAQWRvYmUgRmlyZXdvcmtzIENTNui8sowAAAOkSURBVDiNjZRtaJVlGMd/1/08zzln5zjP1LWcU9N0NkN8m2CYjpgQYQXqSs0I84OLIC0hkEKoPtiH3gmKoiJDU7QpLgoLjLIQCpEsNJ1vqUOdO7ppbuec5+V+rj4ctwzd8IIbbi6u+8f1539dt3A78eXC7QizUF7gyV1fD1Yqg4JWz84yffhm0qkFqBogB9rM8tZdtwVsPUhWhGcFJngGeWrPzHm5oaMmkfEg1usvLFyc8jLRqDOMru7AyC8saQr7GG7f5fvDeH7Ej8CM66nIF+8yngt6HWaKh7k49Soy9nXurCi1o3qUbS3zWfrYeQDTB/Qj6kX6Ybhw4B+bOYoLKCC9H3Nu/leUTZ1JdRWkkn2ldcCamzrcf47KKXdAJllSlxAOkRgyHsGC/zRday5Qld9DyoM4/q/rUoy/CXh3jzOu3bHUVZeU+DEn8FInkPBFlu3+nW3Nw0mk6vCDiWg8CeJaxEwuHS3+z5RgY+YBR6V1Z1nxSOfoaPa4LASWxxdNp+VWTk7+4vzaou8v8PN+xo+KY2xsw6une2frhw05CTYOmQvsEhjhWjn0bmXPjpE1+kplmmkP3suftwTubK9Vq22qKmrBhpY4jvd5afdRA3wGjFAgcnTK2s4hY0/GPNIb0nErGMCRxWOOX64Z8RAC4oCXdklmEvcL8o0BfkNK4lUg9HTl+oPlQxdNo3Mg4Nv175e/1LDGzZen30MEjRUtmXSfiTVu1kK8W4txyV6BMKlbgk3lMwYCiusNy9fVfvvwMxv8Ynl6vxoByANLTWplvuj/nF9m2+PDtt1eiHPBr1oIfhCChQMBw6Aw0UulqTKZdfVvfG7VcfIqLG9bcldL/+pdWTLxLUy8Qq38heUIjh4XlzZxzQm19lLFlr8vdQ97rjZVOLf8nclzckbcD4wxXMidpX30sFd37Fv/GtwwhzhxGVAprjbg0gCAEeIgwCZyTV2Z1REEW8O4py0wsjeloKoMr6iCY6dP92H6Vw/oTyICIthibxjm/DfN9lVz8IqtqKYLUXfoKVMVQVVJOElGjrnnUt9T9wbgp8AyYKaGlqingHZU/uG2NTZSVqwHQTWkx9hxjkpWDaCg6Ckj5qebgBVbT3V3NNXMSiWSDdGV3hrtzla7J+duwPOToIg42ChPQOQjspnSlp1V+Gjdged7+8UN5CRAV7a5EdFNwCjEaBR27b3W890TE7g24NAP/mMDXRWrGoFPQI9ls/MWO2dWFAar/xcOIImbbpA3zgAAAABJRU5ErkJggg==);\n",
       "        }\n",
       "    </style>\n",
       "    <div>\n",
       "        <a href=\"https://bokeh.org\" target=\"_blank\" class=\"bk-notebook-logo\"></a>\n",
       "        <span id=\"dfd956f7-f25b-46f8-bf64-1ce3eac597a6\">Loading BokehJS ...</span>\n",
       "    </div>\n"
      ]
     },
     "metadata": {},
     "output_type": "display_data"
    },
    {
     "data": {
      "application/javascript": "'use strict';\n(function(root) {\n  function now() {\n    return new Date();\n  }\n\n  const force = true;\n\n  if (typeof root._bokeh_onload_callbacks === \"undefined\" || force === true) {\n    root._bokeh_onload_callbacks = [];\n    root._bokeh_is_loading = undefined;\n  }\n\nconst JS_MIME_TYPE = 'application/javascript';\n  const HTML_MIME_TYPE = 'text/html';\n  const EXEC_MIME_TYPE = 'application/vnd.bokehjs_exec.v0+json';\n  const CLASS_NAME = 'output_bokeh rendered_html';\n\n  /**\n   * Render data to the DOM node\n   */\n  function render(props, node) {\n    const script = document.createElement(\"script\");\n    node.appendChild(script);\n  }\n\n  /**\n   * Handle when an output is cleared or removed\n   */\n  function handleClearOutput(event, handle) {\n    function drop(id) {\n      const view = Bokeh.index.get_by_id(id)\n      if (view != null) {\n        view.model.document.clear()\n        Bokeh.index.delete(view)\n      }\n    }\n\n    const cell = handle.cell;\n\n    const id = cell.output_area._bokeh_element_id;\n    const server_id = cell.output_area._bokeh_server_id;\n\n    // Clean up Bokeh references\n    if (id != null) {\n      drop(id)\n    }\n\n    if (server_id !== undefined) {\n      // Clean up Bokeh references\n      const cmd_clean = \"from bokeh.io.state import curstate; print(curstate().uuid_to_server['\" + server_id + \"'].get_sessions()[0].document.roots[0]._id)\";\n      cell.notebook.kernel.execute(cmd_clean, {\n        iopub: {\n          output: function(msg) {\n            const id = msg.content.text.trim()\n            drop(id)\n          }\n        }\n      });\n      // Destroy server and session\n      const cmd_destroy = \"import bokeh.io.notebook as ion; ion.destroy_server('\" + server_id + \"')\";\n      cell.notebook.kernel.execute(cmd_destroy);\n    }\n  }\n\n  /**\n   * Handle when a new output is added\n   */\n  function handleAddOutput(event, handle) {\n    const output_area = handle.output_area;\n    const output = handle.output;\n\n    // limit handleAddOutput to display_data with EXEC_MIME_TYPE content only\n    if ((output.output_type != \"display_data\") || (!Object.prototype.hasOwnProperty.call(output.data, EXEC_MIME_TYPE))) {\n      return\n    }\n\n    const toinsert = output_area.element.find(\".\" + CLASS_NAME.split(' ')[0]);\n\n    if (output.metadata[EXEC_MIME_TYPE][\"id\"] !== undefined) {\n      toinsert[toinsert.length - 1].firstChild.textContent = output.data[JS_MIME_TYPE];\n      // store reference to embed id on output_area\n      output_area._bokeh_element_id = output.metadata[EXEC_MIME_TYPE][\"id\"];\n    }\n    if (output.metadata[EXEC_MIME_TYPE][\"server_id\"] !== undefined) {\n      const bk_div = document.createElement(\"div\");\n      bk_div.innerHTML = output.data[HTML_MIME_TYPE];\n      const script_attrs = bk_div.children[0].attributes;\n      for (let i = 0; i < script_attrs.length; i++) {\n        toinsert[toinsert.length - 1].firstChild.setAttribute(script_attrs[i].name, script_attrs[i].value);\n        toinsert[toinsert.length - 1].firstChild.textContent = bk_div.children[0].textContent\n      }\n      // store reference to server id on output_area\n      output_area._bokeh_server_id = output.metadata[EXEC_MIME_TYPE][\"server_id\"];\n    }\n  }\n\n  function register_renderer(events, OutputArea) {\n\n    function append_mime(data, metadata, element) {\n      // create a DOM node to render to\n      const toinsert = this.create_output_subarea(\n        metadata,\n        CLASS_NAME,\n        EXEC_MIME_TYPE\n      );\n      this.keyboard_manager.register_events(toinsert);\n      // Render to node\n      const props = {data: data, metadata: metadata[EXEC_MIME_TYPE]};\n      render(props, toinsert[toinsert.length - 1]);\n      element.append(toinsert);\n      return toinsert\n    }\n\n    /* Handle when an output is cleared or removed */\n    events.on('clear_output.CodeCell', handleClearOutput);\n    events.on('delete.Cell', handleClearOutput);\n\n    /* Handle when a new output is added */\n    events.on('output_added.OutputArea', handleAddOutput);\n\n    /**\n     * Register the mime type and append_mime function with output_area\n     */\n    OutputArea.prototype.register_mime_type(EXEC_MIME_TYPE, append_mime, {\n      /* Is output safe? */\n      safe: true,\n      /* Index of renderer in `output_area.display_order` */\n      index: 0\n    });\n  }\n\n  // register the mime type if in Jupyter Notebook environment and previously unregistered\n  if (root.Jupyter !== undefined) {\n    const events = require('base/js/events');\n    const OutputArea = require('notebook/js/outputarea').OutputArea;\n\n    if (OutputArea.prototype.mime_types().indexOf(EXEC_MIME_TYPE) == -1) {\n      register_renderer(events, OutputArea);\n    }\n  }\n  if (typeof (root._bokeh_timeout) === \"undefined\" || force === true) {\n    root._bokeh_timeout = Date.now() + 5000;\n    root._bokeh_failed_load = false;\n  }\n\n  const NB_LOAD_WARNING = {'data': {'text/html':\n     \"<div style='background-color: #fdd'>\\n\"+\n     \"<p>\\n\"+\n     \"BokehJS does not appear to have successfully loaded. If loading BokehJS from CDN, this \\n\"+\n     \"may be due to a slow or bad network connection. Possible fixes:\\n\"+\n     \"</p>\\n\"+\n     \"<ul>\\n\"+\n     \"<li>re-rerun `output_notebook()` to attempt to load from CDN again, or</li>\\n\"+\n     \"<li>use INLINE resources instead, as so:</li>\\n\"+\n     \"</ul>\\n\"+\n     \"<code>\\n\"+\n     \"from bokeh.resources import INLINE\\n\"+\n     \"output_notebook(resources=INLINE)\\n\"+\n     \"</code>\\n\"+\n     \"</div>\"}};\n\n  function display_loaded(error = null) {\n    const el = document.getElementById(\"dfd956f7-f25b-46f8-bf64-1ce3eac597a6\");\n    if (el != null) {\n      const html = (() => {\n        if (typeof root.Bokeh === \"undefined\") {\n          if (error == null) {\n            return \"BokehJS is loading ...\";\n          } else {\n            return \"BokehJS failed to load.\";\n          }\n        } else {\n          const prefix = `BokehJS ${root.Bokeh.version}`;\n          if (error == null) {\n            return `${prefix} successfully loaded.`;\n          } else {\n            return `${prefix} <b>encountered errors</b> while loading and may not function as expected.`;\n          }\n        }\n      })();\n      el.innerHTML = html;\n\n      if (error != null) {\n        const wrapper = document.createElement(\"div\");\n        wrapper.style.overflow = \"auto\";\n        wrapper.style.height = \"5em\";\n        wrapper.style.resize = \"vertical\";\n        const content = document.createElement(\"div\");\n        content.style.fontFamily = \"monospace\";\n        content.style.whiteSpace = \"pre-wrap\";\n        content.style.backgroundColor = \"rgb(255, 221, 221)\";\n        content.textContent = error.stack ?? error.toString();\n        wrapper.append(content);\n        el.append(wrapper);\n      }\n    } else if (Date.now() < root._bokeh_timeout) {\n      setTimeout(() => display_loaded(error), 100);\n    }\n  }\n\n  function run_callbacks() {\n    try {\n      root._bokeh_onload_callbacks.forEach(function(callback) {\n        if (callback != null)\n          callback();\n      });\n    } finally {\n      delete root._bokeh_onload_callbacks\n    }\n    console.debug(\"Bokeh: all callbacks have finished\");\n  }\n\n  function load_libs(css_urls, js_urls, callback) {\n    if (css_urls == null) css_urls = [];\n    if (js_urls == null) js_urls = [];\n\n    root._bokeh_onload_callbacks.push(callback);\n    if (root._bokeh_is_loading > 0) {\n      console.debug(\"Bokeh: BokehJS is being loaded, scheduling callback at\", now());\n      return null;\n    }\n    if (js_urls == null || js_urls.length === 0) {\n      run_callbacks();\n      return null;\n    }\n    console.debug(\"Bokeh: BokehJS not loaded, scheduling load and callback at\", now());\n    root._bokeh_is_loading = css_urls.length + js_urls.length;\n\n    function on_load() {\n      root._bokeh_is_loading--;\n      if (root._bokeh_is_loading === 0) {\n        console.debug(\"Bokeh: all BokehJS libraries/stylesheets loaded\");\n        run_callbacks()\n      }\n    }\n\n    function on_error(url) {\n      console.error(\"failed to load \" + url);\n    }\n\n    for (let i = 0; i < css_urls.length; i++) {\n      const url = css_urls[i];\n      const element = document.createElement(\"link\");\n      element.onload = on_load;\n      element.onerror = on_error.bind(null, url);\n      element.rel = \"stylesheet\";\n      element.type = \"text/css\";\n      element.href = url;\n      console.debug(\"Bokeh: injecting link tag for BokehJS stylesheet: \", url);\n      document.body.appendChild(element);\n    }\n\n    for (let i = 0; i < js_urls.length; i++) {\n      const url = js_urls[i];\n      const element = document.createElement('script');\n      element.onload = on_load;\n      element.onerror = on_error.bind(null, url);\n      element.async = false;\n      element.src = url;\n      console.debug(\"Bokeh: injecting script tag for BokehJS library: \", url);\n      document.head.appendChild(element);\n    }\n  };\n\n  function inject_raw_css(css) {\n    const element = document.createElement(\"style\");\n    element.appendChild(document.createTextNode(css));\n    document.body.appendChild(element);\n  }\n\n  const js_urls = [\"https://cdn.bokeh.org/bokeh/release/bokeh-3.7.3.min.js\", \"https://cdn.bokeh.org/bokeh/release/bokeh-gl-3.7.3.min.js\", \"https://cdn.bokeh.org/bokeh/release/bokeh-widgets-3.7.3.min.js\", \"https://cdn.bokeh.org/bokeh/release/bokeh-tables-3.7.3.min.js\", \"https://cdn.bokeh.org/bokeh/release/bokeh-mathjax-3.7.3.min.js\"];\n  const css_urls = [];\n\n  const inline_js = [    function(Bokeh) {\n      Bokeh.set_log_level(\"info\");\n    },\nfunction(Bokeh) {\n    }\n  ];\n\n  function run_inline_js() {\n    if (root.Bokeh !== undefined || force === true) {\n      try {\n            for (let i = 0; i < inline_js.length; i++) {\n      inline_js[i].call(root, root.Bokeh);\n    }\n\n      } catch (error) {display_loaded(error);throw error;\n      }if (force === true) {\n        display_loaded();\n      }} else if (Date.now() < root._bokeh_timeout) {\n      setTimeout(run_inline_js, 100);\n    } else if (!root._bokeh_failed_load) {\n      console.log(\"Bokeh: BokehJS failed to load within specified timeout.\");\n      root._bokeh_failed_load = true;\n    } else if (force !== true) {\n      const cell = $(document.getElementById(\"dfd956f7-f25b-46f8-bf64-1ce3eac597a6\")).parents('.cell').data().cell;\n      cell.output_area.append_execute_result(NB_LOAD_WARNING)\n    }\n  }\n\n  if (root._bokeh_is_loading === 0) {\n    console.debug(\"Bokeh: BokehJS loaded, going straight to plotting\");\n    run_inline_js();\n  } else {\n    load_libs(css_urls, js_urls, function() {\n      console.debug(\"Bokeh: BokehJS plotting callback run at\", now());\n      run_inline_js();\n    });\n  }\n}(window));",
      "application/vnd.bokehjs_load.v0+json": ""
     },
     "metadata": {},
     "output_type": "display_data"
    }
   ],
   "source": [
    "import os\n",
    "import numpy as np\n",
    "from scipy.signal import find_peaks\n",
    "from backtesting import Backtest, Strategy\n",
    "from backtesting.lib import FractionalBacktest\n"
   ]
  },
  {
   "cell_type": "markdown",
   "metadata": {},
   "source": [
    "# Data"
   ]
  },
  {
   "cell_type": "code",
   "execution_count": 2,
   "metadata": {},
   "outputs": [],
   "source": [
    "from sqlalchemy import create_engine\n",
    "from dotenv import load_dotenv\n",
    "load_dotenv()\n",
    "\n",
    "DB_URL = os.getenv('DB_URL')\n",
    "\n",
    "engine = create_engine(\n",
    "    DB_URL,\n",
    "    pool_pre_ping=True,   # checks connection before using\n",
    "    pool_recycle=1800,    # optional: avoids stale timeouts\n",
    "    connect_args={\"check_same_thread\": False} if \"sqlite\" in DB_URL else {},\n",
    ")\n",
    "# engine"
   ]
  },
  {
   "cell_type": "code",
   "execution_count": 3,
   "metadata": {},
   "outputs": [],
   "source": [
    "import pandas as pd\n",
    "from datetime import datetime\n",
    "SCHEMA = 'proddb.'\n",
    "tables = {\n",
    "    'p5m': SCHEMA+'coin_prices_5m',\n",
    "    'p1h': SCHEMA+'coin_prices_1h',\n",
    "    'f5m': SCHEMA+'f_coin_signal_5m',\n",
    "    'f10m': SCHEMA+'f_coin_signal_10m',\n",
    "    'f15m': SCHEMA+'f_coin_signal_15m',\n",
    "    'f30m': SCHEMA+'f_coin_signal_30m',\n",
    "    'f1h': SCHEMA+'f_coin_signal_1h',\n",
    "    'f4h': SCHEMA+'f_coin_signal_4h',\n",
    "    'f1d': SCHEMA+'f_coin_signal_1d',\n",
    "    'f1D': SCHEMA+'f_coin_signal_1d',\n",
    "    'orders': SCHEMA+'trade_orders_sim',\n",
    "    'tp_by_sess': SCHEMA+'trade_orders_tp_by_session',\n",
    "    }\n",
    "\n",
    "from_time = int(datetime(2025, 4, 1, 0, 0, 0).timestamp())\n",
    "to_time = int(datetime(2025, 9, 1, 0, 0, 0).timestamp())\n",
    "from_time, to_time\n",
    "def get_data_4_8(symbol, tf='f1h', extr_cols=[]):\n",
    "    try:\n",
    "        table = tables[tf]\n",
    "    except Exception as e:\n",
    "        print(e)\n",
    "        return tables['p1h']\n",
    "    \n",
    "    if len(extr_cols) > 0:\n",
    "        extr_cols_str = ', ' + ', '.join(extr_cols)\n",
    "    else:\n",
    "        extr_cols_str = ''\n",
    "\n",
    "    df = pd.read_sql(f\"\"\"\n",
    "            select TO_TIMESTAMP(open_time) as open_time, open as Open, close as Close,\n",
    "                high  as High, low as Low, volume as Volume \n",
    "                {extr_cols_str}\n",
    "            from {table} \n",
    "            where open_time >= {from_time} and open_time < {to_time}\n",
    "                and symbol = '{symbol}'\n",
    "            order by open_time asc\n",
    "        \"\"\",\n",
    "        engine, \n",
    "        index_col=\"open_time\")\n",
    "    df.rename(columns={\n",
    "        'open': 'Open',\n",
    "        'close': 'Close',\n",
    "        'high': 'High',\n",
    "        'low': 'Low',\n",
    "        'volume': 'Volume',\n",
    "        'rsi7': 'rsi'\n",
    "    }, inplace=True)\n",
    "    return df\n",
    "df = get_data_4_8('HBARUSDT', 'f1h', ['rsi7', 'rsi14', 'adx'])"
   ]
  },
  {
   "cell_type": "code",
   "execution_count": 5,
   "metadata": {},
   "outputs": [],
   "source": [
    "import requests\n",
    "\n",
    "# 0xd4e31cb3c21831503b3d699e595363aa7f807104\n",
    "\n",
    "# # \"https://api.geckoterminal.com/api/v2/networks/hedera-hashgraph/pools/0xb4e267d955b0bbbc1ba5f39f9c92cc8369a1f712/ohlcv/minute?aggregate=5&before_timestamp=1751352000&limit=5&include_empty_intervals=true\"\n",
    "# \"https://api.geckoterminal.com/api/v2/networks/hedera-hashgraph/pools/0xb4e267d955b0bbbc1ba5f39f9c92cc8369a1f712/ohlcv/minute?aggregate=5&before_timestamp=1751352000&limit=5&include_empty_intervals=true\"\n"
   ]
  },
  {
   "cell_type": "code",
   "execution_count": null,
   "metadata": {},
   "outputs": [
    {
     "data": {
      "text/plain": [
       "(1758876711,\n",
       " {'data': {'id': '72d1885f-4ea5-4a6a-a7b3-58eb2cff27ca',\n",
       "   'type': 'ohlcv_request_response',\n",
       "   'attributes': {'ohlcv_list': [[1758798000,\n",
       "      3565.57838614367,\n",
       "      3565.57838614367,\n",
       "      3537.53117582805,\n",
       "      3537.53117582805,\n",
       "      0.00247627182307963],\n",
       "     [1758794400,\n",
       "      3502.97648728935,\n",
       "      3565.57838614367,\n",
       "      3502.97648728935,\n",
       "      3565.57838614367,\n",
       "      0.00249590487030057],\n",
       "     [1758790800,\n",
       "      3502.97648728935,\n",
       "      3502.97648728935,\n",
       "      3502.97648728935,\n",
       "      3502.97648728935,\n",
       "      0.0],\n",
       "     [1758787200,\n",
       "      3502.97648728935,\n",
       "      3502.97648728935,\n",
       "      3502.97648728935,\n",
       "      3502.97648728935,\n",
       "      0.0],\n",
       "     [1758783600,\n",
       "      3502.97648728935,\n",
       "      3502.97648728935,\n",
       "      3502.97648728935,\n",
       "      3502.97648728935,\n",
       "      0.0]]}},\n",
       "  'meta': {'base': {'address': '0x000000000000000000000000000000000008437c',\n",
       "    'name': 'Wrapped Ether[hts]',\n",
       "    'symbol': 'WETH[hts]',\n",
       "    'coingecko_coin_id': None},\n",
       "   'quote': {'address': '0x000000000000000000000000000000000006f89a',\n",
       "    'name': 'USD Coin',\n",
       "    'symbol': 'USDC',\n",
       "    'coingecko_coin_id': 'bridged-usdc'}}})"
      ]
     },
     "execution_count": 27,
     "metadata": {},
     "output_type": "execute_result"
    }
   ],
   "source": [
    "coingecko_url = \"https://api.geckoterminal.com/api/v2/networks/hedera-hashgraph/pools/{pool_id}/ohlcv/{timeframe}?aggregate={aggregate}&before_timestamp={before_timestamp}&limit={limit}&include_empty_intervals=true\"\n",
    "\n",
    "\n",
    "end_time = int(datetime.now().timestamp())\n",
    "url = coingecko_url.format(\n",
    "    pool_id='0xb7cdd448e06c5cc82e12e8fe1d124281b2c4c3c3',  # WETH/USDC v1\n",
    "    timeframe = 'hour',\n",
    "    aggregate=1,\n",
    "    before_timestamp=end_time,\n",
    "    limit=5,\n",
    "    )\n",
    "response = requests.get(url)\n",
    "end_time, response.json()"
   ]
  },
  {
   "cell_type": "code",
   "execution_count": null,
   "metadata": {},
   "outputs": [
    {
     "data": {
      "text/plain": [
       "{'data': {'id': 'a0d4a404-184a-449a-a3e2-daa1705d086e',\n",
       "  'type': 'ohlcv_request_response',\n",
       "  'attributes': {'ohlcv_list': [[1758801000,\n",
       "     3565.57838614367,\n",
       "     3565.57838614367,\n",
       "     3537.53117582805,\n",
       "     3537.53117582805,\n",
       "     0.00247627182307963],\n",
       "    [1758800700,\n",
       "     3565.57838614367,\n",
       "     3565.57838614367,\n",
       "     3565.57838614367,\n",
       "     3565.57838614367,\n",
       "     0.0],\n",
       "    [1758800400,\n",
       "     3565.57838614367,\n",
       "     3565.57838614367,\n",
       "     3565.57838614367,\n",
       "     3565.57838614367,\n",
       "     0.0],\n",
       "    [1758800100,\n",
       "     3565.57838614367,\n",
       "     3565.57838614367,\n",
       "     3565.57838614367,\n",
       "     3565.57838614367,\n",
       "     0.0],\n",
       "    [1758799800,\n",
       "     3565.57838614367,\n",
       "     3565.57838614367,\n",
       "     3565.57838614367,\n",
       "     3565.57838614367,\n",
       "     0.0]]}},\n",
       " 'meta': {'base': {'address': '0x000000000000000000000000000000000008437c',\n",
       "   'name': 'Wrapped Ether[hts]',\n",
       "   'symbol': 'WETH[hts]',\n",
       "   'coingecko_coin_id': None},\n",
       "  'quote': {'address': '0x000000000000000000000000000000000006f89a',\n",
       "   'name': 'USD Coin',\n",
       "   'symbol': 'USDC',\n",
       "   'coingecko_coin_id': 'bridged-usdc'}}}"
      ]
     },
     "execution_count": 13,
     "metadata": {},
     "output_type": "execute_result"
    }
   ],
   "source": [
    "end_time = int(datetime.now().timestamp())\n",
    "url = coingecko_url.format(\n",
    "    pool_id='0x8811f36a4bd217ca3e2334522ba16dc3dc127174',  # WETH/WHBAR v1\n",
    "    timeframe = 'hour',\n",
    "    aggregate=1,\n",
    "    before_timestamp=end_time-3600*24*30,\n",
    "    limit=5,\n",
    "    )\n",
    "response = requests.get(url)\n",
    "end_time, response.json()"
   ]
  },
  {
   "cell_type": "code",
   "execution_count": 28,
   "metadata": {},
   "outputs": [],
   "source": [
    "import json "
   ]
  },
  {
   "cell_type": "code",
   "execution_count": 31,
   "metadata": {},
   "outputs": [
    {
     "data": {
      "text/plain": [
       "'{\"a\": 1, \"b\": 2, \"c\": 3, \"d\": 4, \"e\": 5, \"f\": 6, \"g\": 7}'"
      ]
     },
     "execution_count": 31,
     "metadata": {},
     "output_type": "execute_result"
    }
   ],
   "source": [
    "a={\n",
    "    'a': 1,\n",
    "    'b': 2,\n",
    "    'c': 3,\n",
    "    'd': 4,\n",
    "    'e': 5,\n",
    "    'f': 6,\n",
    "    'g': 7,\n",
    "}\n",
    "\n",
    "json.dumps(a)"
   ]
  },
  {
   "cell_type": "code",
   "execution_count": 33,
   "metadata": {},
   "outputs": [
    {
     "data": {
      "text/plain": [
       "113"
      ]
     },
     "execution_count": 33,
     "metadata": {},
     "output_type": "execute_result"
    }
   ],
   "source": [
    "amount_in = 100\n",
    "best_paths = [a]\n",
    "line = f\"time: {datetime.now().strftime('%Y-%m-%d %H:%M:%S')}, amount_in: {amount_in}, best_paths: {json.dumps(best_paths)}\"\n",
    "open('best_paths.log', 'a').write(line)\n"
   ]
  },
  {
   "cell_type": "code",
   "execution_count": null,
   "metadata": {},
   "outputs": [],
   "source": []
  }
 ],
 "metadata": {
  "kernelspec": {
   "display_name": "Python 3",
   "language": "python",
   "name": "python3"
  },
  "language_info": {
   "codemirror_mode": {
    "name": "ipython",
    "version": 3
   },
   "file_extension": ".py",
   "mimetype": "text/x-python",
   "name": "python",
   "nbconvert_exporter": "python",
   "pygments_lexer": "ipython3",
   "version": "3.11.2"
  }
 },
 "nbformat": 4,
 "nbformat_minor": 2
}
