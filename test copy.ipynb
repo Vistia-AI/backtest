{
 "cells": [
  {
   "cell_type": "code",
   "execution_count": null,
   "metadata": {},
   "outputs": [],
   "source": [
    "import os\n",
    "import numpy as np\n",
    "from scipy.signal import find_peaks\n",
    "from backtesting import Backtest, Strategy\n",
    "from backtesting.lib import FractionalBacktest\n"
   ]
  },
  {
   "cell_type": "markdown",
   "metadata": {},
   "source": [
    "# Data"
   ]
  },
  {
   "cell_type": "code",
   "execution_count": 68,
   "metadata": {},
   "outputs": [],
   "source": [
    "from sqlalchemy import create_engine\n",
    "from dotenv import load_dotenv\n",
    "load_dotenv()\n",
    "\n",
    "DB_URL = os.getenv('DB_URL')\n",
    "\n",
    "engine = create_engine(\n",
    "    DB_URL,\n",
    "    pool_pre_ping=True,   # checks connection before using\n",
    "    pool_recycle=1800,    # optional: avoids stale timeouts\n",
    "    connect_args={\"check_same_thread\": False} if \"sqlite\" in DB_URL else {},\n",
    ")\n",
    "# engine"
   ]
  },
  {
   "cell_type": "code",
   "execution_count": 69,
   "metadata": {},
   "outputs": [],
   "source": [
    "import pandas as pd\n",
    "from datetime import datetime\n",
    "SCHEMA = 'proddb.'\n",
    "tables = {\n",
    "    'p5m': SCHEMA+'coin_prices_5m',\n",
    "    'p1h': SCHEMA+'coin_prices_1h',\n",
    "    'f5m': SCHEMA+'f_coin_signal_5m',\n",
    "    'f10m': SCHEMA+'f_coin_signal_10m',\n",
    "    'f15m': SCHEMA+'f_coin_signal_15m',\n",
    "    'f30m': SCHEMA+'f_coin_signal_30m',\n",
    "    'f1h': SCHEMA+'f_coin_signal_1h',\n",
    "    'f4h': SCHEMA+'f_coin_signal_4h',\n",
    "    'f1d': SCHEMA+'f_coin_signal_1d',\n",
    "    'f1D': SCHEMA+'f_coin_signal_1d',\n",
    "    'orders': SCHEMA+'trade_orders_sim',\n",
    "    'tp_by_sess': SCHEMA+'trade_orders_tp_by_session',\n",
    "    }\n",
    "\n",
    "from_time = int(datetime(2025, 4, 1, 0, 0, 0).timestamp())\n",
    "to_time = int(datetime(2025, 9, 1, 0, 0, 0).timestamp())\n",
    "from_time, to_time\n",
    "def get_data_4_8(symbol, tf='f1h', extr_cols=[]):\n",
    "    try:\n",
    "        table = tables[tf]\n",
    "    except Exception as e:\n",
    "        print(e)\n",
    "        return tables['p1h']\n",
    "    \n",
    "    if len(extr_cols) > 0:\n",
    "        extr_cols_str = ', ' + ', '.join(extr_cols)\n",
    "    else:\n",
    "        extr_cols_str = ''\n",
    "\n",
    "    df = pd.read_sql(f\"\"\"\n",
    "            select TO_TIMESTAMP(open_time) as open_time, open as Open, close as Close,\n",
    "                high  as High, low as Low, volume as Volume \n",
    "                {extr_cols_str}\n",
    "            from {table} \n",
    "            where open_time >= {from_time} and open_time < {to_time}\n",
    "                and symbol = '{symbol}'\n",
    "            order by open_time asc\n",
    "        \"\"\",\n",
    "        engine, \n",
    "        index_col=\"open_time\")\n",
    "    df.rename(columns={\n",
    "        'open': 'Open',\n",
    "        'close': 'Close',\n",
    "        'high': 'High',\n",
    "        'low': 'Low',\n",
    "        'volume': 'Volume',\n",
    "        'rsi7': 'rsi'\n",
    "    }, inplace=True)\n",
    "    return df\n",
    "df = get_data_4_8('HBARUSDT', 'f1h', ['rsi7', 'rsi14', 'adx'])"
   ]
  },
  {
   "cell_type": "code",
   "execution_count": 70,
   "metadata": {},
   "outputs": [
    {
     "data": {
      "text/html": [
       "<div>\n",
       "<style scoped>\n",
       "    .dataframe tbody tr th:only-of-type {\n",
       "        vertical-align: middle;\n",
       "    }\n",
       "\n",
       "    .dataframe tbody tr th {\n",
       "        vertical-align: top;\n",
       "    }\n",
       "\n",
       "    .dataframe thead th {\n",
       "        text-align: right;\n",
       "    }\n",
       "</style>\n",
       "<table border=\"1\" class=\"dataframe\">\n",
       "  <thead>\n",
       "    <tr style=\"text-align: right;\">\n",
       "      <th></th>\n",
       "      <th>Open</th>\n",
       "      <th>Close</th>\n",
       "      <th>High</th>\n",
       "      <th>Low</th>\n",
       "      <th>Volume</th>\n",
       "      <th>rsi</th>\n",
       "      <th>rsi14</th>\n",
       "      <th>adx</th>\n",
       "    </tr>\n",
       "    <tr>\n",
       "      <th>open_time</th>\n",
       "      <th></th>\n",
       "      <th></th>\n",
       "      <th></th>\n",
       "      <th></th>\n",
       "      <th></th>\n",
       "      <th></th>\n",
       "      <th></th>\n",
       "      <th></th>\n",
       "    </tr>\n",
       "  </thead>\n",
       "  <tbody>\n",
       "    <tr>\n",
       "      <th>2025-05-13 05:00:00+00:00</th>\n",
       "      <td>0.20554</td>\n",
       "      <td>0.20539</td>\n",
       "      <td>0.20610</td>\n",
       "      <td>0.20419</td>\n",
       "      <td>5471093.0</td>\n",
       "      <td>0.000000</td>\n",
       "      <td>0.000000</td>\n",
       "      <td>0.000000</td>\n",
       "    </tr>\n",
       "    <tr>\n",
       "      <th>2025-05-13 06:00:00+00:00</th>\n",
       "      <td>0.20539</td>\n",
       "      <td>0.20618</td>\n",
       "      <td>0.20773</td>\n",
       "      <td>0.20522</td>\n",
       "      <td>8284475.0</td>\n",
       "      <td>100.000000</td>\n",
       "      <td>100.000000</td>\n",
       "      <td>1.714952</td>\n",
       "    </tr>\n",
       "    <tr>\n",
       "      <th>2025-05-13 07:00:00+00:00</th>\n",
       "      <td>0.20617</td>\n",
       "      <td>0.20677</td>\n",
       "      <td>0.20905</td>\n",
       "      <td>0.20599</td>\n",
       "      <td>6642622.0</td>\n",
       "      <td>100.000000</td>\n",
       "      <td>100.000000</td>\n",
       "      <td>3.260341</td>\n",
       "    </tr>\n",
       "    <tr>\n",
       "      <th>2025-05-13 08:00:00+00:00</th>\n",
       "      <td>0.20678</td>\n",
       "      <td>0.20718</td>\n",
       "      <td>0.20833</td>\n",
       "      <td>0.20651</td>\n",
       "      <td>5241162.0</td>\n",
       "      <td>100.000000</td>\n",
       "      <td>100.000000</td>\n",
       "      <td>4.445942</td>\n",
       "    </tr>\n",
       "    <tr>\n",
       "      <th>2025-05-13 09:00:00+00:00</th>\n",
       "      <td>0.20719</td>\n",
       "      <td>0.20992</td>\n",
       "      <td>0.21034</td>\n",
       "      <td>0.20712</td>\n",
       "      <td>9200234.0</td>\n",
       "      <td>100.000000</td>\n",
       "      <td>100.000000</td>\n",
       "      <td>5.349335</td>\n",
       "    </tr>\n",
       "    <tr>\n",
       "      <th>...</th>\n",
       "      <td>...</td>\n",
       "      <td>...</td>\n",
       "      <td>...</td>\n",
       "      <td>...</td>\n",
       "      <td>...</td>\n",
       "      <td>...</td>\n",
       "      <td>...</td>\n",
       "      <td>...</td>\n",
       "    </tr>\n",
       "    <tr>\n",
       "      <th>2025-08-31 12:00:00+00:00</th>\n",
       "      <td>0.22497</td>\n",
       "      <td>0.22484</td>\n",
       "      <td>0.22513</td>\n",
       "      <td>0.22348</td>\n",
       "      <td>2047893.0</td>\n",
       "      <td>42.469685</td>\n",
       "      <td>45.242043</td>\n",
       "      <td>3.935555</td>\n",
       "    </tr>\n",
       "    <tr>\n",
       "      <th>2025-08-31 13:00:00+00:00</th>\n",
       "      <td>0.22483</td>\n",
       "      <td>0.22345</td>\n",
       "      <td>0.22519</td>\n",
       "      <td>0.22318</td>\n",
       "      <td>2397163.0</td>\n",
       "      <td>32.524784</td>\n",
       "      <td>40.376849</td>\n",
       "      <td>3.836092</td>\n",
       "    </tr>\n",
       "    <tr>\n",
       "      <th>2025-08-31 14:00:00+00:00</th>\n",
       "      <td>0.22345</td>\n",
       "      <td>0.22352</td>\n",
       "      <td>0.22400</td>\n",
       "      <td>0.22237</td>\n",
       "      <td>3075512.0</td>\n",
       "      <td>33.440501</td>\n",
       "      <td>40.722562</td>\n",
       "      <td>4.004198</td>\n",
       "    </tr>\n",
       "    <tr>\n",
       "      <th>2025-08-31 15:00:00+00:00</th>\n",
       "      <td>0.22352</td>\n",
       "      <td>0.22569</td>\n",
       "      <td>0.22579</td>\n",
       "      <td>0.22343</td>\n",
       "      <td>4111748.0</td>\n",
       "      <td>55.353883</td>\n",
       "      <td>50.336180</td>\n",
       "      <td>3.869782</td>\n",
       "    </tr>\n",
       "    <tr>\n",
       "      <th>2025-08-31 16:00:00+00:00</th>\n",
       "      <td>0.22570</td>\n",
       "      <td>0.22393</td>\n",
       "      <td>0.22582</td>\n",
       "      <td>0.22344</td>\n",
       "      <td>4909046.0</td>\n",
       "      <td>42.205597</td>\n",
       "      <td>44.090496</td>\n",
       "      <td>3.742305</td>\n",
       "    </tr>\n",
       "  </tbody>\n",
       "</table>\n",
       "<p>2652 rows × 8 columns</p>\n",
       "</div>"
      ],
      "text/plain": [
       "                              Open    Close     High      Low     Volume  \\\n",
       "open_time                                                                  \n",
       "2025-05-13 05:00:00+00:00  0.20554  0.20539  0.20610  0.20419  5471093.0   \n",
       "2025-05-13 06:00:00+00:00  0.20539  0.20618  0.20773  0.20522  8284475.0   \n",
       "2025-05-13 07:00:00+00:00  0.20617  0.20677  0.20905  0.20599  6642622.0   \n",
       "2025-05-13 08:00:00+00:00  0.20678  0.20718  0.20833  0.20651  5241162.0   \n",
       "2025-05-13 09:00:00+00:00  0.20719  0.20992  0.21034  0.20712  9200234.0   \n",
       "...                            ...      ...      ...      ...        ...   \n",
       "2025-08-31 12:00:00+00:00  0.22497  0.22484  0.22513  0.22348  2047893.0   \n",
       "2025-08-31 13:00:00+00:00  0.22483  0.22345  0.22519  0.22318  2397163.0   \n",
       "2025-08-31 14:00:00+00:00  0.22345  0.22352  0.22400  0.22237  3075512.0   \n",
       "2025-08-31 15:00:00+00:00  0.22352  0.22569  0.22579  0.22343  4111748.0   \n",
       "2025-08-31 16:00:00+00:00  0.22570  0.22393  0.22582  0.22344  4909046.0   \n",
       "\n",
       "                                  rsi       rsi14       adx  \n",
       "open_time                                                    \n",
       "2025-05-13 05:00:00+00:00    0.000000    0.000000  0.000000  \n",
       "2025-05-13 06:00:00+00:00  100.000000  100.000000  1.714952  \n",
       "2025-05-13 07:00:00+00:00  100.000000  100.000000  3.260341  \n",
       "2025-05-13 08:00:00+00:00  100.000000  100.000000  4.445942  \n",
       "2025-05-13 09:00:00+00:00  100.000000  100.000000  5.349335  \n",
       "...                               ...         ...       ...  \n",
       "2025-08-31 12:00:00+00:00   42.469685   45.242043  3.935555  \n",
       "2025-08-31 13:00:00+00:00   32.524784   40.376849  3.836092  \n",
       "2025-08-31 14:00:00+00:00   33.440501   40.722562  4.004198  \n",
       "2025-08-31 15:00:00+00:00   55.353883   50.336180  3.869782  \n",
       "2025-08-31 16:00:00+00:00   42.205597   44.090496  3.742305  \n",
       "\n",
       "[2652 rows x 8 columns]"
      ]
     },
     "execution_count": 70,
     "metadata": {},
     "output_type": "execute_result"
    }
   ],
   "source": [
    "# time = df.index\n",
    "# for i in range(1, len(time)):\n",
    "#     if (time[i] - time[i-1]).total_seconds() == 3600:\n",
    "#         print(i, time[i], time[i-1])\n",
    "#         break\n",
    "\n",
    "df "
   ]
  },
  {
   "cell_type": "markdown",
   "metadata": {},
   "source": [
    "# Backtesting lib"
   ]
  },
  {
   "cell_type": "code",
   "execution_count": null,
   "metadata": {},
   "outputs": [],
   "source": [
    "\n",
    "from backtesting.test import GOOG\n",
    "\n",
    "GOOG.tail()\n",
    "def save_stats(stats, backtest, out='backtest_summary.csv',tag=''):\n",
    "    d = stats.to_dict()\n",
    "    _ = d.pop('_equity_curve')\n",
    "    trades = d.pop('_trades')\n",
    "    df = pd.DataFrame([d])\n",
    "    df['tag'] = tag\n",
    "    df.to_csv(out, header=False, index=False, mode='a')\n",
    "\n",
    "    folder = tag.replace('_', '/')\n",
    "    os.makedirs(folder, exist_ok=True)\n",
    "    trades.to_markdown(os.path.join(folder, str(stats._strategy)+'_trades.md'), index=False)\n",
    "    backtest.plot(filename=os.path.join(folder, str(stats._strategy)+'_equity_curve.html'), open_browser=False)\n",
    "\n"
   ]
  },
  {
   "cell_type": "code",
   "execution_count": null,
   "metadata": {},
   "outputs": [],
   "source": []
  },
  {
   "cell_type": "markdown",
   "metadata": {},
   "source": [
    "## Triple pattern"
   ]
  },
  {
   "cell_type": "code",
   "execution_count": 101,
   "metadata": {},
   "outputs": [],
   "source": [
    "def detect_triple_pattern(df, tol=0.01, min_prominence=0.01, min_distance=5):\n",
    "    \"\"\"Identify Triple Top or Bottom patterns in OHLC data.\n",
    "    Parameters:\n",
    "    - df: DataFrame with 'Close' prices\n",
    "    - kind: 'top' for Triple Top or 'bottom' for Triple Bottom\n",
    "    - tol: Tolerance for matching levels as fraction\n",
    "    - min_prominence: Minimum prominence for swing detection\n",
    "    - min_distance: Minimum candle distance between swings\n",
    "    Returns:\n",
    "    - List of dictionaries with indices of pattern points and necklines\n",
    "    \"\"\"\n",
    "    df = df.copy()\n",
    "    lows = df['Low']\n",
    "    highs = df['High']\n",
    "    swings, _ = find_peaks(-lows, prominence=min_prominence, distance=min_distance)\n",
    "    # direction = 'bullish'\n",
    "    bullish = []\n",
    "    for i in range(len(swings) - 2):\n",
    "        p1, p2, p3 = swings[i], swings[i+1], swings[i+2]\n",
    "        levels = lows.values[[p1, p2, p3]]\n",
    "        lv_mean = levels.mean()\n",
    "        if np.ptp(levels) <= tol * lv_mean:\n",
    "            neckline_val = max(highs.values[p1:p3+1])\n",
    "            bullish.append({\n",
    "                'p1': p1, 'p2': p2, 'p3': p3,\n",
    "                'boundary_value': neckline_val,\n",
    "                })\n",
    "            \n",
    "\n",
    "    swings, _ = find_peaks(highs, prominence=min_prominence, distance=min_distance)\n",
    "    # direction = 'bearish'\n",
    "    bearish = []\n",
    "    for i in range(len(swings) - 2):\n",
    "        p1, p2, p3 = swings[i], swings[i+1], swings[i+2]\n",
    "        levels = highs.values[[p1, p2, p3]]\n",
    "        lv_mean = levels.mean()\n",
    "        if np.ptp(levels) <= tol * lv_mean:\n",
    "            neckline_val = min(lows.values[p1:p3+1])\n",
    "            bearish.append({\n",
    "                'p1': p1, 'p2': p2, 'p3': p3,\n",
    "                'boundary_value': neckline_val,\n",
    "                })\n",
    "    return (bullish, bearish)\n"
   ]
  },
  {
   "cell_type": "code",
   "execution_count": 102,
   "metadata": {},
   "outputs": [],
   "source": [
    "class TriplePatternStrategy(Strategy):\n",
    "    max_periods = 9\n",
    "    tol = 0.01\n",
    "    min_prominence = 0.01\n",
    "    min_distance = 5\n",
    "    def init(self,):\n",
    "        df = self.data.df\n",
    "        # print(self.max_periods)\n",
    "        bull, bear = detect_triple_pattern(df, tol=self.tol, min_prominence=self.min_prominence, min_distance=self.min_distance)\n",
    "        # print(bull, bear)\n",
    "        df['bull'] = None\n",
    "        \n",
    "        self.bull = []\n",
    "        self.bear = []\n",
    "\n",
    "        for p in bull:\n",
    "            df['bull'].iat[p['p3']] = p['boundary_value']\n",
    "            self.bull.append([p['p3'], p['boundary_value']])\n",
    "\n",
    "        df['bear'] = None\n",
    "        for p in bear:\n",
    "            df['bear'].iat[p['p3']] = p['boundary_value']\n",
    "            self.bear.append([p['p3'], p['boundary_value']])\n",
    "\n",
    "        # self.bull = self.I(lambda: df['bull'], name='Bullish')\n",
    "        # self.bear = self.I(lambda: df['bear'], name='Bearish')\n",
    "\n",
    "    def CloseOldPosition(self, periods=9):\n",
    "        current_bar = len(self.data.index) -1\n",
    "        for trade in self.trades:\n",
    "            if current_bar - trade.entry_bar >=  periods:\n",
    "                trade.close()\n",
    "                # print(\"Closed old position at bar\", current_bar, trade.entry_bar, \" for trade\", trade)\n",
    "    def next(self):\n",
    "        self.CloseOldPosition(self.max_periods)\n",
    "        if len(self.bull) > 0:\n",
    "            t, boundary = self.bull[0]\n",
    "            if len(self.data.index) > t+1:\n",
    "                if self.data.High[-1] > boundary:\n",
    "                    if not self.position.is_long:\n",
    "                        # print(\"BULL: \", self.data.index[-1], t, boundary, self.data.Close[-1], self.data.High[-1], self.data.Low[-1])\n",
    "                        self.buy(sl=self.data.Close[-1] * 0.98, tp=self.data.Close[-1] * 1.05)  # Example SL/TP\n",
    "                        self.position.close()  # Close previous position if any\n",
    "                    self.bull.pop(0)\n",
    "                elif len(self.data.index) > t+14:\n",
    "                    self.bull.pop(0)\n",
    "\n",
    "        if len(self.bear) > 0:\n",
    "            t, boundary = self.bear[0]\n",
    "            if len(self.data.index) > t+1:\n",
    "                if self.data.Low[-1] < boundary:\n",
    "                    if not self.position.is_short:\n",
    "                        # print(\"BEAR: \", self.data.index[-1], t, boundary, self.data.Close[-1], self.data.High[-1], self.data.Low[-1])\n",
    "                        # self.sell(sl=self.data.Close[-1] * 1.02, tp=self.data.Close[-1] * 0.95)  # Example SL/TP\n",
    "                        self.position.close()  # Close previous position if any\n",
    "                    self.bear.pop(0)\n",
    "                elif len(self.data.index) > t+14:\n",
    "                    self.bear.pop(0)\n",
    "\n",
    "class TriplePatternStrategy_9p(TriplePatternStrategy):\n",
    "    max_periods = 9\n",
    "    tol = 0.01\n",
    "    min_prominence = 0.01\n",
    "    min_distance = 5\n",
    "\n",
    "class TriplePatternStrategy_26p(TriplePatternStrategy):\n",
    "    max_periods = 26\n",
    "    tol = 0.01\n",
    "    min_prominence = 0.01\n",
    "    min_distance = 5\n",
    " "
   ]
  },
  {
   "cell_type": "code",
   "execution_count": 16,
   "metadata": {},
   "outputs": [],
   "source": [
    "# df = GOOG.copy()\n",
    "\n",
    "# bt = FractionalBacktest(df, TriplePatternStrategy_26p, cash=10_000, commission=.002, fractional_unit=0.001)\n",
    "# stats = bt.run()\n",
    "# stats.to_csv(\"backtest_results.csv\", )\n"
   ]
  },
  {
   "cell_type": "code",
   "execution_count": null,
   "metadata": {},
   "outputs": [],
   "source": [
    "# bt.plot()"
   ]
  },
  {
   "cell_type": "markdown",
   "metadata": {},
   "source": [
    "## Butterfly Pattern"
   ]
  },
  {
   "cell_type": "code",
   "execution_count": 103,
   "metadata": {},
   "outputs": [],
   "source": [
    "from pyharmonics.marketdata import BinanceCandleData  # or your own DataFrame\n",
    "from pyharmonics.technicals import Technicals\n",
    "from pyharmonics.search import HarmonicSearch\n",
    "import pandas as pd\n",
    "\n",
    "def detect_butterfly_pattern(df):\n",
    "    _df = df.copy()\n",
    "    _df.columns = ['open', 'high', 'low', 'close', 'volume']\n",
    "    t = Technicals(_df, 'SYMBOL', 'CUSTOM')  # timeframe as needed\n",
    "    hs = HarmonicSearch(t)\n",
    "    hs.search()\n",
    "    patterns = hs.get_patterns(family=hs.XABCD)  # includes Butterfly \n",
    "    return patterns['XABCD']"
   ]
  },
  {
   "cell_type": "code",
   "execution_count": 104,
   "metadata": {},
   "outputs": [],
   "source": [
    "class ButterflyStrategy(Strategy):\n",
    "    max_periods = 9\n",
    "    def init(self):\n",
    "        df = self.data.df\n",
    "        # print(self.max_periods)\n",
    "        patterns = detect_butterfly_pattern(df)\n",
    "        # print(patterns)\n",
    "        df['bull'] = 0\n",
    "        df['bear'] = 0\n",
    "        if len(patterns) > 0:            \n",
    "            for p in patterns:\n",
    "                if p.bullish:\n",
    "                    df['bull'].at[p.x[-1]] = 1\n",
    "                else:\n",
    "                    df['bear'].at[p.x[-1]] = 1\n",
    "\n",
    "        self.bull = self.I(lambda: df['bull'], name='Bullish')\n",
    "        self.bear = self.I(lambda: df['bear'], name='Bearish')\n",
    "\n",
    "    def CloseOldPosition(self, periods=9):\n",
    "        current_bar = len(self.data.index) -1\n",
    "        for trade in self.trades:\n",
    "            if current_bar - trade.entry_bar >= periods:\n",
    "                trade.close()\n",
    "                # print(\"Closed old position at bar\", current_bar, trade.entry_bar, \" for trade\", trade)\n",
    "    def next(self):\n",
    "        self.CloseOldPosition(self.max_periods)\n",
    "        if self.bull > 0:\n",
    "            if not self.position.is_long:\n",
    "                self.buy(sl=self.data.Close[-1] * 0.98, tp=self.data.Close[-1] * 1.05)  # Example SL/TP\n",
    "                self.position.close()  # Close previous position if any\n",
    "        if self.bear > 0:\n",
    "            if not self.position.is_short:\n",
    "                # self.sell(sl=self.data.Close[-1] * 1.02, tp=self.data.Close[-1] * 0.95)  # Example SL/TP\n",
    "                self.position.close()  # Close previous position if any\n",
    "\n",
    "class ButterflyStrategy_9p(ButterflyStrategy):\n",
    "    max_periods = 9\n",
    "\n",
    "class ButterflyStrategy_26p(ButterflyStrategy):\n",
    "    max_periods = 26\n",
    " "
   ]
  },
  {
   "cell_type": "code",
   "execution_count": null,
   "metadata": {},
   "outputs": [],
   "source": [
    "# bt = FractionalBacktest(df, ButterflyStrategy_9p, cash=10_000, commission=.002, fractional_unit=0.01)\n",
    "# stats = bt.run()\n",
    "# bt.plot()\n"
   ]
  },
  {
   "cell_type": "markdown",
   "metadata": {},
   "source": [
    "## RSI long Pattern"
   ]
  },
  {
   "cell_type": "code",
   "execution_count": 44,
   "metadata": {},
   "outputs": [],
   "source": [
    "class RSILongStrategy(Strategy):\n",
    "    rsi_periods = 7\n",
    "    max_periods = 9\n",
    "    def init(self):\n",
    "        self.rsi = self.I(lambda x: x, self.data.rsi)\n",
    "\n",
    "    def CloseOldPosition(self, periods=9):\n",
    "        current_bar = len(self.data.index) -1\n",
    "        for trade in self.trades:\n",
    "            if current_bar - trade.entry_bar >= periods:\n",
    "                trade.close()\n",
    "                # print(\"Closed old position at bar\", current_bar, trade.entry_bar, \" for trade\", trade)\n",
    "    def next(self):\n",
    "        self.CloseOldPosition(self.max_periods)\n",
    "        if len(self.rsi) < 3:\n",
    "            return\n",
    "        rsi_left = self.rsi[-5:-2]\n",
    "        rsi_edge = self.rsi[-2]\n",
    "        rsi_right = self.rsi[-1]\n",
    "        # print(\"rsi: \", self.rsi[-10:])\n",
    "\n",
    "        if rsi_right >= 75:\n",
    "            if rsi_edge > rsi_right and rsi_edge >= max(rsi_left):\n",
    "                self.position.close()\n",
    "                # self.sell(sl=self.data.Close[-1] * 1.02, tp=self.data.Close[-1] * 0.95)  # Example SL/TP\n",
    "        elif rsi_right <= 25:\n",
    "            if rsi_edge < rsi_right and rsi_edge <= min(rsi_left):\n",
    "                self.position.close()\n",
    "                self.buy(sl=self.data.Close[-1] * 0.98, tp=self.data.Close[-1] * 1.05)  # Example SL/TP\n",
    "\n",
    "class RSI7LongStrategy_9p(RSILongStrategy):\n",
    "    rsi_periods = 7\n",
    "    max_periods = 9\n",
    "\n",
    "class RSI7LongStrategy_26p(RSILongStrategy):\n",
    "    rsi_periods = 7\n",
    "    max_periods = 26\n",
    "# stras = RSI7LongStrategy_9p(data = df)\n",
    "# stras.data"
   ]
  },
  {
   "cell_type": "markdown",
   "metadata": {},
   "source": [
    "## ADX long Pattern"
   ]
  },
  {
   "cell_type": "code",
   "execution_count": 98,
   "metadata": {},
   "outputs": [],
   "source": [
    "from pandas.core.ops.docstrings import reverse_op\n",
    "\n",
    "\n",
    "class ADXLongStrategy(Strategy):\n",
    "    max_periods = 9\n",
    "    def init(self):\n",
    "        self.adx = self.I(lambda x: x, self.data.adx)\n",
    "\n",
    "        predict_trend = []\n",
    "        for i in range(len(self.data.index)):\n",
    "            if i < 5:\n",
    "                predict_trend.append(0)\n",
    "                continue\n",
    "\n",
    "            if min(self.data.adx[i-4:i+1]) == self.data.adx[i-1] or max(self.data.adx[i-4:i+1]) == self.data.adx[i-1]:  # edge point\n",
    "                low_trend = self.data.Low[i-5:i-1] < self.data.Low[i-1]\n",
    "                high_trend = self.data.High[i-5:i-1] < self.data.High[i-1]\n",
    "                close_trend = self.data.Close[i-5:i-1] < self.data.Close[i-1]\n",
    "                if (low_trend+high_trend+close_trend) >= 2:  # current trend up \n",
    "                    predict_trend.append(-1)                \n",
    "                else:  # current trend down \n",
    "                    predict_trend.append(1)\n",
    "            else:\n",
    "                predict_trend.append(0)\n",
    "\n",
    "        self.predict_trend = self.I(lambda x: x, predict_trend)\n",
    "\n",
    "\n",
    "    def CloseOldPosition(self, periods=9):\n",
    "        current_bar = len(self.data.index) - 1\n",
    "        for trade in self.trades:\n",
    "            if current_bar - trade.entry_bar >= periods:\n",
    "                trade.close()\n",
    "                # print(\"Closed old position at bar\", current_bar, trade.entry_bar, \" for trade\", trade)\n",
    "    def next(self):\n",
    "        self.CloseOldPosition(self.max_periods)\n",
    "        # if len(self.predict_trend) >18:\n",
    "            # print(self.data.Close)\n",
    "            # print(self.adx)\n",
    "            # print(self.predict_trend)\n",
    "        if self.predict_trend == 1:\n",
    "            self.position.close()\n",
    "            self.buy(sl=self.data.Close[-1] * 0.98, tp=self.data.Close[-1] * 1.05)  # Example SL/TP\n",
    "        elif self.predict_trend == -1:\n",
    "            self.position.close()\n",
    "            # self.sell(sl=self.data.Close[-1] * 1.02, tp=self.data.Close[-1] * 0.95)  # Example SL/TP\n",
    "\n",
    "class ADXLongStrategy_9p(ADXLongStrategy):\n",
    "    max_periods = 9\n",
    "\n",
    "class ADXLongStrategy_26p(ADXLongStrategy):\n",
    "    max_periods = 26\n",
    "# stras = RSI7LongStrategy_9p(data = df)\n",
    "# stras.data"
   ]
  },
  {
   "cell_type": "code",
   "execution_count": 99,
   "metadata": {},
   "outputs": [
    {
     "data": {
      "application/vnd.jupyter.widget-view+json": {
       "model_id": "191c26af38394c738af6816a663e21c1",
       "version_major": 2,
       "version_minor": 0
      },
      "text/plain": [
       "FractionalBacktest.run:   0%|          | 0/19 [00:00<?, ?bar/s]"
      ]
     },
     "metadata": {},
     "output_type": "display_data"
    },
    {
     "name": "stderr",
     "output_type": "stream",
     "text": [
      "C:\\Users\\Admin\\AppData\\Roaming\\Python\\Python311\\site-packages\\backtesting\\lib.py:548: UserWarning: Some trades remain open at the end of backtest. Use `Backtest(..., finalize_trades=True)` to close them and include them in stats.\n",
      "  result = super().run(**kwargs)\n",
      "C:\\Users\\Admin\\AppData\\Roaming\\Python\\Python311\\site-packages\\bokeh\\util\\serialization.py:242: UserWarning: no explicit representation of timezones available for np.datetime64\n",
      "  return convert(array.astype(\"datetime64[us]\"))\n"
     ]
    },
    {
     "data": {
      "text/html": [
       "\n",
       "  <div id=\"e1de484e-c9e0-41ed-b789-865b1efb88d8\" data-root-id=\"p7220\" style=\"display: contents;\"></div>\n"
      ]
     },
     "metadata": {},
     "output_type": "display_data"
    },
    {
     "data": {
      "application/javascript": "(function(root) {\n  function embed_document(root) {\n  const docs_json = {\"dac6c9d5-50cd-44f1-9709-feab123074f8\":{\"version\":\"3.7.3\",\"title\":\"Bokeh Application\",\"roots\":[{\"type\":\"object\",\"name\":\"GridPlot\",\"id\":\"p7220\",\"attributes\":{\"rows\":null,\"cols\":null,\"sizing_mode\":\"stretch_width\",\"toolbar\":{\"type\":\"object\",\"name\":\"Toolbar\",\"id\":\"p7219\",\"attributes\":{\"tools\":[{\"type\":\"object\",\"name\":\"ToolProxy\",\"id\":\"p7204\",\"attributes\":{\"tools\":[{\"type\":\"object\",\"name\":\"PanTool\",\"id\":\"p6866\",\"attributes\":{\"dimensions\":\"width\"}},{\"type\":\"object\",\"name\":\"PanTool\",\"id\":\"p6966\",\"attributes\":{\"dimensions\":\"width\"}},{\"type\":\"object\",\"name\":\"PanTool\",\"id\":\"p6819\",\"attributes\":{\"dimensions\":\"width\"}},{\"type\":\"object\",\"name\":\"PanTool\",\"id\":\"p7024\",\"attributes\":{\"dimensions\":\"width\"}},{\"type\":\"object\",\"name\":\"PanTool\",\"id\":\"p7123\",\"attributes\":{\"dimensions\":\"width\"}},{\"type\":\"object\",\"name\":\"PanTool\",\"id\":\"p7171\",\"attributes\":{\"dimensions\":\"width\"}}]}},{\"type\":\"object\",\"name\":\"ToolProxy\",\"id\":\"p7205\",\"attributes\":{\"tools\":[{\"type\":\"object\",\"name\":\"WheelZoomTool\",\"id\":\"p6867\",\"attributes\":{\"dimensions\":\"width\",\"renderers\":\"auto\",\"maintain_focus\":false}},{\"type\":\"object\",\"name\":\"WheelZoomTool\",\"id\":\"p6967\",\"attributes\":{\"dimensions\":\"width\",\"renderers\":\"auto\",\"maintain_focus\":false}},{\"type\":\"object\",\"name\":\"WheelZoomTool\",\"id\":\"p6820\",\"attributes\":{\"dimensions\":\"width\",\"renderers\":\"auto\",\"maintain_focus\":false}},{\"type\":\"object\",\"name\":\"WheelZoomTool\",\"id\":\"p7025\",\"attributes\":{\"dimensions\":\"width\",\"renderers\":\"auto\",\"maintain_focus\":false}},{\"type\":\"object\",\"name\":\"WheelZoomTool\",\"id\":\"p7124\",\"attributes\":{\"dimensions\":\"width\",\"renderers\":\"auto\",\"maintain_focus\":false}},{\"type\":\"object\",\"name\":\"WheelZoomTool\",\"id\":\"p7172\",\"attributes\":{\"dimensions\":\"width\",\"renderers\":\"auto\",\"maintain_focus\":false}}]}},{\"type\":\"object\",\"name\":\"ToolProxy\",\"id\":\"p7206\",\"attributes\":{\"tools\":[{\"type\":\"object\",\"name\":\"WheelPanTool\",\"id\":\"p6868\"},{\"type\":\"object\",\"name\":\"WheelPanTool\",\"id\":\"p6968\"},{\"type\":\"object\",\"name\":\"WheelPanTool\",\"id\":\"p6821\"},{\"type\":\"object\",\"name\":\"WheelPanTool\",\"id\":\"p7026\"},{\"type\":\"object\",\"name\":\"WheelPanTool\",\"id\":\"p7125\"},{\"type\":\"object\",\"name\":\"WheelPanTool\",\"id\":\"p7173\"}]}},{\"type\":\"object\",\"name\":\"ToolProxy\",\"id\":\"p7207\",\"attributes\":{\"tools\":[{\"type\":\"object\",\"name\":\"BoxZoomTool\",\"id\":\"p6869\",\"attributes\":{\"dimensions\":\"both\",\"overlay\":{\"type\":\"object\",\"name\":\"BoxAnnotation\",\"id\":\"p6870\",\"attributes\":{\"syncable\":false,\"line_color\":\"black\",\"line_alpha\":1.0,\"line_width\":2,\"line_dash\":[4,4],\"fill_color\":\"lightgrey\",\"fill_alpha\":0.5,\"level\":\"overlay\",\"visible\":false,\"left\":{\"type\":\"number\",\"value\":\"nan\"},\"right\":{\"type\":\"number\",\"value\":\"nan\"},\"top\":{\"type\":\"number\",\"value\":\"nan\"},\"bottom\":{\"type\":\"number\",\"value\":\"nan\"},\"left_units\":\"canvas\",\"right_units\":\"canvas\",\"top_units\":\"canvas\",\"bottom_units\":\"canvas\",\"handles\":{\"type\":\"object\",\"name\":\"BoxInteractionHandles\",\"id\":\"p6876\",\"attributes\":{\"all\":{\"type\":\"object\",\"name\":\"AreaVisuals\",\"id\":\"p6875\",\"attributes\":{\"fill_color\":\"white\",\"hover_fill_color\":\"lightgray\"}}}}}}}},{\"type\":\"object\",\"name\":\"BoxZoomTool\",\"id\":\"p6969\",\"attributes\":{\"dimensions\":\"both\",\"overlay\":{\"type\":\"object\",\"name\":\"BoxAnnotation\",\"id\":\"p6970\",\"attributes\":{\"syncable\":false,\"line_color\":\"black\",\"line_alpha\":1.0,\"line_width\":2,\"line_dash\":[4,4],\"fill_color\":\"lightgrey\",\"fill_alpha\":0.5,\"level\":\"overlay\",\"visible\":false,\"left\":{\"type\":\"number\",\"value\":\"nan\"},\"right\":{\"type\":\"number\",\"value\":\"nan\"},\"top\":{\"type\":\"number\",\"value\":\"nan\"},\"bottom\":{\"type\":\"number\",\"value\":\"nan\"},\"left_units\":\"canvas\",\"right_units\":\"canvas\",\"top_units\":\"canvas\",\"bottom_units\":\"canvas\",\"handles\":{\"type\":\"object\",\"name\":\"BoxInteractionHandles\",\"id\":\"p6976\",\"attributes\":{\"all\":{\"type\":\"object\",\"name\":\"AreaVisuals\",\"id\":\"p6975\",\"attributes\":{\"fill_color\":\"white\",\"hover_fill_color\":\"lightgray\"}}}}}}}},{\"type\":\"object\",\"name\":\"BoxZoomTool\",\"id\":\"p6822\",\"attributes\":{\"dimensions\":\"both\",\"overlay\":{\"type\":\"object\",\"name\":\"BoxAnnotation\",\"id\":\"p6823\",\"attributes\":{\"syncable\":false,\"line_color\":\"black\",\"line_alpha\":1.0,\"line_width\":2,\"line_dash\":[4,4],\"fill_color\":\"lightgrey\",\"fill_alpha\":0.5,\"level\":\"overlay\",\"visible\":false,\"left\":{\"type\":\"number\",\"value\":\"nan\"},\"right\":{\"type\":\"number\",\"value\":\"nan\"},\"top\":{\"type\":\"number\",\"value\":\"nan\"},\"bottom\":{\"type\":\"number\",\"value\":\"nan\"},\"left_units\":\"canvas\",\"right_units\":\"canvas\",\"top_units\":\"canvas\",\"bottom_units\":\"canvas\",\"handles\":{\"type\":\"object\",\"name\":\"BoxInteractionHandles\",\"id\":\"p6829\",\"attributes\":{\"all\":{\"type\":\"object\",\"name\":\"AreaVisuals\",\"id\":\"p6828\",\"attributes\":{\"fill_color\":\"white\",\"hover_fill_color\":\"lightgray\"}}}}}}}},{\"type\":\"object\",\"name\":\"BoxZoomTool\",\"id\":\"p7027\",\"attributes\":{\"dimensions\":\"both\",\"overlay\":{\"type\":\"object\",\"name\":\"BoxAnnotation\",\"id\":\"p7028\",\"attributes\":{\"syncable\":false,\"line_color\":\"black\",\"line_alpha\":1.0,\"line_width\":2,\"line_dash\":[4,4],\"fill_color\":\"lightgrey\",\"fill_alpha\":0.5,\"level\":\"overlay\",\"visible\":false,\"left\":{\"type\":\"number\",\"value\":\"nan\"},\"right\":{\"type\":\"number\",\"value\":\"nan\"},\"top\":{\"type\":\"number\",\"value\":\"nan\"},\"bottom\":{\"type\":\"number\",\"value\":\"nan\"},\"left_units\":\"canvas\",\"right_units\":\"canvas\",\"top_units\":\"canvas\",\"bottom_units\":\"canvas\",\"handles\":{\"type\":\"object\",\"name\":\"BoxInteractionHandles\",\"id\":\"p7034\",\"attributes\":{\"all\":{\"type\":\"object\",\"name\":\"AreaVisuals\",\"id\":\"p7033\",\"attributes\":{\"fill_color\":\"white\",\"hover_fill_color\":\"lightgray\"}}}}}}}},{\"type\":\"object\",\"name\":\"BoxZoomTool\",\"id\":\"p7126\",\"attributes\":{\"dimensions\":\"both\",\"overlay\":{\"type\":\"object\",\"name\":\"BoxAnnotation\",\"id\":\"p7127\",\"attributes\":{\"syncable\":false,\"line_color\":\"black\",\"line_alpha\":1.0,\"line_width\":2,\"line_dash\":[4,4],\"fill_color\":\"lightgrey\",\"fill_alpha\":0.5,\"level\":\"overlay\",\"visible\":false,\"left\":{\"type\":\"number\",\"value\":\"nan\"},\"right\":{\"type\":\"number\",\"value\":\"nan\"},\"top\":{\"type\":\"number\",\"value\":\"nan\"},\"bottom\":{\"type\":\"number\",\"value\":\"nan\"},\"left_units\":\"canvas\",\"right_units\":\"canvas\",\"top_units\":\"canvas\",\"bottom_units\":\"canvas\",\"handles\":{\"type\":\"object\",\"name\":\"BoxInteractionHandles\",\"id\":\"p7133\",\"attributes\":{\"all\":{\"type\":\"object\",\"name\":\"AreaVisuals\",\"id\":\"p7132\",\"attributes\":{\"fill_color\":\"white\",\"hover_fill_color\":\"lightgray\"}}}}}}}},{\"type\":\"object\",\"name\":\"BoxZoomTool\",\"id\":\"p7174\",\"attributes\":{\"dimensions\":\"both\",\"overlay\":{\"type\":\"object\",\"name\":\"BoxAnnotation\",\"id\":\"p7175\",\"attributes\":{\"syncable\":false,\"line_color\":\"black\",\"line_alpha\":1.0,\"line_width\":2,\"line_dash\":[4,4],\"fill_color\":\"lightgrey\",\"fill_alpha\":0.5,\"level\":\"overlay\",\"visible\":false,\"left\":{\"type\":\"number\",\"value\":\"nan\"},\"right\":{\"type\":\"number\",\"value\":\"nan\"},\"top\":{\"type\":\"number\",\"value\":\"nan\"},\"bottom\":{\"type\":\"number\",\"value\":\"nan\"},\"left_units\":\"canvas\",\"right_units\":\"canvas\",\"top_units\":\"canvas\",\"bottom_units\":\"canvas\",\"handles\":{\"type\":\"object\",\"name\":\"BoxInteractionHandles\",\"id\":\"p7181\",\"attributes\":{\"all\":{\"type\":\"object\",\"name\":\"AreaVisuals\",\"id\":\"p7180\",\"attributes\":{\"fill_color\":\"white\",\"hover_fill_color\":\"lightgray\"}}}}}}}}]}},{\"type\":\"object\",\"name\":\"ToolProxy\",\"id\":\"p7208\",\"attributes\":{\"tools\":[{\"type\":\"object\",\"name\":\"UndoTool\",\"id\":\"p6877\"},{\"type\":\"object\",\"name\":\"UndoTool\",\"id\":\"p6977\"},{\"type\":\"object\",\"name\":\"UndoTool\",\"id\":\"p6830\"},{\"type\":\"object\",\"name\":\"UndoTool\",\"id\":\"p7035\"},{\"type\":\"object\",\"name\":\"UndoTool\",\"id\":\"p7134\"},{\"type\":\"object\",\"name\":\"UndoTool\",\"id\":\"p7182\"}]}},{\"type\":\"object\",\"name\":\"ToolProxy\",\"id\":\"p7209\",\"attributes\":{\"tools\":[{\"type\":\"object\",\"name\":\"RedoTool\",\"id\":\"p6878\"},{\"type\":\"object\",\"name\":\"RedoTool\",\"id\":\"p6978\"},{\"type\":\"object\",\"name\":\"RedoTool\",\"id\":\"p6831\"},{\"type\":\"object\",\"name\":\"RedoTool\",\"id\":\"p7036\"},{\"type\":\"object\",\"name\":\"RedoTool\",\"id\":\"p7135\"},{\"type\":\"object\",\"name\":\"RedoTool\",\"id\":\"p7183\"}]}},{\"type\":\"object\",\"name\":\"ToolProxy\",\"id\":\"p7210\",\"attributes\":{\"tools\":[{\"type\":\"object\",\"name\":\"ResetTool\",\"id\":\"p6879\"},{\"type\":\"object\",\"name\":\"ResetTool\",\"id\":\"p6979\"},{\"type\":\"object\",\"name\":\"ResetTool\",\"id\":\"p6832\"},{\"type\":\"object\",\"name\":\"ResetTool\",\"id\":\"p7037\"},{\"type\":\"object\",\"name\":\"ResetTool\",\"id\":\"p7136\"},{\"type\":\"object\",\"name\":\"ResetTool\",\"id\":\"p7184\"}]}},{\"type\":\"object\",\"name\":\"SaveTool\",\"id\":\"p7211\"},{\"type\":\"object\",\"name\":\"ToolProxy\",\"id\":\"p7212\",\"attributes\":{\"tools\":[{\"type\":\"object\",\"name\":\"HoverTool\",\"id\":\"p6902\",\"attributes\":{\"renderers\":[{\"type\":\"object\",\"name\":\"GlyphRenderer\",\"id\":\"p6899\",\"attributes\":{\"data_source\":{\"type\":\"object\",\"name\":\"ColumnDataSource\",\"id\":\"p6834\",\"attributes\":{\"selected\":{\"type\":\"object\",\"name\":\"Selection\",\"id\":\"p6835\",\"attributes\":{\"indices\":[],\"line_indices\":[]}},\"selection_policy\":{\"type\":\"object\",\"name\":\"UnionRenderers\",\"id\":\"p6836\"},\"data\":{\"type\":\"map\",\"entries\":[[\"index\",{\"type\":\"ndarray\",\"array\":{\"type\":\"bytes\",\"data\":\"AAAAAAEAAAACAAAAAwAAAAQAAAAFAAAABgAAAAcAAAAIAAAACQAAAAoAAAALAAAADAAAAA0AAAAOAAAADwAAABAAAAARAAAAEgAAABMAAAA=\"},\"shape\":[20],\"dtype\":\"int32\",\"order\":\"little\"}],[\"Open\",{\"type\":\"ndarray\",\"array\":{\"type\":\"bytes\",\"data\":\"nYU97fDXzD9798d71crMP6RTVz7L88w/TDeJQWDlzD8qjC0EOSjNP5gvL8A+Os0/+b1Nf/YjzT/0/dR46SbNPwh3Z+22C80/JnDrbp7qzD+2vkhoy7nMP/yMCwdCssw/Un5S7dPxzD/v4ZLjTunMP8aFAyFZwMw/JGJKJNHLzD9lcJS8OsfMPwtGJXUCmsw/6j4AqU2czD+IhVrTvOPMPw==\"},\"shape\":[20],\"dtype\":\"float64\",\"order\":\"little\"}],[\"High\",{\"type\":\"ndarray\",\"array\":{\"type\":\"bytes\",\"data\":\"yZOkaybfzD+Kk/sdigLNP2TMXUvIB80/w7ZFmQ0yzT8RUyKJXkbNP1JhbCHIQc0/9YQlHlA2zT/uPVxy3CnNPwh3Z+22C80/yhr1EI3uzD/0GrtE9dbMP9rhr8ka9cw/oaF/gosVzT94RfC/lezMP2b35GGh1sw//pqsUQ/RzD9QcLGiBtPMP3npJjEIrMw/gsXhzK/mzD8rMGR1q+fMPw==\"},\"shape\":[20],\"dtype\":\"float64\",\"order\":\"little\"}],[\"Low\",{\"type\":\"ndarray\",\"array\":{\"type\":\"bytes\",\"data\":\"NKK0N/jCzD8YWwhyUMLMP0uwOJz51cw/jUXT2cngzD+Kk/sdigLNP+j2ksZoHc0/x2gdVU0QzT+vWpnwS/3MP3L+JhQi4Mw/ZOlDF9S3zD/rxVBOtKvMP25pNSTuscw/+mGE8GjjzD9N27+y0qTMP0gbR6zFp8w/tLCnHf6azD8aho+IKZHMP0pGzsKedsw/7/54r1qZzD99Ik+SrpnMPw==\"},\"shape\":[20],\"dtype\":\"float64\",\"order\":\"little\"}],[\"Close\",{\"type\":\"ndarray\",\"array\":{\"type\":\"bytes\",\"data\":\"e/fHe9XKzD8WMIFbd/PMP74Ts14M5cw/nWhXIeUnzT996IL6ljnNP2uad5yiI80/Ztr+lZUmzT+Vmj3QCgzNPyZw626e6sw/Q+IeSx+6zD/hRV9BmrHMP1J+Uu3T8cw/fQVpxqLpzD/GhQMhWcDMP83MzMzMzMw/85Nqn47HzD8LRiV1AprMP+o+AKlNnMw/+mGE8GjjzD+Z8Ev9vKnMPw==\"},\"shape\":[20],\"dtype\":\"float64\",\"order\":\"little\"}],[\"Volume\",{\"type\":\"ndarray\",\"array\":{\"type\":\"bytes\",\"data\":\"AAAAALXoNkEAAAAA36xBQQAAAACmcUhBAAAAgOscR0EAAAAAYedDQQAAAADrsDRBAAAAAGyHOkEAAAAAsmE+QQAAAAAYZT9BAAAAADrBP0EAAAAAGI5AQQAAAAAtlTlBAAAAAGaqR0EAAAAAsNc+QQAAAABMyzpBAAAAAJU/P0EAAACA9UlCQQAAAADcdkdBAAAAAMJeT0EAAACA/blSQQ==\"},\"shape\":[20],\"dtype\":\"float64\",\"order\":\"little\"}],[\"datetime\",{\"type\":\"ndarray\",\"array\":{\"type\":\"bytes\",\"data\":\"AACIesyPeUIAAHDpz495QgAAWFjTj3lCAABAx9aPeUIAACg22o95QgAAEKXdj3lCAAD4E+GPeUIAAOCC5I95QgAAyPHnj3lCAACwYOuPeUIAAJjP7o95QgAAgD7yj3lCAABorfWPeUIAAFAc+Y95QgAAOIv8j3lCAAAg+v+PeUIAAAhpA5B5QgAA8NcGkHlCAADYRgqQeUIAAMC1DZB5Qg==\"},\"shape\":[20],\"dtype\":\"float64\",\"order\":\"little\"}],[\"inc\",{\"type\":\"ndarray\",\"array\":[\"0\",\"1\",\"0\",\"1\",\"1\",\"0\",\"1\",\"0\",\"0\",\"0\",\"0\",\"1\",\"0\",\"0\",\"1\",\"0\",\"0\",\"1\",\"1\",\"0\"],\"shape\":[20],\"dtype\":\"object\",\"order\":\"little\"}],[\"equity\",{\"type\":\"ndarray\",\"array\":{\"type\":\"bytes\",\"data\":\"AAAAAAAA8D8AAAAAAADwPwAAAAAAAPA/AAAAAAAA8D8AAAAAAADwPwAAAAAAAPA/AAAAAAAA8D8AAAAAAADwPwAAAAAAAPA/7KVAdRa67z+Au2SprbDvP4Yst0ec9+8/91Q8IZDu7z9PDHW79sDvPxXZ3Ue3zu8/SKvM8ezI7z9obRcmn5bvP3Lxvqsnme8/YWuU1hTH7z/BlIw7pIfvPw==\"},\"shape\":[20],\"dtype\":\"float64\",\"order\":\"little\"}],[\"\\u03bb(adx)_0_0\",{\"type\":\"ndarray\",\"array\":{\"type\":\"bytes\",\"data\":\"vMnt+jeVEUD+AiGq2kMRQKR5zHkjdBFABhcrLaDIEUDIc5fKw9kSQAaASQsJZRRAQuFofFtmFUBWsG6E+tkVQKL4u7CVPxVAAIQRLazLE0BI9DBPY/oSQEWFtx5NARJAk2twDXe2EUDYMLholp0QQLzHnp77FxBAMLmFDAR8D0DtR/YKUbAOQL4lUZNMBBBAf6fdCFD1DkBvPqduPfANQA==\"},\"shape\":[20],\"dtype\":\"float64\",\"order\":\"little\"}],[\"\\u03bb_1_0\",{\"type\":\"ndarray\",\"array\":{\"type\":\"bytes\",\"data\":\"AAAAAAAAAAAAAAAAAAAAAAAAAAAAAAAAAAAAAAAAAAABAAAAAAAAAAAAAAAAAAAAAAAAAAAAAAAAAAAAAAAAAAAAAAABAAAAAAAAAAAAAAA=\"},\"shape\":[20],\"dtype\":\"int32\",\"order\":\"little\"}],[\"ohlc_low\",{\"type\":\"ndarray\",\"array\":{\"type\":\"bytes\",\"data\":\"NKK0N/jCzD8YWwhyUMLMP0uwOJz51cw/jUXT2cngzD+Kk/sdigLNP+j2ksZoHc0/x2gdVU0QzT+vWpnwS/3MP3L+JhQi4Mw/ZOlDF9S3zD/rxVBOtKvMP25pNSTuscw/+mGE8GjjzD9N27+y0qTMP0gbR6zFp8w/tLCnHf6azD8aho+IKZHMP0pGzsKedsw/7/54r1qZzD99Ik+SrpnMPw==\"},\"shape\":[20],\"dtype\":\"float64\",\"order\":\"little\"}],[\"ohlc_high\",{\"type\":\"ndarray\",\"array\":{\"type\":\"bytes\",\"data\":\"yZOkaybfzD+Kk/sdigLNP2TMXUvIB80/w7ZFmQ0yzT8RUyKJXkbNP1JhbCHIQc0/9YQlHlA2zT/uPVxy3CnNPwh3Z+22C80/yhr1EI3uzD/0GrtE9dbMP9rhr8ka9cw/oaF/gosVzT94RfC/lezMP2b35GGh1sw//pqsUQ/RzD9QcLGiBtPMP3npJjEIrMw/gsXhzK/mzD8rMGR1q+fMPw==\"},\"shape\":[20],\"dtype\":\"float64\",\"order\":\"little\"}]]}}},\"view\":{\"type\":\"object\",\"name\":\"CDSView\",\"id\":\"p6900\",\"attributes\":{\"filter\":{\"type\":\"object\",\"name\":\"AllIndices\",\"id\":\"p6901\"}}},\"glyph\":{\"type\":\"object\",\"name\":\"Line\",\"id\":\"p6896\",\"attributes\":{\"x\":{\"type\":\"field\",\"field\":\"index\"},\"y\":{\"type\":\"field\",\"field\":\"equity\"},\"line_color\":\"#1f77b4\",\"line_width\":1.5}},\"nonselection_glyph\":{\"type\":\"object\",\"name\":\"Line\",\"id\":\"p6897\",\"attributes\":{\"x\":{\"type\":\"field\",\"field\":\"index\"},\"y\":{\"type\":\"field\",\"field\":\"equity\"},\"line_color\":\"#1f77b4\",\"line_alpha\":0.1,\"line_width\":1.5}},\"muted_glyph\":{\"type\":\"object\",\"name\":\"Line\",\"id\":\"p6898\",\"attributes\":{\"x\":{\"type\":\"field\",\"field\":\"index\"},\"y\":{\"type\":\"field\",\"field\":\"equity\"},\"line_color\":\"#1f77b4\",\"line_alpha\":0.2,\"line_width\":1.5}}}}],\"tooltips\":[[\"Date\",\"@datetime{%c}\"],[\"Equity\",\"@equity{+0,0.[000]%}\"]],\"formatters\":{\"type\":\"map\",\"entries\":[[\"@datetime\",\"datetime\"]]},\"mode\":\"vline\",\"point_policy\":\"follow_mouse\"}}]}},{\"type\":\"object\",\"name\":\"ToolProxy\",\"id\":\"p7213\",\"attributes\":{\"tools\":[{\"type\":\"object\",\"name\":\"HoverTool\",\"id\":\"p7001\",\"attributes\":{\"renderers\":[{\"type\":\"object\",\"name\":\"GlyphRenderer\",\"id\":\"p6998\",\"attributes\":{\"data_source\":{\"type\":\"object\",\"name\":\"ColumnDataSource\",\"id\":\"p6837\",\"attributes\":{\"selected\":{\"type\":\"object\",\"name\":\"Selection\",\"id\":\"p6838\",\"attributes\":{\"indices\":[],\"line_indices\":[]}},\"selection_policy\":{\"type\":\"object\",\"name\":\"UnionRenderers\",\"id\":\"p6839\"},\"data\":{\"type\":\"map\",\"entries\":[[\"index\",{\"type\":\"ndarray\",\"array\":{\"type\":\"bytes\",\"data\":\"EgAAAA==\"},\"shape\":[1],\"dtype\":\"int32\",\"order\":\"little\"}],[\"datetime\",{\"type\":\"ndarray\",\"array\":{\"type\":\"bytes\",\"data\":\"AADYRgqQeUI=\"},\"shape\":[1],\"dtype\":\"float64\",\"order\":\"little\"}],[\"size\",{\"type\":\"ndarray\",\"array\":{\"type\":\"bytes\",\"data\":\"79I89iGS5UA=\"},\"shape\":[1],\"dtype\":\"float64\",\"order\":\"little\"}],[\"returns_positive\",{\"type\":\"ndarray\",\"array\":[\"0\"],\"shape\":[1],\"dtype\":\"object\",\"order\":\"little\"}],[\"returns\",{\"type\":\"ndarray\",\"array\":{\"type\":\"bytes\",\"data\":\"DhmAprrQjb8=\"},\"shape\":[1],\"dtype\":\"float64\",\"order\":\"little\"}],[\"marker_size\",{\"type\":\"ndarray\",\"array\":{\"type\":\"bytes\",\"data\":\"AAAAAAAANEA=\"},\"shape\":[1],\"dtype\":\"float64\",\"order\":\"little\"}],[\"lines\",[[9,18]]],[\"triangles\",{\"type\":\"ndarray\",\"array\":[\"triangle\"],\"shape\":[1],\"dtype\":\"object\",\"order\":\"little\"}],[\"position_lines_xs\",[[9,18]]],[\"position_lines_ys\",[[0.22591000000000003,0.22352]]]]}}},\"view\":{\"type\":\"object\",\"name\":\"CDSView\",\"id\":\"p6999\",\"attributes\":{\"filter\":{\"type\":\"object\",\"name\":\"AllIndices\",\"id\":\"p7000\"}}},\"glyph\":{\"type\":\"object\",\"name\":\"Scatter\",\"id\":\"p6995\",\"attributes\":{\"x\":{\"type\":\"field\",\"field\":\"index\"},\"y\":{\"type\":\"field\",\"field\":\"returns\"},\"size\":{\"type\":\"field\",\"field\":\"marker_size\"},\"fill_color\":{\"type\":\"field\",\"field\":\"returns_positive\",\"transform\":{\"type\":\"object\",\"name\":\"CategoricalColorMapper\",\"id\":\"p6841\",\"attributes\":{\"palette\":[\"tomato\",\"lime\"],\"factors\":[\"0\",\"1\"]}}},\"marker\":{\"type\":\"field\",\"field\":\"triangles\"}}},\"nonselection_glyph\":{\"type\":\"object\",\"name\":\"Scatter\",\"id\":\"p6996\",\"attributes\":{\"x\":{\"type\":\"field\",\"field\":\"index\"},\"y\":{\"type\":\"field\",\"field\":\"returns\"},\"size\":{\"type\":\"field\",\"field\":\"marker_size\"},\"line_alpha\":{\"type\":\"value\",\"value\":0.1},\"fill_color\":{\"type\":\"field\",\"field\":\"returns_positive\",\"transform\":{\"id\":\"p6841\"}},\"fill_alpha\":{\"type\":\"value\",\"value\":0.1},\"hatch_alpha\":{\"type\":\"value\",\"value\":0.1},\"marker\":{\"type\":\"field\",\"field\":\"triangles\"}}},\"muted_glyph\":{\"type\":\"object\",\"name\":\"Scatter\",\"id\":\"p6997\",\"attributes\":{\"x\":{\"type\":\"field\",\"field\":\"index\"},\"y\":{\"type\":\"field\",\"field\":\"returns\"},\"size\":{\"type\":\"field\",\"field\":\"marker_size\"},\"line_alpha\":{\"type\":\"value\",\"value\":0.2},\"fill_color\":{\"type\":\"field\",\"field\":\"returns_positive\",\"transform\":{\"id\":\"p6841\"}},\"fill_alpha\":{\"type\":\"value\",\"value\":0.2},\"hatch_alpha\":{\"type\":\"value\",\"value\":0.2},\"marker\":{\"type\":\"field\",\"field\":\"triangles\"}}}}}],\"tooltips\":[[\"Date\",\"@datetime{%c}\"],[\"Size\",\"@size{0,0}\"],[\"P/L\",\"@returns{+0.[000]%}\"]],\"formatters\":{\"type\":\"map\",\"entries\":[[\"@datetime\",\"datetime\"]]},\"point_policy\":\"follow_mouse\"}}]}},{\"type\":\"object\",\"name\":\"ToolProxy\",\"id\":\"p7214\",\"attributes\":{\"tools\":[{\"type\":\"object\",\"name\":\"HoverTool\",\"id\":\"p7199\",\"attributes\":{\"renderers\":[{\"type\":\"object\",\"name\":\"GlyphRenderer\",\"id\":\"p7089\",\"attributes\":{\"data_source\":{\"id\":\"p6834\"},\"view\":{\"type\":\"object\",\"name\":\"CDSView\",\"id\":\"p7090\",\"attributes\":{\"filter\":{\"type\":\"object\",\"name\":\"AllIndices\",\"id\":\"p7091\"}}},\"glyph\":{\"type\":\"object\",\"name\":\"VBar\",\"id\":\"p7086\",\"attributes\":{\"x\":{\"type\":\"field\",\"field\":\"index\"},\"width\":{\"type\":\"value\",\"value\":0.8},\"bottom\":{\"type\":\"field\",\"field\":\"Close\"},\"top\":{\"type\":\"field\",\"field\":\"Open\"},\"fill_color\":{\"type\":\"field\",\"field\":\"inc\",\"transform\":{\"type\":\"object\",\"name\":\"CategoricalColorMapper\",\"id\":\"p6840\",\"attributes\":{\"palette\":[\"tomato\",\"lime\"],\"factors\":[\"0\",\"1\"]}}}}},\"nonselection_glyph\":{\"type\":\"object\",\"name\":\"VBar\",\"id\":\"p7087\",\"attributes\":{\"x\":{\"type\":\"field\",\"field\":\"index\"},\"width\":{\"type\":\"value\",\"value\":0.8},\"bottom\":{\"type\":\"field\",\"field\":\"Close\"},\"top\":{\"type\":\"field\",\"field\":\"Open\"},\"line_alpha\":{\"type\":\"value\",\"value\":0.1},\"fill_color\":{\"type\":\"field\",\"field\":\"inc\",\"transform\":{\"id\":\"p6840\"}},\"fill_alpha\":{\"type\":\"value\",\"value\":0.1},\"hatch_alpha\":{\"type\":\"value\",\"value\":0.1}}},\"muted_glyph\":{\"type\":\"object\",\"name\":\"VBar\",\"id\":\"p7088\",\"attributes\":{\"x\":{\"type\":\"field\",\"field\":\"index\"},\"width\":{\"type\":\"value\",\"value\":0.8},\"bottom\":{\"type\":\"field\",\"field\":\"Close\"},\"top\":{\"type\":\"field\",\"field\":\"Open\"},\"line_alpha\":{\"type\":\"value\",\"value\":0.2},\"fill_color\":{\"type\":\"field\",\"field\":\"inc\",\"transform\":{\"id\":\"p6840\"}},\"fill_alpha\":{\"type\":\"value\",\"value\":0.2},\"hatch_alpha\":{\"type\":\"value\",\"value\":0.2}}}}}],\"tooltips\":[[\"Date\",\"@datetime{%c}\"],[\"x, y\",\"$index\\u00a0\\u00a0\\u00a0\\u00a0$y{0,0.0[0000]}\"],[\"OHLC\",\"@Open{0,0.0[0000]}\\u00a0\\u00a0\\u00a0\\u00a0@High{0,0.0[0000]}\\u00a0\\u00a0\\u00a0\\u00a0@Low{0,0.0[0000]}\\u00a0\\u00a0\\u00a0\\u00a0@Close{0,0.0[0000]}\"],[\"Volume\",\"@Volume{0,0}\"]],\"formatters\":{\"type\":\"map\",\"entries\":[[\"@datetime\",\"datetime\"]]},\"mode\":\"vline\",\"point_policy\":\"follow_mouse\"}}]}},{\"type\":\"object\",\"name\":\"ToolProxy\",\"id\":\"p7215\",\"attributes\":{\"tools\":[{\"type\":\"object\",\"name\":\"HoverTool\",\"id\":\"p7048\",\"attributes\":{\"renderers\":[{\"type\":\"object\",\"name\":\"GlyphRenderer\",\"id\":\"p7045\",\"attributes\":{\"data_source\":{\"id\":\"p6834\"},\"view\":{\"type\":\"object\",\"name\":\"CDSView\",\"id\":\"p7046\",\"attributes\":{\"filter\":{\"type\":\"object\",\"name\":\"AllIndices\",\"id\":\"p7047\"}}},\"glyph\":{\"type\":\"object\",\"name\":\"VBar\",\"id\":\"p7042\",\"attributes\":{\"x\":{\"type\":\"field\",\"field\":\"index\"},\"width\":{\"type\":\"value\",\"value\":0.8},\"top\":{\"type\":\"field\",\"field\":\"Volume\"},\"line_color\":{\"type\":\"field\",\"field\":\"inc\",\"transform\":{\"id\":\"p6840\"}},\"fill_color\":{\"type\":\"field\",\"field\":\"inc\",\"transform\":{\"id\":\"p6840\"}},\"hatch_color\":{\"type\":\"field\",\"field\":\"inc\",\"transform\":{\"id\":\"p6840\"}}}},\"nonselection_glyph\":{\"type\":\"object\",\"name\":\"VBar\",\"id\":\"p7043\",\"attributes\":{\"x\":{\"type\":\"field\",\"field\":\"index\"},\"width\":{\"type\":\"value\",\"value\":0.8},\"top\":{\"type\":\"field\",\"field\":\"Volume\"},\"line_color\":{\"type\":\"field\",\"field\":\"inc\",\"transform\":{\"id\":\"p6840\"}},\"line_alpha\":{\"type\":\"value\",\"value\":0.1},\"fill_color\":{\"type\":\"field\",\"field\":\"inc\",\"transform\":{\"id\":\"p6840\"}},\"fill_alpha\":{\"type\":\"value\",\"value\":0.1},\"hatch_color\":{\"type\":\"field\",\"field\":\"inc\",\"transform\":{\"id\":\"p6840\"}},\"hatch_alpha\":{\"type\":\"value\",\"value\":0.1}}},\"muted_glyph\":{\"type\":\"object\",\"name\":\"VBar\",\"id\":\"p7044\",\"attributes\":{\"x\":{\"type\":\"field\",\"field\":\"index\"},\"width\":{\"type\":\"value\",\"value\":0.8},\"top\":{\"type\":\"field\",\"field\":\"Volume\"},\"line_color\":{\"type\":\"field\",\"field\":\"inc\",\"transform\":{\"id\":\"p6840\"}},\"line_alpha\":{\"type\":\"value\",\"value\":0.2},\"fill_color\":{\"type\":\"field\",\"field\":\"inc\",\"transform\":{\"id\":\"p6840\"}},\"fill_alpha\":{\"type\":\"value\",\"value\":0.2},\"hatch_color\":{\"type\":\"field\",\"field\":\"inc\",\"transform\":{\"id\":\"p6840\"}},\"hatch_alpha\":{\"type\":\"value\",\"value\":0.2}}}}}],\"tooltips\":[[\"Date\",\"@datetime{%c}\"],[\"Volume\",\"@Volume{0.00 a}\"]],\"formatters\":{\"type\":\"map\",\"entries\":[[\"@datetime\",\"datetime\"]]},\"mode\":\"vline\",\"point_policy\":\"follow_mouse\"}}]}},{\"type\":\"object\",\"name\":\"ToolProxy\",\"id\":\"p7216\",\"attributes\":{\"tools\":[{\"type\":\"object\",\"name\":\"HoverTool\",\"id\":\"p7149\",\"attributes\":{\"renderers\":[{\"type\":\"object\",\"name\":\"GlyphRenderer\",\"id\":\"p7144\",\"attributes\":{\"data_source\":{\"id\":\"p6834\"},\"view\":{\"type\":\"object\",\"name\":\"CDSView\",\"id\":\"p7145\",\"attributes\":{\"filter\":{\"type\":\"object\",\"name\":\"AllIndices\",\"id\":\"p7146\"}}},\"glyph\":{\"type\":\"object\",\"name\":\"Line\",\"id\":\"p7141\",\"attributes\":{\"x\":{\"type\":\"field\",\"field\":\"index\"},\"y\":{\"type\":\"field\",\"field\":\"\\u03bb(adx)_0_0\"},\"line_color\":\"#1f77b4\",\"line_width\":1.3}},\"nonselection_glyph\":{\"type\":\"object\",\"name\":\"Line\",\"id\":\"p7142\",\"attributes\":{\"x\":{\"type\":\"field\",\"field\":\"index\"},\"y\":{\"type\":\"field\",\"field\":\"\\u03bb(adx)_0_0\"},\"line_color\":\"#1f77b4\",\"line_alpha\":0.1,\"line_width\":1.3}},\"muted_glyph\":{\"type\":\"object\",\"name\":\"Line\",\"id\":\"p7143\",\"attributes\":{\"x\":{\"type\":\"field\",\"field\":\"index\"},\"y\":{\"type\":\"field\",\"field\":\"\\u03bb(adx)_0_0\"},\"line_color\":\"#1f77b4\",\"line_alpha\":0.2,\"line_width\":1.3}}}}],\"tooltips\":[[\"Date\",\"@datetime{%c}\"],[\"\\u03bb(adx)\",\"@{\\u03bb(adx)_0_0}{0,0.0[0000]}\"]],\"formatters\":{\"type\":\"map\",\"entries\":[[\"@datetime\",\"datetime\"]]},\"mode\":\"vline\",\"point_policy\":\"follow_mouse\"}}]}},{\"type\":\"object\",\"name\":\"ToolProxy\",\"id\":\"p7217\",\"attributes\":{\"tools\":[{\"type\":\"object\",\"name\":\"HoverTool\",\"id\":\"p7197\",\"attributes\":{\"renderers\":[{\"type\":\"object\",\"name\":\"GlyphRenderer\",\"id\":\"p7192\",\"attributes\":{\"data_source\":{\"id\":\"p6834\"},\"view\":{\"type\":\"object\",\"name\":\"CDSView\",\"id\":\"p7193\",\"attributes\":{\"filter\":{\"type\":\"object\",\"name\":\"AllIndices\",\"id\":\"p7194\"}}},\"glyph\":{\"type\":\"object\",\"name\":\"Line\",\"id\":\"p7189\",\"attributes\":{\"x\":{\"type\":\"field\",\"field\":\"index\"},\"y\":{\"type\":\"field\",\"field\":\"\\u03bb_1_0\"},\"line_color\":\"#1f77b4\",\"line_width\":1.3}},\"nonselection_glyph\":{\"type\":\"object\",\"name\":\"Line\",\"id\":\"p7190\",\"attributes\":{\"x\":{\"type\":\"field\",\"field\":\"index\"},\"y\":{\"type\":\"field\",\"field\":\"\\u03bb_1_0\"},\"line_color\":\"#1f77b4\",\"line_alpha\":0.1,\"line_width\":1.3}},\"muted_glyph\":{\"type\":\"object\",\"name\":\"Line\",\"id\":\"p7191\",\"attributes\":{\"x\":{\"type\":\"field\",\"field\":\"index\"},\"y\":{\"type\":\"field\",\"field\":\"\\u03bb_1_0\"},\"line_color\":\"#1f77b4\",\"line_alpha\":0.2,\"line_width\":1.3}}}}],\"tooltips\":[[\"Date\",\"@datetime{%c}\"],[\"\\u03bb\",\"@{\\u03bb_1_0}{0,0.0[0000]}\"]],\"formatters\":{\"type\":\"map\",\"entries\":[[\"@datetime\",\"datetime\"]]},\"mode\":\"vline\",\"point_policy\":\"follow_mouse\"}}]}},{\"type\":\"object\",\"name\":\"ToolProxy\",\"id\":\"p7218\",\"attributes\":{\"tools\":[{\"type\":\"object\",\"name\":\"CrosshairTool\",\"id\":\"p7203\",\"attributes\":{\"overlay\":[{\"type\":\"object\",\"name\":\"Span\",\"id\":\"p7201\",\"attributes\":{\"line_dash\":[2,4]}},{\"type\":\"object\",\"name\":\"Span\",\"id\":\"p7202\",\"attributes\":{\"dimension\":\"height\",\"line_dash\":[2,4]}}],\"line_color\":\"lightgrey\"}},{\"id\":\"p7203\"},{\"id\":\"p7203\"},{\"id\":\"p7203\"},{\"id\":\"p7203\"},{\"id\":\"p7203\"}]}}],\"logo\":null,\"active_drag\":{\"id\":\"p7204\"},\"active_scroll\":{\"id\":\"p7205\"}}},\"toolbar_location\":\"right\",\"children\":[[{\"type\":\"object\",\"name\":\"Figure\",\"id\":\"p6845\",\"attributes\":{\"width\":null,\"height\":100,\"sizing_mode\":\"stretch_width\",\"x_range\":{\"type\":\"object\",\"name\":\"Range1d\",\"id\":\"p6797\",\"attributes\":{\"js_property_callbacks\":{\"type\":\"map\",\"entries\":[[\"change:end\",[{\"type\":\"object\",\"name\":\"CustomJS\",\"id\":\"p7200\",\"attributes\":{\"args\":{\"type\":\"map\",\"entries\":[[\"ohlc_range\",{\"type\":\"object\",\"name\":\"DataRange1d\",\"id\":\"p6800\"}],[\"source\",{\"id\":\"p6834\"}],[\"volume_range\",{\"type\":\"object\",\"name\":\"DataRange1d\",\"id\":\"p7005\"}]]},\"code\":\"if (!window._bt_scale_range) {\\n    window._bt_scale_range = function (range, min, max, pad) {\\n        \\\"use strict\\\";\\n        if (min !== Infinity && max !== -Infinity) {\\n            pad = pad ? (max - min) * .03 : 0;\\n            range.start = min - pad;\\n            range.end = max + pad;\\n        } else console.error('backtesting: scale range error:', min, max, range);\\n    };\\n}\\n\\nclearTimeout(window._bt_autoscale_timeout);\\n\\nwindow._bt_autoscale_timeout = setTimeout(function () {\\n    /**\\n     * @variable cb_obj `fig_ohlc.x_range`.\\n     * @variable source `ColumnDataSource`\\n     * @variable ohlc_range `fig_ohlc.y_range`.\\n     * @variable volume_range `fig_volume.y_range`.\\n     */\\n    \\\"use strict\\\";\\n\\n    let i = Math.max(Math.floor(cb_obj.start), 0),\\n        j = Math.min(Math.ceil(cb_obj.end), source.data['ohlc_high'].length);\\n\\n    let max = Math.max.apply(null, source.data['ohlc_high'].slice(i, j)),\\n        min = Math.min.apply(null, source.data['ohlc_low'].slice(i, j));\\n    _bt_scale_range(ohlc_range, min, max, true);\\n\\n    if (volume_range) {\\n        max = Math.max.apply(null, source.data['Volume'].slice(i, j));\\n        _bt_scale_range(volume_range, 0, max * 1.03, false);\\n    }\\n\\n}, 50);\\n\"}}]]]},\"end\":19,\"bounds\":[-0.95,19.95],\"min_interval\":10}},\"y_range\":{\"type\":\"object\",\"name\":\"DataRange1d\",\"id\":\"p6847\"},\"x_scale\":{\"type\":\"object\",\"name\":\"LinearScale\",\"id\":\"p6854\"},\"y_scale\":{\"type\":\"object\",\"name\":\"LinearScale\",\"id\":\"p6855\"},\"title\":{\"type\":\"object\",\"name\":\"Title\",\"id\":\"p6852\"},\"outline_line_color\":\"#666666\",\"renderers\":[{\"type\":\"object\",\"name\":\"GlyphRenderer\",\"id\":\"p6890\",\"attributes\":{\"data_source\":{\"type\":\"object\",\"name\":\"ColumnDataSource\",\"id\":\"p6881\",\"attributes\":{\"selected\":{\"type\":\"object\",\"name\":\"Selection\",\"id\":\"p6882\",\"attributes\":{\"indices\":[],\"line_indices\":[]}},\"selection_policy\":{\"type\":\"object\",\"name\":\"UnionRenderers\",\"id\":\"p6883\"},\"data\":{\"type\":\"map\",\"entries\":[[\"index\",{\"type\":\"ndarray\",\"array\":{\"type\":\"bytes\",\"data\":\"AAAAAAEAAAACAAAAAwAAAAQAAAAFAAAABgAAAAcAAAAIAAAACQAAAAoAAAALAAAADAAAAA0AAAAOAAAADwAAABAAAAARAAAAEgAAABMAAAATAAAAEgAAABEAAAAQAAAADwAAAA4AAAANAAAADAAAAAsAAAAKAAAACQAAAAgAAAAHAAAABgAAAAUAAAAEAAAAAwAAAAIAAAABAAAAAAAAAA==\"},\"shape\":[40],\"dtype\":\"int32\",\"order\":\"little\"}],[\"equity_dd\",{\"type\":\"ndarray\",\"array\":{\"type\":\"bytes\",\"data\":\"AAAAAAAA8D8AAAAAAADwPwAAAAAAAPA/AAAAAAAA8D8AAAAAAADwPwAAAAAAAPA/AAAAAAAA8D8AAAAAAADwPwAAAAAAAPA/7KVAdRa67z+Au2SprbDvP4Yst0ec9+8/91Q8IZDu7z9PDHW79sDvPxXZ3Ue3zu8/SKvM8ezI7z9obRcmn5bvP3Lxvqsnme8/YWuU1hTH7z/BlIw7pIfvPwAAAAAAAPA/AAAAAAAA8D8AAAAAAADwPwAAAAAAAPA/AAAAAAAA8D8AAAAAAADwPwAAAAAAAPA/AAAAAAAA8D8AAAAAAADwPwAAAAAAAPA/AAAAAAAA8D8AAAAAAADwPwAAAAAAAPA/AAAAAAAA8D8AAAAAAADwPwAAAAAAAPA/AAAAAAAA8D8AAAAAAADwPwAAAAAAAPA/AAAAAAAA8D8=\"},\"shape\":[40],\"dtype\":\"float64\",\"order\":\"little\"}]]}}},\"view\":{\"type\":\"object\",\"name\":\"CDSView\",\"id\":\"p6891\",\"attributes\":{\"filter\":{\"type\":\"object\",\"name\":\"AllIndices\",\"id\":\"p6892\"}}},\"glyph\":{\"type\":\"object\",\"name\":\"Patch\",\"id\":\"p6887\",\"attributes\":{\"x\":{\"type\":\"field\",\"field\":\"index\"},\"y\":{\"type\":\"field\",\"field\":\"equity_dd\"},\"line_color\":\"#ffcb66\",\"fill_color\":\"#ffffea\"}},\"nonselection_glyph\":{\"type\":\"object\",\"name\":\"Patch\",\"id\":\"p6888\",\"attributes\":{\"x\":{\"type\":\"field\",\"field\":\"index\"},\"y\":{\"type\":\"field\",\"field\":\"equity_dd\"},\"line_color\":\"#ffcb66\",\"line_alpha\":0.1,\"fill_color\":\"#ffffea\",\"fill_alpha\":0.1,\"hatch_alpha\":0.1}},\"muted_glyph\":{\"type\":\"object\",\"name\":\"Patch\",\"id\":\"p6889\",\"attributes\":{\"x\":{\"type\":\"field\",\"field\":\"index\"},\"y\":{\"type\":\"field\",\"field\":\"equity_dd\"},\"line_color\":\"#ffcb66\",\"line_alpha\":0.2,\"fill_color\":\"#ffffea\",\"fill_alpha\":0.2,\"hatch_alpha\":0.2}}}},{\"id\":\"p6899\"},{\"type\":\"object\",\"name\":\"GlyphRenderer\",\"id\":\"p6910\",\"attributes\":{\"data_source\":{\"type\":\"object\",\"name\":\"ColumnDataSource\",\"id\":\"p6904\",\"attributes\":{\"selected\":{\"type\":\"object\",\"name\":\"Selection\",\"id\":\"p6905\",\"attributes\":{\"indices\":[],\"line_indices\":[]}},\"selection_policy\":{\"type\":\"object\",\"name\":\"UnionRenderers\",\"id\":\"p6906\"},\"data\":{\"type\":\"map\"}}},\"view\":{\"type\":\"object\",\"name\":\"CDSView\",\"id\":\"p6911\",\"attributes\":{\"filter\":{\"type\":\"object\",\"name\":\"AllIndices\",\"id\":\"p6912\"}}},\"glyph\":{\"type\":\"object\",\"name\":\"Scatter\",\"id\":\"p6907\",\"attributes\":{\"x\":{\"type\":\"value\",\"value\":0},\"y\":{\"type\":\"value\",\"value\":1.0},\"size\":{\"type\":\"value\",\"value\":8},\"line_color\":{\"type\":\"value\",\"value\":\"cyan\"},\"fill_color\":{\"type\":\"value\",\"value\":\"cyan\"},\"hatch_color\":{\"type\":\"value\",\"value\":\"cyan\"}}},\"nonselection_glyph\":{\"type\":\"object\",\"name\":\"Scatter\",\"id\":\"p6908\",\"attributes\":{\"x\":{\"type\":\"value\",\"value\":0},\"y\":{\"type\":\"value\",\"value\":1.0},\"size\":{\"type\":\"value\",\"value\":8},\"line_color\":{\"type\":\"value\",\"value\":\"cyan\"},\"line_alpha\":{\"type\":\"value\",\"value\":0.1},\"fill_color\":{\"type\":\"value\",\"value\":\"cyan\"},\"fill_alpha\":{\"type\":\"value\",\"value\":0.1},\"hatch_color\":{\"type\":\"value\",\"value\":\"cyan\"},\"hatch_alpha\":{\"type\":\"value\",\"value\":0.1}}},\"muted_glyph\":{\"type\":\"object\",\"name\":\"Scatter\",\"id\":\"p6909\",\"attributes\":{\"x\":{\"type\":\"value\",\"value\":0},\"y\":{\"type\":\"value\",\"value\":1.0},\"size\":{\"type\":\"value\",\"value\":8},\"line_color\":{\"type\":\"value\",\"value\":\"cyan\"},\"line_alpha\":{\"type\":\"value\",\"value\":0.2},\"fill_color\":{\"type\":\"value\",\"value\":\"cyan\"},\"fill_alpha\":{\"type\":\"value\",\"value\":0.2},\"hatch_color\":{\"type\":\"value\",\"value\":\"cyan\"},\"hatch_alpha\":{\"type\":\"value\",\"value\":0.2}}}}},{\"type\":\"object\",\"name\":\"GlyphRenderer\",\"id\":\"p6921\",\"attributes\":{\"data_source\":{\"type\":\"object\",\"name\":\"ColumnDataSource\",\"id\":\"p6915\",\"attributes\":{\"selected\":{\"type\":\"object\",\"name\":\"Selection\",\"id\":\"p6916\",\"attributes\":{\"indices\":[],\"line_indices\":[]}},\"selection_policy\":{\"type\":\"object\",\"name\":\"UnionRenderers\",\"id\":\"p6917\"},\"data\":{\"type\":\"map\"}}},\"view\":{\"type\":\"object\",\"name\":\"CDSView\",\"id\":\"p6922\",\"attributes\":{\"filter\":{\"type\":\"object\",\"name\":\"AllIndices\",\"id\":\"p6923\"}}},\"glyph\":{\"type\":\"object\",\"name\":\"Scatter\",\"id\":\"p6918\",\"attributes\":{\"x\":{\"type\":\"value\",\"value\":19},\"y\":{\"type\":\"value\",\"value\":0.985307804400371},\"size\":{\"type\":\"value\",\"value\":8},\"line_color\":{\"type\":\"value\",\"value\":\"blue\"},\"fill_color\":{\"type\":\"value\",\"value\":\"blue\"},\"hatch_color\":{\"type\":\"value\",\"value\":\"blue\"}}},\"nonselection_glyph\":{\"type\":\"object\",\"name\":\"Scatter\",\"id\":\"p6919\",\"attributes\":{\"x\":{\"type\":\"value\",\"value\":19},\"y\":{\"type\":\"value\",\"value\":0.985307804400371},\"size\":{\"type\":\"value\",\"value\":8},\"line_color\":{\"type\":\"value\",\"value\":\"blue\"},\"line_alpha\":{\"type\":\"value\",\"value\":0.1},\"fill_color\":{\"type\":\"value\",\"value\":\"blue\"},\"fill_alpha\":{\"type\":\"value\",\"value\":0.1},\"hatch_color\":{\"type\":\"value\",\"value\":\"blue\"},\"hatch_alpha\":{\"type\":\"value\",\"value\":0.1}}},\"muted_glyph\":{\"type\":\"object\",\"name\":\"Scatter\",\"id\":\"p6920\",\"attributes\":{\"x\":{\"type\":\"value\",\"value\":19},\"y\":{\"type\":\"value\",\"value\":0.985307804400371},\"size\":{\"type\":\"value\",\"value\":8},\"line_color\":{\"type\":\"value\",\"value\":\"blue\"},\"line_alpha\":{\"type\":\"value\",\"value\":0.2},\"fill_color\":{\"type\":\"value\",\"value\":\"blue\"},\"fill_alpha\":{\"type\":\"value\",\"value\":0.2},\"hatch_color\":{\"type\":\"value\",\"value\":\"blue\"},\"hatch_alpha\":{\"type\":\"value\",\"value\":0.2}}}}},{\"type\":\"object\",\"name\":\"GlyphRenderer\",\"id\":\"p6931\",\"attributes\":{\"data_source\":{\"type\":\"object\",\"name\":\"ColumnDataSource\",\"id\":\"p6925\",\"attributes\":{\"selected\":{\"type\":\"object\",\"name\":\"Selection\",\"id\":\"p6926\",\"attributes\":{\"indices\":[],\"line_indices\":[]}},\"selection_policy\":{\"type\":\"object\",\"name\":\"UnionRenderers\",\"id\":\"p6927\"},\"data\":{\"type\":\"map\"}}},\"view\":{\"type\":\"object\",\"name\":\"CDSView\",\"id\":\"p6932\",\"attributes\":{\"filter\":{\"type\":\"object\",\"name\":\"AllIndices\",\"id\":\"p6933\"}}},\"glyph\":{\"type\":\"object\",\"name\":\"Scatter\",\"id\":\"p6928\",\"attributes\":{\"x\":{\"type\":\"value\",\"value\":19},\"y\":{\"type\":\"value\",\"value\":0.985307804400371},\"size\":{\"type\":\"value\",\"value\":8},\"line_color\":{\"type\":\"value\",\"value\":\"red\"},\"fill_color\":{\"type\":\"value\",\"value\":\"red\"},\"hatch_color\":{\"type\":\"value\",\"value\":\"red\"}}},\"nonselection_glyph\":{\"type\":\"object\",\"name\":\"Scatter\",\"id\":\"p6929\",\"attributes\":{\"x\":{\"type\":\"value\",\"value\":19},\"y\":{\"type\":\"value\",\"value\":0.985307804400371},\"size\":{\"type\":\"value\",\"value\":8},\"line_color\":{\"type\":\"value\",\"value\":\"red\"},\"line_alpha\":{\"type\":\"value\",\"value\":0.1},\"fill_color\":{\"type\":\"value\",\"value\":\"red\"},\"fill_alpha\":{\"type\":\"value\",\"value\":0.1},\"hatch_color\":{\"type\":\"value\",\"value\":\"red\"},\"hatch_alpha\":{\"type\":\"value\",\"value\":0.1}}},\"muted_glyph\":{\"type\":\"object\",\"name\":\"Scatter\",\"id\":\"p6930\",\"attributes\":{\"x\":{\"type\":\"value\",\"value\":19},\"y\":{\"type\":\"value\",\"value\":0.985307804400371},\"size\":{\"type\":\"value\",\"value\":8},\"line_color\":{\"type\":\"value\",\"value\":\"red\"},\"line_alpha\":{\"type\":\"value\",\"value\":0.2},\"fill_color\":{\"type\":\"value\",\"value\":\"red\"},\"fill_alpha\":{\"type\":\"value\",\"value\":0.2},\"hatch_color\":{\"type\":\"value\",\"value\":\"red\"},\"hatch_alpha\":{\"type\":\"value\",\"value\":0.2}}}}},{\"type\":\"object\",\"name\":\"GlyphRenderer\",\"id\":\"p6941\",\"attributes\":{\"data_source\":{\"type\":\"object\",\"name\":\"ColumnDataSource\",\"id\":\"p6935\",\"attributes\":{\"selected\":{\"type\":\"object\",\"name\":\"Selection\",\"id\":\"p6936\",\"attributes\":{\"indices\":[],\"line_indices\":[]}},\"selection_policy\":{\"type\":\"object\",\"name\":\"UnionRenderers\",\"id\":\"p6937\"},\"data\":{\"type\":\"map\",\"entries\":[[\"x\",[0,19]]]}}},\"view\":{\"type\":\"object\",\"name\":\"CDSView\",\"id\":\"p6942\",\"attributes\":{\"filter\":{\"type\":\"object\",\"name\":\"AllIndices\",\"id\":\"p6943\"}}},\"glyph\":{\"type\":\"object\",\"name\":\"Line\",\"id\":\"p6938\",\"attributes\":{\"x\":{\"type\":\"field\",\"field\":\"x\"},\"y\":{\"type\":\"value\",\"value\":1.0},\"line_color\":\"red\",\"line_width\":2}},\"nonselection_glyph\":{\"type\":\"object\",\"name\":\"Line\",\"id\":\"p6939\",\"attributes\":{\"x\":{\"type\":\"field\",\"field\":\"x\"},\"y\":{\"type\":\"value\",\"value\":1.0},\"line_color\":\"red\",\"line_alpha\":0.1,\"line_width\":2}},\"muted_glyph\":{\"type\":\"object\",\"name\":\"Line\",\"id\":\"p6940\",\"attributes\":{\"x\":{\"type\":\"field\",\"field\":\"x\"},\"y\":{\"type\":\"value\",\"value\":1.0},\"line_color\":\"red\",\"line_alpha\":0.2,\"line_width\":2}}}}],\"toolbar\":{\"type\":\"object\",\"name\":\"Toolbar\",\"id\":\"p6853\",\"attributes\":{\"tools\":[{\"id\":\"p6866\"},{\"id\":\"p6867\"},{\"id\":\"p6868\"},{\"id\":\"p6869\"},{\"id\":\"p6877\"},{\"id\":\"p6878\"},{\"id\":\"p6879\"},{\"type\":\"object\",\"name\":\"SaveTool\",\"id\":\"p6880\"},{\"id\":\"p6902\"},{\"id\":\"p7203\"}],\"active_drag\":{\"id\":\"p6866\"},\"active_scroll\":{\"id\":\"p6867\"}}},\"toolbar_location\":null,\"left\":[{\"type\":\"object\",\"name\":\"LinearAxis\",\"id\":\"p6861\",\"attributes\":{\"ticker\":{\"type\":\"object\",\"name\":\"BasicTicker\",\"id\":\"p6862\",\"attributes\":{\"desired_num_ticks\":3,\"mantissas\":[1,2,5]}},\"formatter\":{\"type\":\"object\",\"name\":\"NumeralTickFormatter\",\"id\":\"p6903\",\"attributes\":{\"format\":\"0,0.[00]%\"}},\"axis_label\":\"Equity\",\"major_label_policy\":{\"type\":\"object\",\"name\":\"AllLabels\",\"id\":\"p6864\"},\"minor_tick_line_color\":null}}],\"below\":[{\"type\":\"object\",\"name\":\"LinearAxis\",\"id\":\"p6856\",\"attributes\":{\"visible\":false,\"ticker\":{\"type\":\"object\",\"name\":\"BasicTicker\",\"id\":\"p6857\",\"attributes\":{\"mantissas\":[1,2,5]}},\"formatter\":{\"type\":\"object\",\"name\":\"BasicTickFormatter\",\"id\":\"p6858\"},\"major_label_policy\":{\"type\":\"object\",\"name\":\"AllLabels\",\"id\":\"p6859\"}}}],\"center\":[{\"type\":\"object\",\"name\":\"Grid\",\"id\":\"p6860\",\"attributes\":{\"axis\":{\"id\":\"p6856\"}}},{\"type\":\"object\",\"name\":\"Grid\",\"id\":\"p6865\",\"attributes\":{\"dimension\":1,\"axis\":{\"id\":\"p6861\"}}},{\"type\":\"object\",\"name\":\"Legend\",\"id\":\"p6913\",\"attributes\":{\"location\":\"top_left\",\"border_line_color\":\"#333333\",\"background_fill_alpha\":0.9,\"click_policy\":\"hide\",\"label_text_font_size\":\"8pt\",\"margin\":0,\"padding\":5,\"spacing\":0,\"items\":[{\"type\":\"object\",\"name\":\"LegendItem\",\"id\":\"p6914\",\"attributes\":{\"label\":{\"type\":\"value\",\"value\":\"Peak (100%)\"},\"renderers\":[{\"id\":\"p6910\"}]}},{\"type\":\"object\",\"name\":\"LegendItem\",\"id\":\"p6924\",\"attributes\":{\"label\":{\"type\":\"value\",\"value\":\"Final (99%)\"},\"renderers\":[{\"id\":\"p6921\"}]}},{\"type\":\"object\",\"name\":\"LegendItem\",\"id\":\"p6934\",\"attributes\":{\"label\":{\"type\":\"value\",\"value\":\"Max Drawdown (-1.5%)\"},\"renderers\":[{\"id\":\"p6931\"}]}},{\"type\":\"object\",\"name\":\"LegendItem\",\"id\":\"p6944\",\"attributes\":{\"label\":{\"type\":\"value\",\"value\":\"Max Dd Dur. (19:00:00)\"},\"renderers\":[{\"id\":\"p6941\"}]}}]}}],\"min_border_top\":3,\"min_border_bottom\":6,\"min_border_left\":0,\"min_border_right\":10}},0,0],[{\"type\":\"object\",\"name\":\"Figure\",\"id\":\"p6945\",\"attributes\":{\"width\":null,\"height\":80,\"sizing_mode\":\"stretch_width\",\"x_range\":{\"id\":\"p6797\"},\"y_range\":{\"type\":\"object\",\"name\":\"DataRange1d\",\"id\":\"p6947\"},\"x_scale\":{\"type\":\"object\",\"name\":\"LinearScale\",\"id\":\"p6954\"},\"y_scale\":{\"type\":\"object\",\"name\":\"LinearScale\",\"id\":\"p6955\"},\"title\":{\"type\":\"object\",\"name\":\"Title\",\"id\":\"p6952\"},\"outline_line_color\":\"#666666\",\"renderers\":[{\"type\":\"object\",\"name\":\"GlyphRenderer\",\"id\":\"p6989\",\"attributes\":{\"data_source\":{\"id\":\"p6837\"},\"view\":{\"type\":\"object\",\"name\":\"CDSView\",\"id\":\"p6990\",\"attributes\":{\"filter\":{\"type\":\"object\",\"name\":\"AllIndices\",\"id\":\"p6991\"}}},\"glyph\":{\"type\":\"object\",\"name\":\"MultiLine\",\"id\":\"p6986\",\"attributes\":{\"xs\":{\"type\":\"field\",\"field\":\"lines\"},\"ys\":{\"type\":\"field\",\"field\":\"returns\",\"transform\":{\"type\":\"object\",\"name\":\"CustomJSTransform\",\"id\":\"p6982\",\"attributes\":{\"v_func\":\"return [...xs].map(i => [0, i]);\"}}},\"line_color\":{\"type\":\"value\",\"value\":\"#999\"}}},\"nonselection_glyph\":{\"type\":\"object\",\"name\":\"MultiLine\",\"id\":\"p6987\",\"attributes\":{\"xs\":{\"type\":\"field\",\"field\":\"lines\"},\"ys\":{\"type\":\"field\",\"field\":\"returns\",\"transform\":{\"id\":\"p6982\"}},\"line_color\":{\"type\":\"value\",\"value\":\"#999\"},\"line_alpha\":{\"type\":\"value\",\"value\":0.1}}},\"muted_glyph\":{\"type\":\"object\",\"name\":\"MultiLine\",\"id\":\"p6988\",\"attributes\":{\"xs\":{\"type\":\"field\",\"field\":\"lines\"},\"ys\":{\"type\":\"field\",\"field\":\"returns\",\"transform\":{\"id\":\"p6982\"}},\"line_color\":{\"type\":\"value\",\"value\":\"#999\"},\"line_alpha\":{\"type\":\"value\",\"value\":0.2}}}}},{\"id\":\"p6998\"}],\"toolbar\":{\"type\":\"object\",\"name\":\"Toolbar\",\"id\":\"p6953\",\"attributes\":{\"tools\":[{\"id\":\"p6966\"},{\"id\":\"p6967\"},{\"id\":\"p6968\"},{\"id\":\"p6969\"},{\"id\":\"p6977\"},{\"id\":\"p6978\"},{\"id\":\"p6979\"},{\"type\":\"object\",\"name\":\"SaveTool\",\"id\":\"p6980\"},{\"id\":\"p7001\"},{\"id\":\"p7203\"}],\"active_drag\":{\"id\":\"p6966\"},\"active_scroll\":{\"id\":\"p6967\"}}},\"toolbar_location\":null,\"left\":[{\"type\":\"object\",\"name\":\"LinearAxis\",\"id\":\"p6961\",\"attributes\":{\"ticker\":{\"type\":\"object\",\"name\":\"BasicTicker\",\"id\":\"p6962\",\"attributes\":{\"desired_num_ticks\":3,\"mantissas\":[1,2,5]}},\"formatter\":{\"type\":\"object\",\"name\":\"NumeralTickFormatter\",\"id\":\"p7002\",\"attributes\":{\"format\":\"0.[00]%\"}},\"axis_label\":\"Profit / Loss\",\"major_label_policy\":{\"type\":\"object\",\"name\":\"AllLabels\",\"id\":\"p6964\"},\"minor_tick_line_color\":null}}],\"below\":[{\"type\":\"object\",\"name\":\"LinearAxis\",\"id\":\"p6956\",\"attributes\":{\"visible\":false,\"ticker\":{\"type\":\"object\",\"name\":\"BasicTicker\",\"id\":\"p6957\",\"attributes\":{\"mantissas\":[1,2,5]}},\"formatter\":{\"type\":\"object\",\"name\":\"BasicTickFormatter\",\"id\":\"p6958\"},\"major_label_policy\":{\"type\":\"object\",\"name\":\"AllLabels\",\"id\":\"p6959\"}}}],\"center\":[{\"type\":\"object\",\"name\":\"Grid\",\"id\":\"p6960\",\"attributes\":{\"axis\":{\"id\":\"p6956\"}}},{\"type\":\"object\",\"name\":\"Grid\",\"id\":\"p6965\",\"attributes\":{\"dimension\":1,\"axis\":{\"id\":\"p6961\"}}},{\"type\":\"object\",\"name\":\"Span\",\"id\":\"p6981\",\"attributes\":{\"level\":\"underlay\",\"location\":0,\"line_color\":\"#666666\",\"line_dash\":[6]}}],\"min_border_top\":3,\"min_border_bottom\":6,\"min_border_left\":0,\"min_border_right\":10}},1,0],[{\"type\":\"object\",\"name\":\"Figure\",\"id\":\"p6798\",\"attributes\":{\"width\":null,\"height\":400,\"sizing_mode\":\"stretch_width\",\"x_range\":{\"id\":\"p6797\"},\"y_range\":{\"id\":\"p6800\"},\"x_scale\":{\"type\":\"object\",\"name\":\"LinearScale\",\"id\":\"p6807\"},\"y_scale\":{\"type\":\"object\",\"name\":\"LinearScale\",\"id\":\"p6808\"},\"title\":{\"type\":\"object\",\"name\":\"Title\",\"id\":\"p6805\"},\"outline_line_color\":\"#666666\",\"renderers\":[{\"type\":\"object\",\"name\":\"GlyphRenderer\",\"id\":\"p7059\",\"attributes\":{\"data_source\":{\"type\":\"object\",\"name\":\"ColumnDataSource\",\"id\":\"p7050\",\"attributes\":{\"selected\":{\"type\":\"object\",\"name\":\"Selection\",\"id\":\"p7051\",\"attributes\":{\"indices\":[],\"line_indices\":[]}},\"selection_policy\":{\"type\":\"object\",\"name\":\"UnionRenderers\",\"id\":\"p7052\"},\"data\":{\"type\":\"map\",\"entries\":[[\"index\",{\"type\":\"ndarray\",\"array\":{\"type\":\"bytes\",\"data\":\"AAAAAAAA8D8AAAAAAAAmQA==\"},\"shape\":[2],\"dtype\":\"float64\",\"order\":\"little\"}],[\"Open\",{\"type\":\"ndarray\",\"array\":{\"type\":\"bytes\",\"data\":\"nYU97fDXzD9MN4lBYOXMPw==\"},\"shape\":[2],\"dtype\":\"float64\",\"order\":\"little\"}],[\"High\",{\"type\":\"ndarray\",\"array\":{\"type\":\"bytes\",\"data\":\"ZMxdS8gHzT8RUyKJXkbNPw==\"},\"shape\":[2],\"dtype\":\"float64\",\"order\":\"little\"}],[\"Low\",{\"type\":\"ndarray\",\"array\":{\"type\":\"bytes\",\"data\":\"GFsIclDCzD9KRs7CnnbMPw==\"},\"shape\":[2],\"dtype\":\"float64\",\"order\":\"little\"}],[\"Close\",{\"type\":\"ndarray\",\"array\":{\"type\":\"bytes\",\"data\":\"vhOzXgzlzD+Z8Ev9vKnMPw==\"},\"shape\":[2],\"dtype\":\"float64\",\"order\":\"little\"}],[\"Volume\",{\"type\":\"ndarray\",\"array\":{\"type\":\"bytes\",\"data\":\"AAAAwG/JWkEAAABYxhaEQQ==\"},\"shape\":[2],\"dtype\":\"float64\",\"order\":\"little\"}],[\"_width\",{\"type\":\"ndarray\",\"array\":{\"type\":\"bytes\",\"data\":\"MzMzMzMzB0BmZmZmZuYwQA==\"},\"shape\":[2],\"dtype\":\"float64\",\"order\":\"little\"}],[\"inc\",{\"type\":\"ndarray\",\"array\":[\"1\",\"0\"],\"shape\":[2],\"dtype\":\"object\",\"order\":\"little\"}]]}}},\"view\":{\"type\":\"object\",\"name\":\"CDSView\",\"id\":\"p7060\",\"attributes\":{\"filter\":{\"type\":\"object\",\"name\":\"AllIndices\",\"id\":\"p7061\"}}},\"glyph\":{\"type\":\"object\",\"name\":\"Segment\",\"id\":\"p7056\",\"attributes\":{\"x0\":{\"type\":\"field\",\"field\":\"index\"},\"y0\":{\"type\":\"field\",\"field\":\"High\"},\"x1\":{\"type\":\"field\",\"field\":\"index\"},\"y1\":{\"type\":\"field\",\"field\":\"Low\"},\"line_color\":{\"type\":\"value\",\"value\":\"#bbbbbb\"}}},\"nonselection_glyph\":{\"type\":\"object\",\"name\":\"Segment\",\"id\":\"p7057\",\"attributes\":{\"x0\":{\"type\":\"field\",\"field\":\"index\"},\"y0\":{\"type\":\"field\",\"field\":\"High\"},\"x1\":{\"type\":\"field\",\"field\":\"index\"},\"y1\":{\"type\":\"field\",\"field\":\"Low\"},\"line_color\":{\"type\":\"value\",\"value\":\"#bbbbbb\"},\"line_alpha\":{\"type\":\"value\",\"value\":0.1}}},\"muted_glyph\":{\"type\":\"object\",\"name\":\"Segment\",\"id\":\"p7058\",\"attributes\":{\"x0\":{\"type\":\"field\",\"field\":\"index\"},\"y0\":{\"type\":\"field\",\"field\":\"High\"},\"x1\":{\"type\":\"field\",\"field\":\"index\"},\"y1\":{\"type\":\"field\",\"field\":\"Low\"},\"line_color\":{\"type\":\"value\",\"value\":\"#bbbbbb\"},\"line_alpha\":{\"type\":\"value\",\"value\":0.2}}}}},{\"type\":\"object\",\"name\":\"GlyphRenderer\",\"id\":\"p7069\",\"attributes\":{\"data_source\":{\"id\":\"p7050\"},\"view\":{\"type\":\"object\",\"name\":\"CDSView\",\"id\":\"p7070\",\"attributes\":{\"filter\":{\"type\":\"object\",\"name\":\"AllIndices\",\"id\":\"p7071\"}}},\"glyph\":{\"type\":\"object\",\"name\":\"VBar\",\"id\":\"p7066\",\"attributes\":{\"x\":{\"type\":\"field\",\"field\":\"index\"},\"width\":{\"type\":\"field\",\"field\":\"_width\"},\"bottom\":{\"type\":\"field\",\"field\":\"Close\"},\"top\":{\"type\":\"field\",\"field\":\"Open\"},\"line_color\":{\"type\":\"value\",\"value\":null},\"fill_color\":{\"type\":\"field\",\"field\":\"inc\",\"transform\":{\"type\":\"object\",\"name\":\"CategoricalColorMapper\",\"id\":\"p7062\",\"attributes\":{\"palette\":[\"rgb(255, 220, 214)\",\"rgb(214, 254, 214)\"],\"factors\":[\"0\",\"1\"]}}}}},\"nonselection_glyph\":{\"type\":\"object\",\"name\":\"VBar\",\"id\":\"p7067\",\"attributes\":{\"x\":{\"type\":\"field\",\"field\":\"index\"},\"width\":{\"type\":\"field\",\"field\":\"_width\"},\"bottom\":{\"type\":\"field\",\"field\":\"Close\"},\"top\":{\"type\":\"field\",\"field\":\"Open\"},\"line_color\":{\"type\":\"value\",\"value\":null},\"line_alpha\":{\"type\":\"value\",\"value\":0.1},\"fill_color\":{\"type\":\"field\",\"field\":\"inc\",\"transform\":{\"id\":\"p7062\"}},\"fill_alpha\":{\"type\":\"value\",\"value\":0.1},\"hatch_alpha\":{\"type\":\"value\",\"value\":0.1}}},\"muted_glyph\":{\"type\":\"object\",\"name\":\"VBar\",\"id\":\"p7068\",\"attributes\":{\"x\":{\"type\":\"field\",\"field\":\"index\"},\"width\":{\"type\":\"field\",\"field\":\"_width\"},\"bottom\":{\"type\":\"field\",\"field\":\"Close\"},\"top\":{\"type\":\"field\",\"field\":\"Open\"},\"line_color\":{\"type\":\"value\",\"value\":null},\"line_alpha\":{\"type\":\"value\",\"value\":0.2},\"fill_color\":{\"type\":\"field\",\"field\":\"inc\",\"transform\":{\"id\":\"p7062\"}},\"fill_alpha\":{\"type\":\"value\",\"value\":0.2},\"hatch_alpha\":{\"type\":\"value\",\"value\":0.2}}}}},{\"type\":\"object\",\"name\":\"GlyphRenderer\",\"id\":\"p7078\",\"attributes\":{\"data_source\":{\"id\":\"p6834\"},\"view\":{\"type\":\"object\",\"name\":\"CDSView\",\"id\":\"p7079\",\"attributes\":{\"filter\":{\"type\":\"object\",\"name\":\"AllIndices\",\"id\":\"p7080\"}}},\"glyph\":{\"type\":\"object\",\"name\":\"Segment\",\"id\":\"p7075\",\"attributes\":{\"x0\":{\"type\":\"field\",\"field\":\"index\"},\"y0\":{\"type\":\"field\",\"field\":\"High\"},\"x1\":{\"type\":\"field\",\"field\":\"index\"},\"y1\":{\"type\":\"field\",\"field\":\"Low\"}}},\"nonselection_glyph\":{\"type\":\"object\",\"name\":\"Segment\",\"id\":\"p7076\",\"attributes\":{\"x0\":{\"type\":\"field\",\"field\":\"index\"},\"y0\":{\"type\":\"field\",\"field\":\"High\"},\"x1\":{\"type\":\"field\",\"field\":\"index\"},\"y1\":{\"type\":\"field\",\"field\":\"Low\"},\"line_alpha\":{\"type\":\"value\",\"value\":0.1}}},\"muted_glyph\":{\"type\":\"object\",\"name\":\"Segment\",\"id\":\"p7077\",\"attributes\":{\"x0\":{\"type\":\"field\",\"field\":\"index\"},\"y0\":{\"type\":\"field\",\"field\":\"High\"},\"x1\":{\"type\":\"field\",\"field\":\"index\"},\"y1\":{\"type\":\"field\",\"field\":\"Low\"},\"line_alpha\":{\"type\":\"value\",\"value\":0.2}}}}},{\"id\":\"p7089\"},{\"type\":\"object\",\"name\":\"GlyphRenderer\",\"id\":\"p7098\",\"attributes\":{\"data_source\":{\"id\":\"p6837\"},\"view\":{\"type\":\"object\",\"name\":\"CDSView\",\"id\":\"p7099\",\"attributes\":{\"filter\":{\"type\":\"object\",\"name\":\"AllIndices\",\"id\":\"p7100\"}}},\"glyph\":{\"type\":\"object\",\"name\":\"MultiLine\",\"id\":\"p7095\",\"attributes\":{\"xs\":{\"type\":\"field\",\"field\":\"position_lines_xs\"},\"ys\":{\"type\":\"field\",\"field\":\"position_lines_ys\"},\"line_color\":{\"type\":\"field\",\"field\":\"returns_positive\",\"transform\":{\"type\":\"object\",\"name\":\"CategoricalColorMapper\",\"id\":\"p6842\",\"attributes\":{\"palette\":[\"rgb(178, 27, 0)\",\"rgb(0, 178, 0)\"],\"factors\":[\"0\",\"1\"]}}},\"line_width\":{\"type\":\"value\",\"value\":8},\"line_dash\":{\"type\":\"value\",\"value\":\"dotted\"}}},\"nonselection_glyph\":{\"type\":\"object\",\"name\":\"MultiLine\",\"id\":\"p7096\",\"attributes\":{\"xs\":{\"type\":\"field\",\"field\":\"position_lines_xs\"},\"ys\":{\"type\":\"field\",\"field\":\"position_lines_ys\"},\"line_color\":{\"type\":\"field\",\"field\":\"returns_positive\",\"transform\":{\"id\":\"p6842\"}},\"line_alpha\":{\"type\":\"value\",\"value\":0.1},\"line_width\":{\"type\":\"value\",\"value\":8},\"line_dash\":{\"type\":\"value\",\"value\":\"dotted\"}}},\"muted_glyph\":{\"type\":\"object\",\"name\":\"MultiLine\",\"id\":\"p7097\",\"attributes\":{\"xs\":{\"type\":\"field\",\"field\":\"position_lines_xs\"},\"ys\":{\"type\":\"field\",\"field\":\"position_lines_ys\"},\"line_color\":{\"type\":\"field\",\"field\":\"returns_positive\",\"transform\":{\"id\":\"p6842\"}},\"line_alpha\":{\"type\":\"value\",\"value\":0.2},\"line_width\":{\"type\":\"value\",\"value\":8},\"line_dash\":{\"type\":\"value\",\"value\":\"dotted\"}}}}}],\"toolbar\":{\"type\":\"object\",\"name\":\"Toolbar\",\"id\":\"p6806\",\"attributes\":{\"tools\":[{\"id\":\"p6819\"},{\"id\":\"p6820\"},{\"id\":\"p6821\"},{\"id\":\"p6822\"},{\"id\":\"p6830\"},{\"id\":\"p6831\"},{\"id\":\"p6832\"},{\"type\":\"object\",\"name\":\"SaveTool\",\"id\":\"p6833\"},{\"id\":\"p7199\"},{\"id\":\"p7203\"}],\"active_drag\":{\"id\":\"p6819\"},\"active_scroll\":{\"id\":\"p6820\"}}},\"toolbar_location\":null,\"left\":[{\"type\":\"object\",\"name\":\"LinearAxis\",\"id\":\"p6814\",\"attributes\":{\"ticker\":{\"type\":\"object\",\"name\":\"BasicTicker\",\"id\":\"p6815\",\"attributes\":{\"mantissas\":[1,2,5]}},\"formatter\":{\"type\":\"object\",\"name\":\"BasicTickFormatter\",\"id\":\"p6816\"},\"major_label_policy\":{\"type\":\"object\",\"name\":\"AllLabels\",\"id\":\"p6817\"}}}],\"below\":[{\"type\":\"object\",\"name\":\"LinearAxis\",\"id\":\"p6809\",\"attributes\":{\"visible\":false,\"ticker\":{\"type\":\"object\",\"name\":\"BasicTicker\",\"id\":\"p6810\",\"attributes\":{\"mantissas\":[1,2,5]}},\"formatter\":{\"type\":\"object\",\"name\":\"CustomJSTickFormatter\",\"id\":\"p6844\",\"attributes\":{\"args\":{\"type\":\"map\",\"entries\":[[\"axis\",{\"id\":\"p6809\"}],[\"formatter\",{\"type\":\"object\",\"name\":\"DatetimeTickFormatter\",\"id\":\"p6843\",\"attributes\":{\"days\":\"%a, %d %b\"}}],[\"source\",{\"id\":\"p6834\"}]]},\"code\":\"\\nthis.labels = this.labels || formatter.doFormat(ticks\\n                                                .map(i => source.data.datetime[i])\\n                                                .filter(t => t !== undefined));\\nreturn this.labels[index] || \\\"\\\";\\n        \"}},\"major_label_policy\":{\"type\":\"object\",\"name\":\"AllLabels\",\"id\":\"p6812\"}}}],\"center\":[{\"type\":\"object\",\"name\":\"Grid\",\"id\":\"p6813\",\"attributes\":{\"axis\":{\"id\":\"p6809\"}}},{\"type\":\"object\",\"name\":\"Grid\",\"id\":\"p6818\",\"attributes\":{\"dimension\":1,\"axis\":{\"id\":\"p6814\"}}},{\"type\":\"object\",\"name\":\"Legend\",\"id\":\"p7081\",\"attributes\":{\"location\":\"top_left\",\"border_line_color\":\"#333333\",\"background_fill_alpha\":0.9,\"click_policy\":\"hide\",\"label_text_font_size\":\"8pt\",\"margin\":0,\"padding\":5,\"spacing\":0,\"items\":[{\"type\":\"object\",\"name\":\"LegendItem\",\"id\":\"p7082\",\"attributes\":{\"label\":{\"type\":\"value\",\"value\":\"OHLC\"},\"renderers\":[{\"id\":\"p7078\"},{\"id\":\"p7089\"}]}},{\"type\":\"object\",\"name\":\"LegendItem\",\"id\":\"p7101\",\"attributes\":{\"label\":{\"type\":\"value\",\"value\":\"Trades (1)\"},\"renderers\":[{\"id\":\"p7098\"}]}}]}},{\"type\":\"object\",\"name\":\"Label\",\"id\":\"p7198\",\"attributes\":{\"text\":\"Created with Backtesting.py: http://kernc.github.io/backtesting.py\",\"text_color\":\"silver\",\"text_alpha\":0.09,\"x\":10,\"y\":15,\"x_units\":\"screen\",\"y_units\":\"screen\"}}],\"min_border_top\":3,\"min_border_bottom\":6,\"min_border_left\":0,\"min_border_right\":10}},2,0],[{\"type\":\"object\",\"name\":\"Figure\",\"id\":\"p7003\",\"attributes\":{\"width\":null,\"height\":70,\"sizing_mode\":\"stretch_width\",\"x_range\":{\"id\":\"p6797\"},\"y_range\":{\"id\":\"p7005\"},\"x_scale\":{\"type\":\"object\",\"name\":\"LinearScale\",\"id\":\"p7012\"},\"y_scale\":{\"type\":\"object\",\"name\":\"LinearScale\",\"id\":\"p7013\"},\"title\":{\"type\":\"object\",\"name\":\"Title\",\"id\":\"p7010\"},\"outline_line_color\":\"#666666\",\"renderers\":[{\"id\":\"p7045\"}],\"toolbar\":{\"type\":\"object\",\"name\":\"Toolbar\",\"id\":\"p7011\",\"attributes\":{\"tools\":[{\"id\":\"p7024\"},{\"id\":\"p7025\"},{\"id\":\"p7026\"},{\"id\":\"p7027\"},{\"id\":\"p7035\"},{\"id\":\"p7036\"},{\"id\":\"p7037\"},{\"type\":\"object\",\"name\":\"SaveTool\",\"id\":\"p7038\"},{\"id\":\"p7048\"},{\"id\":\"p7203\"}],\"active_drag\":{\"id\":\"p7024\"},\"active_scroll\":{\"id\":\"p7025\"}}},\"toolbar_location\":null,\"left\":[{\"type\":\"object\",\"name\":\"LinearAxis\",\"id\":\"p7019\",\"attributes\":{\"ticker\":{\"type\":\"object\",\"name\":\"BasicTicker\",\"id\":\"p7020\",\"attributes\":{\"desired_num_ticks\":3,\"mantissas\":[1,2,5]}},\"formatter\":{\"type\":\"object\",\"name\":\"NumeralTickFormatter\",\"id\":\"p7049\",\"attributes\":{\"format\":\"0 a\"}},\"axis_label\":\"Volume\",\"major_label_policy\":{\"type\":\"object\",\"name\":\"AllLabels\",\"id\":\"p7022\"},\"minor_tick_line_color\":null}}],\"below\":[{\"type\":\"object\",\"name\":\"LinearAxis\",\"id\":\"p7014\",\"attributes\":{\"visible\":true,\"ticker\":{\"type\":\"object\",\"name\":\"BasicTicker\",\"id\":\"p7015\",\"attributes\":{\"mantissas\":[1,2,5]}},\"formatter\":{\"id\":\"p6844\"},\"major_label_policy\":{\"type\":\"object\",\"name\":\"AllLabels\",\"id\":\"p7017\"}}}],\"center\":[{\"type\":\"object\",\"name\":\"Grid\",\"id\":\"p7018\",\"attributes\":{\"axis\":{\"id\":\"p7014\"}}},{\"type\":\"object\",\"name\":\"Grid\",\"id\":\"p7023\",\"attributes\":{\"dimension\":1,\"axis\":{\"id\":\"p7019\"}}}],\"min_border_top\":3,\"min_border_bottom\":6,\"min_border_left\":0,\"min_border_right\":10}},3,0],[{\"type\":\"object\",\"name\":\"Figure\",\"id\":\"p7102\",\"attributes\":{\"width\":null,\"height\":50,\"sizing_mode\":\"stretch_width\",\"x_range\":{\"id\":\"p6797\"},\"y_range\":{\"type\":\"object\",\"name\":\"DataRange1d\",\"id\":\"p7104\"},\"x_scale\":{\"type\":\"object\",\"name\":\"LinearScale\",\"id\":\"p7111\"},\"y_scale\":{\"type\":\"object\",\"name\":\"LinearScale\",\"id\":\"p7112\"},\"title\":{\"type\":\"object\",\"name\":\"Title\",\"id\":\"p7109\"},\"outline_line_color\":\"#666666\",\"renderers\":[{\"id\":\"p7144\"}],\"toolbar\":{\"type\":\"object\",\"name\":\"Toolbar\",\"id\":\"p7110\",\"attributes\":{\"tools\":[{\"id\":\"p7123\"},{\"id\":\"p7124\"},{\"id\":\"p7125\"},{\"id\":\"p7126\"},{\"id\":\"p7134\"},{\"id\":\"p7135\"},{\"id\":\"p7136\"},{\"type\":\"object\",\"name\":\"SaveTool\",\"id\":\"p7137\"},{\"id\":\"p7149\"},{\"id\":\"p7203\"}],\"active_drag\":{\"id\":\"p7123\"},\"active_scroll\":{\"id\":\"p7124\"}}},\"toolbar_location\":null,\"left\":[{\"type\":\"object\",\"name\":\"LinearAxis\",\"id\":\"p7118\",\"attributes\":{\"ticker\":{\"type\":\"object\",\"name\":\"BasicTicker\",\"id\":\"p7119\",\"attributes\":{\"desired_num_ticks\":3,\"mantissas\":[1,2,5]}},\"formatter\":{\"type\":\"object\",\"name\":\"BasicTickFormatter\",\"id\":\"p7120\"},\"major_label_policy\":{\"type\":\"object\",\"name\":\"AllLabels\",\"id\":\"p7121\"},\"minor_tick_line_color\":null}}],\"below\":[{\"type\":\"object\",\"name\":\"LinearAxis\",\"id\":\"p7113\",\"attributes\":{\"visible\":false,\"ticker\":{\"type\":\"object\",\"name\":\"BasicTicker\",\"id\":\"p7114\",\"attributes\":{\"mantissas\":[1,2,5]}},\"formatter\":{\"type\":\"object\",\"name\":\"BasicTickFormatter\",\"id\":\"p7115\"},\"major_label_policy\":{\"type\":\"object\",\"name\":\"AllLabels\",\"id\":\"p7116\"}}}],\"center\":[{\"type\":\"object\",\"name\":\"Grid\",\"id\":\"p7117\",\"attributes\":{\"axis\":{\"id\":\"p7113\"}}},{\"type\":\"object\",\"name\":\"Grid\",\"id\":\"p7122\",\"attributes\":{\"dimension\":1,\"axis\":{\"id\":\"p7118\"}}},{\"type\":\"object\",\"name\":\"Legend\",\"id\":\"p7147\",\"attributes\":{\"location\":\"top_left\",\"border_line_color\":\"#333333\",\"background_fill_alpha\":0.9,\"click_policy\":\"hide\",\"label_text_font_size\":\"8pt\",\"glyph_width\":0,\"margin\":0,\"padding\":5,\"spacing\":0,\"items\":[{\"type\":\"object\",\"name\":\"LegendItem\",\"id\":\"p7148\",\"attributes\":{\"label\":{\"type\":\"value\",\"value\":\"\\u03bb(adx)\"},\"renderers\":[{\"id\":\"p7144\"}]}}]}}],\"min_border_top\":3,\"min_border_bottom\":6,\"min_border_left\":0,\"min_border_right\":10}},4,0],[{\"type\":\"object\",\"name\":\"Figure\",\"id\":\"p7150\",\"attributes\":{\"width\":null,\"height\":50,\"sizing_mode\":\"stretch_width\",\"x_range\":{\"id\":\"p6797\"},\"y_range\":{\"type\":\"object\",\"name\":\"DataRange1d\",\"id\":\"p7152\"},\"x_scale\":{\"type\":\"object\",\"name\":\"LinearScale\",\"id\":\"p7159\"},\"y_scale\":{\"type\":\"object\",\"name\":\"LinearScale\",\"id\":\"p7160\"},\"title\":{\"type\":\"object\",\"name\":\"Title\",\"id\":\"p7157\"},\"outline_line_color\":\"#666666\",\"renderers\":[{\"id\":\"p7192\"}],\"toolbar\":{\"type\":\"object\",\"name\":\"Toolbar\",\"id\":\"p7158\",\"attributes\":{\"tools\":[{\"id\":\"p7171\"},{\"id\":\"p7172\"},{\"id\":\"p7173\"},{\"id\":\"p7174\"},{\"id\":\"p7182\"},{\"id\":\"p7183\"},{\"id\":\"p7184\"},{\"type\":\"object\",\"name\":\"SaveTool\",\"id\":\"p7185\"},{\"id\":\"p7197\"},{\"id\":\"p7203\"}],\"active_drag\":{\"id\":\"p7171\"},\"active_scroll\":{\"id\":\"p7172\"}}},\"toolbar_location\":null,\"left\":[{\"type\":\"object\",\"name\":\"LinearAxis\",\"id\":\"p7166\",\"attributes\":{\"ticker\":{\"type\":\"object\",\"name\":\"BasicTicker\",\"id\":\"p7167\",\"attributes\":{\"desired_num_ticks\":3,\"mantissas\":[1,2,5]}},\"formatter\":{\"type\":\"object\",\"name\":\"BasicTickFormatter\",\"id\":\"p7168\"},\"major_label_policy\":{\"type\":\"object\",\"name\":\"AllLabels\",\"id\":\"p7169\"},\"minor_tick_line_color\":null}}],\"below\":[{\"type\":\"object\",\"name\":\"LinearAxis\",\"id\":\"p7161\",\"attributes\":{\"visible\":false,\"ticker\":{\"type\":\"object\",\"name\":\"BasicTicker\",\"id\":\"p7162\",\"attributes\":{\"mantissas\":[1,2,5]}},\"formatter\":{\"type\":\"object\",\"name\":\"BasicTickFormatter\",\"id\":\"p7163\"},\"major_label_policy\":{\"type\":\"object\",\"name\":\"AllLabels\",\"id\":\"p7164\"}}}],\"center\":[{\"type\":\"object\",\"name\":\"Grid\",\"id\":\"p7165\",\"attributes\":{\"axis\":{\"id\":\"p7161\"}}},{\"type\":\"object\",\"name\":\"Grid\",\"id\":\"p7170\",\"attributes\":{\"dimension\":1,\"axis\":{\"id\":\"p7166\"}}},{\"type\":\"object\",\"name\":\"Legend\",\"id\":\"p7195\",\"attributes\":{\"location\":\"top_left\",\"border_line_color\":\"#333333\",\"background_fill_alpha\":0.9,\"click_policy\":\"hide\",\"label_text_font_size\":\"8pt\",\"glyph_width\":0,\"margin\":0,\"padding\":5,\"spacing\":0,\"items\":[{\"type\":\"object\",\"name\":\"LegendItem\",\"id\":\"p7196\",\"attributes\":{\"label\":{\"type\":\"value\",\"value\":\"\\u03bb\"},\"renderers\":[{\"id\":\"p7192\"}]}}]}}],\"min_border_top\":3,\"min_border_bottom\":6,\"min_border_left\":0,\"min_border_right\":10}},5,0]]}}],\"callbacks\":{\"type\":\"map\",\"entries\":[[\"document_ready\",[{\"type\":\"object\",\"name\":\"CustomJS\",\"id\":\"p6796\",\"attributes\":{\"code\":\"(function() { var i = document.createElement('iframe'); i.style.display='none';i.width=i.height=1;i.loading='eager';i.src='https://kernc.github.io/backtesting.py/plx.gif.html?utm_source='+location.origin;document.body.appendChild(i);})();\"}}]]]}}};\n  const render_items = [{\"docid\":\"dac6c9d5-50cd-44f1-9709-feab123074f8\",\"roots\":{\"p7220\":\"e1de484e-c9e0-41ed-b789-865b1efb88d8\"},\"root_ids\":[\"p7220\"]}];\n  void root.Bokeh.embed.embed_items_notebook(docs_json, render_items);\n  }\n  if (root.Bokeh !== undefined) {\n    embed_document(root);\n  } else {\n    let attempts = 0;\n    const timer = setInterval(function(root) {\n      if (root.Bokeh !== undefined) {\n        clearInterval(timer);\n        embed_document(root);\n      } else {\n        attempts++;\n        if (attempts > 100) {\n          clearInterval(timer);\n          console.log(\"Bokeh: ERROR: Unable to run BokehJS code because BokehJS library is missing\");\n        }\n      }\n    }, 10, root)\n  }\n})(window);",
      "application/vnd.bokehjs_exec.v0+json": ""
     },
     "metadata": {
      "application/vnd.bokehjs_exec.v0+json": {
       "id": "p7220"
      }
     },
     "output_type": "display_data"
    },
    {
     "data": {
      "text/html": [
       "<div style=\"display: table;\"><div style=\"display: table-row;\"><div style=\"display: table-cell;\"><b title=\"bokeh.models.plots.GridPlot\">GridPlot</b>(</div><div style=\"display: table-cell;\">id&nbsp;=&nbsp;'p7220', <span id=\"p7249\" style=\"cursor: pointer;\">&hellip;)</span></div></div><div class=\"p7248\" style=\"display: none;\"><div style=\"display: table-cell;\"></div><div style=\"display: table-cell;\">align&nbsp;=&nbsp;'auto',</div></div><div class=\"p7248\" style=\"display: none;\"><div style=\"display: table-cell;\"></div><div style=\"display: table-cell;\">aspect_ratio&nbsp;=&nbsp;None,</div></div><div class=\"p7248\" style=\"display: none;\"><div style=\"display: table-cell;\"></div><div style=\"display: table-cell;\">children&nbsp;=&nbsp;[(figure(id='p6845', ...), 0, 0), (figure(id='p6945', ...), 1, 0), (figure(id='p6798', ...), 2, 0), (figure(id='p7003', ...), 3, 0), (figure(id='p7102', ...), 4, 0), (figure(id='p7150', ...), 5, 0)],</div></div><div class=\"p7248\" style=\"display: none;\"><div style=\"display: table-cell;\"></div><div style=\"display: table-cell;\">cols&nbsp;=&nbsp;None,</div></div><div class=\"p7248\" style=\"display: none;\"><div style=\"display: table-cell;\"></div><div style=\"display: table-cell;\">context_menu&nbsp;=&nbsp;None,</div></div><div class=\"p7248\" style=\"display: none;\"><div style=\"display: table-cell;\"></div><div style=\"display: table-cell;\">css_classes&nbsp;=&nbsp;[],</div></div><div class=\"p7248\" style=\"display: none;\"><div style=\"display: table-cell;\"></div><div style=\"display: table-cell;\">css_variables&nbsp;=&nbsp;{},</div></div><div class=\"p7248\" style=\"display: none;\"><div style=\"display: table-cell;\"></div><div style=\"display: table-cell;\">disabled&nbsp;=&nbsp;False,</div></div><div class=\"p7248\" style=\"display: none;\"><div style=\"display: table-cell;\"></div><div style=\"display: table-cell;\">elements&nbsp;=&nbsp;[],</div></div><div class=\"p7248\" style=\"display: none;\"><div style=\"display: table-cell;\"></div><div style=\"display: table-cell;\">flow_mode&nbsp;=&nbsp;'block',</div></div><div class=\"p7248\" style=\"display: none;\"><div style=\"display: table-cell;\"></div><div style=\"display: table-cell;\">height&nbsp;=&nbsp;None,</div></div><div class=\"p7248\" style=\"display: none;\"><div style=\"display: table-cell;\"></div><div style=\"display: table-cell;\">height_policy&nbsp;=&nbsp;'auto',</div></div><div class=\"p7248\" style=\"display: none;\"><div style=\"display: table-cell;\"></div><div style=\"display: table-cell;\">html_attributes&nbsp;=&nbsp;{},</div></div><div class=\"p7248\" style=\"display: none;\"><div style=\"display: table-cell;\"></div><div style=\"display: table-cell;\">html_id&nbsp;=&nbsp;None,</div></div><div class=\"p7248\" style=\"display: none;\"><div style=\"display: table-cell;\"></div><div style=\"display: table-cell;\">js_event_callbacks&nbsp;=&nbsp;{},</div></div><div class=\"p7248\" style=\"display: none;\"><div style=\"display: table-cell;\"></div><div style=\"display: table-cell;\">js_property_callbacks&nbsp;=&nbsp;{},</div></div><div class=\"p7248\" style=\"display: none;\"><div style=\"display: table-cell;\"></div><div style=\"display: table-cell;\">margin&nbsp;=&nbsp;None,</div></div><div class=\"p7248\" style=\"display: none;\"><div style=\"display: table-cell;\"></div><div style=\"display: table-cell;\">max_height&nbsp;=&nbsp;None,</div></div><div class=\"p7248\" style=\"display: none;\"><div style=\"display: table-cell;\"></div><div style=\"display: table-cell;\">max_width&nbsp;=&nbsp;None,</div></div><div class=\"p7248\" style=\"display: none;\"><div style=\"display: table-cell;\"></div><div style=\"display: table-cell;\">min_height&nbsp;=&nbsp;None,</div></div><div class=\"p7248\" style=\"display: none;\"><div style=\"display: table-cell;\"></div><div style=\"display: table-cell;\">min_width&nbsp;=&nbsp;None,</div></div><div class=\"p7248\" style=\"display: none;\"><div style=\"display: table-cell;\"></div><div style=\"display: table-cell;\">name&nbsp;=&nbsp;None,</div></div><div class=\"p7248\" style=\"display: none;\"><div style=\"display: table-cell;\"></div><div style=\"display: table-cell;\">resizable&nbsp;=&nbsp;False,</div></div><div class=\"p7248\" style=\"display: none;\"><div style=\"display: table-cell;\"></div><div style=\"display: table-cell;\">rows&nbsp;=&nbsp;None,</div></div><div class=\"p7248\" style=\"display: none;\"><div style=\"display: table-cell;\"></div><div style=\"display: table-cell;\">sizing_mode&nbsp;=&nbsp;'stretch_width',</div></div><div class=\"p7248\" style=\"display: none;\"><div style=\"display: table-cell;\"></div><div style=\"display: table-cell;\">spacing&nbsp;=&nbsp;0,</div></div><div class=\"p7248\" style=\"display: none;\"><div style=\"display: table-cell;\"></div><div style=\"display: table-cell;\">styles&nbsp;=&nbsp;{},</div></div><div class=\"p7248\" style=\"display: none;\"><div style=\"display: table-cell;\"></div><div style=\"display: table-cell;\">stylesheets&nbsp;=&nbsp;[],</div></div><div class=\"p7248\" style=\"display: none;\"><div style=\"display: table-cell;\"></div><div style=\"display: table-cell;\">subscribed_events&nbsp;=&nbsp;PropertyValueSet(),</div></div><div class=\"p7248\" style=\"display: none;\"><div style=\"display: table-cell;\"></div><div style=\"display: table-cell;\">syncable&nbsp;=&nbsp;True,</div></div><div class=\"p7248\" style=\"display: none;\"><div style=\"display: table-cell;\"></div><div style=\"display: table-cell;\">tags&nbsp;=&nbsp;[],</div></div><div class=\"p7248\" style=\"display: none;\"><div style=\"display: table-cell;\"></div><div style=\"display: table-cell;\">toolbar&nbsp;=&nbsp;Toolbar(id='p7219', ...),</div></div><div class=\"p7248\" style=\"display: none;\"><div style=\"display: table-cell;\"></div><div style=\"display: table-cell;\">toolbar_location&nbsp;=&nbsp;'right',</div></div><div class=\"p7248\" style=\"display: none;\"><div style=\"display: table-cell;\"></div><div style=\"display: table-cell;\">visible&nbsp;=&nbsp;True,</div></div><div class=\"p7248\" style=\"display: none;\"><div style=\"display: table-cell;\"></div><div style=\"display: table-cell;\">width&nbsp;=&nbsp;None,</div></div><div class=\"p7248\" style=\"display: none;\"><div style=\"display: table-cell;\"></div><div style=\"display: table-cell;\">width_policy&nbsp;=&nbsp;'auto')</div></div></div>\n",
       "<script>\n",
       "(function() {\n",
       "  let expanded = false;\n",
       "  const ellipsis = document.getElementById(\"p7249\");\n",
       "  ellipsis.addEventListener(\"click\", function() {\n",
       "    const rows = document.getElementsByClassName(\"p7248\");\n",
       "    for (let i = 0; i < rows.length; i++) {\n",
       "      const el = rows[i];\n",
       "      el.style.display = expanded ? \"none\" : \"table-row\";\n",
       "    }\n",
       "    ellipsis.innerHTML = expanded ? \"&hellip;)\" : \"&lsaquo;&lsaquo;&lsaquo;\";\n",
       "    expanded = !expanded;\n",
       "  });\n",
       "})();\n",
       "</script>\n"
      ],
      "text/plain": [
       "GridPlot(id='p7220', ...)"
      ]
     },
     "execution_count": 99,
     "metadata": {},
     "output_type": "execute_result"
    }
   ],
   "source": [
    "df\n",
    "bt = FractionalBacktest(df[-20:], ADXLongStrategy_9p, cash=10_000, commission=0.002)\n",
    "stats = bt.run()\n",
    "bt.plot()\n"
   ]
  },
  {
   "cell_type": "markdown",
   "metadata": {},
   "source": [
    "# All in one"
   ]
  },
  {
   "cell_type": "code",
   "execution_count": 95,
   "metadata": {},
   "outputs": [],
   "source": [
    "def backtest_function(symbol, timeframe, strategies, cash=10_000, commission=0.002):\n",
    "    symbol = symbol.upper()\n",
    "    timeframe = timeframe.lower()\n",
    "    tag = f\"{symbol}_{timeframe}\"\n",
    "    df = get_data_4_8(symbol, timeframe, ['rsi7', 'adx'])\n",
    "    try:\n",
    "        print(\"df.shape: \", df.shape)\n",
    "    except Exception as e:\n",
    "        print(\"df: \", df)\n",
    "        raise e\n",
    "    fractional_unit = pow(10, 2-int(np.log10(df['High'].max())))\n",
    "    # _stats, _plot = [], []\n",
    "    for strategy in strategies:\n",
    "        max_periods = strategy.max_periods\n",
    "        print(f\"Running backtest for {strategy.__name__} with max_periods={max_periods}\")\n",
    "        bt = FractionalBacktest(df, strategy, cash=cash, commission=commission, fractional_unit=fractional_unit)\n",
    "        stats = bt.run()\n",
    "        save_stats(stats, bt, \"backtest_summary.csv\", tag)"
   ]
  },
  {
   "cell_type": "code",
   "execution_count": 139,
   "metadata": {},
   "outputs": [
    {
     "name": "stdout",
     "output_type": "stream",
     "text": [
      "Running backtest for TriplePatternStrategy_9p with max_periods=9\n",
      "Running backtest for TriplePatternStrategy_26p with max_periods=26\n",
      "Running backtest for ButterflyStrategy_9p with max_periods=9\n",
      "Running backtest for ButterflyStrategy_26p with max_periods=26\n"
     ]
    }
   ],
   "source": [
    "a = backtest_function(\"ETHUSDT\", \"4h\", [TriplePatternStrategy_9p, TriplePatternStrategy_26p, ButterflyStrategy_9p, ButterflyStrategy_26p])"
   ]
  },
  {
   "cell_type": "code",
   "execution_count": 105,
   "metadata": {},
   "outputs": [
    {
     "ename": "ProgrammingError",
     "evalue": "(psycopg2.errors.UndefinedColumn) column \"rsi7\" does not exist\nLINE 4:                 , rsi7, adx\n                          ^\n\n[SQL: \n            select TO_TIMESTAMP(open_time) as open_time, open as Open, close as Close,\n                high  as High, low as Low, volume as Volume \n                , rsi7, adx\n            from proddb.coin_prices_1h \n            where open_time >= 1743440400 and open_time < 1756659600\n                and symbol = 'ETHUSDT'\n            order by open_time asc\n        ]\n(Background on this error at: https://sqlalche.me/e/20/f405)",
     "output_type": "error",
     "traceback": [
      "\u001b[1;31m---------------------------------------------------------------------------\u001b[0m",
      "\u001b[1;31mUndefinedColumn\u001b[0m                           Traceback (most recent call last)",
      "File \u001b[1;32m~\\AppData\\Roaming\\Python\\Python311\\site-packages\\sqlalchemy\\engine\\base.py:1960\u001b[0m, in \u001b[0;36mConnection._exec_single_context\u001b[1;34m(self, dialect, context, statement, parameters)\u001b[0m\n\u001b[0;32m   1959\u001b[0m     \u001b[38;5;28;01mif\u001b[39;00m \u001b[38;5;129;01mnot\u001b[39;00m evt_handled:\n\u001b[1;32m-> 1960\u001b[0m         \u001b[38;5;28;43mself\u001b[39;49m\u001b[38;5;241;43m.\u001b[39;49m\u001b[43mdialect\u001b[49m\u001b[38;5;241;43m.\u001b[39;49m\u001b[43mdo_execute\u001b[49m\u001b[43m(\u001b[49m\n\u001b[0;32m   1961\u001b[0m \u001b[43m            \u001b[49m\u001b[43mcursor\u001b[49m\u001b[43m,\u001b[49m\u001b[43m \u001b[49m\u001b[43mstr_statement\u001b[49m\u001b[43m,\u001b[49m\u001b[43m \u001b[49m\u001b[43meffective_parameters\u001b[49m\u001b[43m,\u001b[49m\u001b[43m \u001b[49m\u001b[43mcontext\u001b[49m\n\u001b[0;32m   1962\u001b[0m \u001b[43m        \u001b[49m\u001b[43m)\u001b[49m\n\u001b[0;32m   1964\u001b[0m \u001b[38;5;28;01mif\u001b[39;00m \u001b[38;5;28mself\u001b[39m\u001b[38;5;241m.\u001b[39m_has_events \u001b[38;5;129;01mor\u001b[39;00m \u001b[38;5;28mself\u001b[39m\u001b[38;5;241m.\u001b[39mengine\u001b[38;5;241m.\u001b[39m_has_events:\n",
      "File \u001b[1;32m~\\AppData\\Roaming\\Python\\Python311\\site-packages\\sqlalchemy\\engine\\default.py:924\u001b[0m, in \u001b[0;36mDefaultDialect.do_execute\u001b[1;34m(self, cursor, statement, parameters, context)\u001b[0m\n\u001b[0;32m    923\u001b[0m \u001b[38;5;28;01mdef\u001b[39;00m \u001b[38;5;21mdo_execute\u001b[39m(\u001b[38;5;28mself\u001b[39m, cursor, statement, parameters, context\u001b[38;5;241m=\u001b[39m\u001b[38;5;28;01mNone\u001b[39;00m):\n\u001b[1;32m--> 924\u001b[0m     \u001b[43mcursor\u001b[49m\u001b[38;5;241;43m.\u001b[39;49m\u001b[43mexecute\u001b[49m\u001b[43m(\u001b[49m\u001b[43mstatement\u001b[49m\u001b[43m,\u001b[49m\u001b[43m \u001b[49m\u001b[43mparameters\u001b[49m\u001b[43m)\u001b[49m\n",
      "\u001b[1;31mUndefinedColumn\u001b[0m: column \"rsi7\" does not exist\nLINE 4:                 , rsi7, adx\n                          ^\n",
      "\nThe above exception was the direct cause of the following exception:\n",
      "\u001b[1;31mProgrammingError\u001b[0m                          Traceback (most recent call last)",
      "Cell \u001b[1;32mIn[105], line 5\u001b[0m\n\u001b[0;32m      3\u001b[0m \u001b[38;5;28;01mfor\u001b[39;00m symbol \u001b[38;5;129;01min\u001b[39;00m symbols:\n\u001b[0;32m      4\u001b[0m     \u001b[38;5;28;01mfor\u001b[39;00m tf \u001b[38;5;129;01min\u001b[39;00m tfs:\n\u001b[1;32m----> 5\u001b[0m         a \u001b[38;5;241m=\u001b[39m \u001b[43mbacktest_function\u001b[49m\u001b[43m(\u001b[49m\u001b[43msymbol\u001b[49m\u001b[43m,\u001b[49m\u001b[43m \u001b[49m\u001b[43mtf\u001b[49m\u001b[43m,\u001b[49m\u001b[43m \u001b[49m\u001b[43m[\u001b[49m\u001b[43mTriplePatternStrategy_9p\u001b[49m\u001b[43m,\u001b[49m\u001b[43m \u001b[49m\u001b[43mTriplePatternStrategy_26p\u001b[49m\u001b[43m,\u001b[49m\u001b[43m \u001b[49m\u001b[43mButterflyStrategy_9p\u001b[49m\u001b[43m,\u001b[49m\u001b[43m \u001b[49m\u001b[43mButterflyStrategy_26p\u001b[49m\u001b[43m]\u001b[49m\u001b[43m)\u001b[49m\n",
      "Cell \u001b[1;32mIn[95], line 5\u001b[0m, in \u001b[0;36mbacktest_function\u001b[1;34m(symbol, timeframe, strategies, cash, commission)\u001b[0m\n\u001b[0;32m      3\u001b[0m timeframe \u001b[38;5;241m=\u001b[39m timeframe\u001b[38;5;241m.\u001b[39mlower()\n\u001b[0;32m      4\u001b[0m tag \u001b[38;5;241m=\u001b[39m \u001b[38;5;124mf\u001b[39m\u001b[38;5;124m\"\u001b[39m\u001b[38;5;132;01m{\u001b[39;00msymbol\u001b[38;5;132;01m}\u001b[39;00m\u001b[38;5;124m_\u001b[39m\u001b[38;5;132;01m{\u001b[39;00mtimeframe\u001b[38;5;132;01m}\u001b[39;00m\u001b[38;5;124m\"\u001b[39m\n\u001b[1;32m----> 5\u001b[0m df \u001b[38;5;241m=\u001b[39m \u001b[43mget_data_4_8\u001b[49m\u001b[43m(\u001b[49m\u001b[43msymbol\u001b[49m\u001b[43m,\u001b[49m\u001b[43m \u001b[49m\u001b[43mtimeframe\u001b[49m\u001b[43m,\u001b[49m\u001b[43m \u001b[49m\u001b[43m[\u001b[49m\u001b[38;5;124;43m'\u001b[39;49m\u001b[38;5;124;43mrsi7\u001b[39;49m\u001b[38;5;124;43m'\u001b[39;49m\u001b[43m,\u001b[49m\u001b[43m \u001b[49m\u001b[38;5;124;43m'\u001b[39;49m\u001b[38;5;124;43madx\u001b[39;49m\u001b[38;5;124;43m'\u001b[39;49m\u001b[43m]\u001b[49m\u001b[43m)\u001b[49m\n\u001b[0;32m      6\u001b[0m \u001b[38;5;28;01mtry\u001b[39;00m:\n\u001b[0;32m      7\u001b[0m     \u001b[38;5;28mprint\u001b[39m(\u001b[38;5;124m\"\u001b[39m\u001b[38;5;124mdf.shape: \u001b[39m\u001b[38;5;124m\"\u001b[39m, df\u001b[38;5;241m.\u001b[39mshape)\n",
      "Cell \u001b[1;32mIn[69], line 34\u001b[0m, in \u001b[0;36mget_data_4_8\u001b[1;34m(symbol, tf, extr_cols)\u001b[0m\n\u001b[0;32m     31\u001b[0m \u001b[38;5;28;01melse\u001b[39;00m:\n\u001b[0;32m     32\u001b[0m     extr_cols_str \u001b[38;5;241m=\u001b[39m \u001b[38;5;124m'\u001b[39m\u001b[38;5;124m'\u001b[39m\n\u001b[1;32m---> 34\u001b[0m df \u001b[38;5;241m=\u001b[39m \u001b[43mpd\u001b[49m\u001b[38;5;241;43m.\u001b[39;49m\u001b[43mread_sql\u001b[49m\u001b[43m(\u001b[49m\u001b[38;5;124;43mf\u001b[39;49m\u001b[38;5;124;43m\"\"\"\u001b[39;49m\n\u001b[0;32m     35\u001b[0m \u001b[38;5;124;43m        select TO_TIMESTAMP(open_time) as open_time, open as Open, close as Close,\u001b[39;49m\n\u001b[0;32m     36\u001b[0m \u001b[38;5;124;43m            high  as High, low as Low, volume as Volume \u001b[39;49m\n\u001b[0;32m     37\u001b[0m \u001b[38;5;124;43m            \u001b[39;49m\u001b[38;5;132;43;01m{\u001b[39;49;00m\u001b[43mextr_cols_str\u001b[49m\u001b[38;5;132;43;01m}\u001b[39;49;00m\n\u001b[0;32m     38\u001b[0m \u001b[38;5;124;43m        from \u001b[39;49m\u001b[38;5;132;43;01m{\u001b[39;49;00m\u001b[43mtable\u001b[49m\u001b[38;5;132;43;01m}\u001b[39;49;00m\u001b[38;5;124;43m \u001b[39;49m\n\u001b[0;32m     39\u001b[0m \u001b[38;5;124;43m        where open_time >= \u001b[39;49m\u001b[38;5;132;43;01m{\u001b[39;49;00m\u001b[43mfrom_time\u001b[49m\u001b[38;5;132;43;01m}\u001b[39;49;00m\u001b[38;5;124;43m and open_time < \u001b[39;49m\u001b[38;5;132;43;01m{\u001b[39;49;00m\u001b[43mto_time\u001b[49m\u001b[38;5;132;43;01m}\u001b[39;49;00m\n\u001b[0;32m     40\u001b[0m \u001b[38;5;124;43m            and symbol = \u001b[39;49m\u001b[38;5;124;43m'\u001b[39;49m\u001b[38;5;132;43;01m{\u001b[39;49;00m\u001b[43msymbol\u001b[49m\u001b[38;5;132;43;01m}\u001b[39;49;00m\u001b[38;5;124;43m'\u001b[39;49m\n\u001b[0;32m     41\u001b[0m \u001b[38;5;124;43m        order by open_time asc\u001b[39;49m\n\u001b[0;32m     42\u001b[0m \u001b[38;5;124;43m    \u001b[39;49m\u001b[38;5;124;43m\"\"\"\u001b[39;49m\u001b[43m,\u001b[49m\n\u001b[0;32m     43\u001b[0m \u001b[43m    \u001b[49m\u001b[43mengine\u001b[49m\u001b[43m,\u001b[49m\u001b[43m \u001b[49m\n\u001b[0;32m     44\u001b[0m \u001b[43m    \u001b[49m\u001b[43mindex_col\u001b[49m\u001b[38;5;241;43m=\u001b[39;49m\u001b[38;5;124;43m\"\u001b[39;49m\u001b[38;5;124;43mopen_time\u001b[39;49m\u001b[38;5;124;43m\"\u001b[39;49m\u001b[43m)\u001b[49m\n\u001b[0;32m     45\u001b[0m df\u001b[38;5;241m.\u001b[39mrename(columns\u001b[38;5;241m=\u001b[39m{\n\u001b[0;32m     46\u001b[0m     \u001b[38;5;124m'\u001b[39m\u001b[38;5;124mopen\u001b[39m\u001b[38;5;124m'\u001b[39m: \u001b[38;5;124m'\u001b[39m\u001b[38;5;124mOpen\u001b[39m\u001b[38;5;124m'\u001b[39m,\n\u001b[0;32m     47\u001b[0m     \u001b[38;5;124m'\u001b[39m\u001b[38;5;124mclose\u001b[39m\u001b[38;5;124m'\u001b[39m: \u001b[38;5;124m'\u001b[39m\u001b[38;5;124mClose\u001b[39m\u001b[38;5;124m'\u001b[39m,\n\u001b[1;32m   (...)\u001b[0m\n\u001b[0;32m     51\u001b[0m     \u001b[38;5;124m'\u001b[39m\u001b[38;5;124mrsi7\u001b[39m\u001b[38;5;124m'\u001b[39m: \u001b[38;5;124m'\u001b[39m\u001b[38;5;124mrsi\u001b[39m\u001b[38;5;124m'\u001b[39m\n\u001b[0;32m     52\u001b[0m }, inplace\u001b[38;5;241m=\u001b[39m\u001b[38;5;28;01mTrue\u001b[39;00m)\n\u001b[0;32m     53\u001b[0m \u001b[38;5;28;01mreturn\u001b[39;00m df\n",
      "File \u001b[1;32m~\\AppData\\Roaming\\Python\\Python311\\site-packages\\pandas\\io\\sql.py:734\u001b[0m, in \u001b[0;36mread_sql\u001b[1;34m(sql, con, index_col, coerce_float, params, parse_dates, columns, chunksize, dtype_backend, dtype)\u001b[0m\n\u001b[0;32m    724\u001b[0m     \u001b[38;5;28;01mreturn\u001b[39;00m pandas_sql\u001b[38;5;241m.\u001b[39mread_table(\n\u001b[0;32m    725\u001b[0m         sql,\n\u001b[0;32m    726\u001b[0m         index_col\u001b[38;5;241m=\u001b[39mindex_col,\n\u001b[1;32m   (...)\u001b[0m\n\u001b[0;32m    731\u001b[0m         dtype_backend\u001b[38;5;241m=\u001b[39mdtype_backend,\n\u001b[0;32m    732\u001b[0m     )\n\u001b[0;32m    733\u001b[0m \u001b[38;5;28;01melse\u001b[39;00m:\n\u001b[1;32m--> 734\u001b[0m     \u001b[38;5;28;01mreturn\u001b[39;00m \u001b[43mpandas_sql\u001b[49m\u001b[38;5;241;43m.\u001b[39;49m\u001b[43mread_query\u001b[49m\u001b[43m(\u001b[49m\n\u001b[0;32m    735\u001b[0m \u001b[43m        \u001b[49m\u001b[43msql\u001b[49m\u001b[43m,\u001b[49m\n\u001b[0;32m    736\u001b[0m \u001b[43m        \u001b[49m\u001b[43mindex_col\u001b[49m\u001b[38;5;241;43m=\u001b[39;49m\u001b[43mindex_col\u001b[49m\u001b[43m,\u001b[49m\n\u001b[0;32m    737\u001b[0m \u001b[43m        \u001b[49m\u001b[43mparams\u001b[49m\u001b[38;5;241;43m=\u001b[39;49m\u001b[43mparams\u001b[49m\u001b[43m,\u001b[49m\n\u001b[0;32m    738\u001b[0m \u001b[43m        \u001b[49m\u001b[43mcoerce_float\u001b[49m\u001b[38;5;241;43m=\u001b[39;49m\u001b[43mcoerce_float\u001b[49m\u001b[43m,\u001b[49m\n\u001b[0;32m    739\u001b[0m \u001b[43m        \u001b[49m\u001b[43mparse_dates\u001b[49m\u001b[38;5;241;43m=\u001b[39;49m\u001b[43mparse_dates\u001b[49m\u001b[43m,\u001b[49m\n\u001b[0;32m    740\u001b[0m \u001b[43m        \u001b[49m\u001b[43mchunksize\u001b[49m\u001b[38;5;241;43m=\u001b[39;49m\u001b[43mchunksize\u001b[49m\u001b[43m,\u001b[49m\n\u001b[0;32m    741\u001b[0m \u001b[43m        \u001b[49m\u001b[43mdtype_backend\u001b[49m\u001b[38;5;241;43m=\u001b[39;49m\u001b[43mdtype_backend\u001b[49m\u001b[43m,\u001b[49m\n\u001b[0;32m    742\u001b[0m \u001b[43m        \u001b[49m\u001b[43mdtype\u001b[49m\u001b[38;5;241;43m=\u001b[39;49m\u001b[43mdtype\u001b[49m\u001b[43m,\u001b[49m\n\u001b[0;32m    743\u001b[0m \u001b[43m    \u001b[49m\u001b[43m)\u001b[49m\n",
      "File \u001b[1;32m~\\AppData\\Roaming\\Python\\Python311\\site-packages\\pandas\\io\\sql.py:1836\u001b[0m, in \u001b[0;36mSQLDatabase.read_query\u001b[1;34m(self, sql, index_col, coerce_float, parse_dates, params, chunksize, dtype, dtype_backend)\u001b[0m\n\u001b[0;32m   1779\u001b[0m \u001b[38;5;28;01mdef\u001b[39;00m \u001b[38;5;21mread_query\u001b[39m(\n\u001b[0;32m   1780\u001b[0m     \u001b[38;5;28mself\u001b[39m,\n\u001b[0;32m   1781\u001b[0m     sql: \u001b[38;5;28mstr\u001b[39m,\n\u001b[1;32m   (...)\u001b[0m\n\u001b[0;32m   1788\u001b[0m     dtype_backend: DtypeBackend \u001b[38;5;241m|\u001b[39m Literal[\u001b[38;5;124m\"\u001b[39m\u001b[38;5;124mnumpy\u001b[39m\u001b[38;5;124m\"\u001b[39m] \u001b[38;5;241m=\u001b[39m \u001b[38;5;124m\"\u001b[39m\u001b[38;5;124mnumpy\u001b[39m\u001b[38;5;124m\"\u001b[39m,\n\u001b[0;32m   1789\u001b[0m ) \u001b[38;5;241m-\u001b[39m\u001b[38;5;241m>\u001b[39m DataFrame \u001b[38;5;241m|\u001b[39m Iterator[DataFrame]:\n\u001b[0;32m   1790\u001b[0m \u001b[38;5;250m    \u001b[39m\u001b[38;5;124;03m\"\"\"\u001b[39;00m\n\u001b[0;32m   1791\u001b[0m \u001b[38;5;124;03m    Read SQL query into a DataFrame.\u001b[39;00m\n\u001b[0;32m   1792\u001b[0m \n\u001b[1;32m   (...)\u001b[0m\n\u001b[0;32m   1834\u001b[0m \n\u001b[0;32m   1835\u001b[0m \u001b[38;5;124;03m    \"\"\"\u001b[39;00m\n\u001b[1;32m-> 1836\u001b[0m     result \u001b[38;5;241m=\u001b[39m \u001b[38;5;28;43mself\u001b[39;49m\u001b[38;5;241;43m.\u001b[39;49m\u001b[43mexecute\u001b[49m\u001b[43m(\u001b[49m\u001b[43msql\u001b[49m\u001b[43m,\u001b[49m\u001b[43m \u001b[49m\u001b[43mparams\u001b[49m\u001b[43m)\u001b[49m\n\u001b[0;32m   1837\u001b[0m     columns \u001b[38;5;241m=\u001b[39m result\u001b[38;5;241m.\u001b[39mkeys()\n\u001b[0;32m   1839\u001b[0m     \u001b[38;5;28;01mif\u001b[39;00m chunksize \u001b[38;5;129;01mis\u001b[39;00m \u001b[38;5;129;01mnot\u001b[39;00m \u001b[38;5;28;01mNone\u001b[39;00m:\n",
      "File \u001b[1;32m~\\AppData\\Roaming\\Python\\Python311\\site-packages\\pandas\\io\\sql.py:1659\u001b[0m, in \u001b[0;36mSQLDatabase.execute\u001b[1;34m(self, sql, params)\u001b[0m\n\u001b[0;32m   1657\u001b[0m args \u001b[38;5;241m=\u001b[39m [] \u001b[38;5;28;01mif\u001b[39;00m params \u001b[38;5;129;01mis\u001b[39;00m \u001b[38;5;28;01mNone\u001b[39;00m \u001b[38;5;28;01melse\u001b[39;00m [params]\n\u001b[0;32m   1658\u001b[0m \u001b[38;5;28;01mif\u001b[39;00m \u001b[38;5;28misinstance\u001b[39m(sql, \u001b[38;5;28mstr\u001b[39m):\n\u001b[1;32m-> 1659\u001b[0m     \u001b[38;5;28;01mreturn\u001b[39;00m \u001b[38;5;28;43mself\u001b[39;49m\u001b[38;5;241;43m.\u001b[39;49m\u001b[43mcon\u001b[49m\u001b[38;5;241;43m.\u001b[39;49m\u001b[43mexec_driver_sql\u001b[49m\u001b[43m(\u001b[49m\u001b[43msql\u001b[49m\u001b[43m,\u001b[49m\u001b[43m \u001b[49m\u001b[38;5;241;43m*\u001b[39;49m\u001b[43margs\u001b[49m\u001b[43m)\u001b[49m\n\u001b[0;32m   1660\u001b[0m \u001b[38;5;28;01mreturn\u001b[39;00m \u001b[38;5;28mself\u001b[39m\u001b[38;5;241m.\u001b[39mcon\u001b[38;5;241m.\u001b[39mexecute(sql, \u001b[38;5;241m*\u001b[39margs)\n",
      "File \u001b[1;32m~\\AppData\\Roaming\\Python\\Python311\\site-packages\\sqlalchemy\\engine\\base.py:1769\u001b[0m, in \u001b[0;36mConnection.exec_driver_sql\u001b[1;34m(self, statement, parameters, execution_options)\u001b[0m\n\u001b[0;32m   1764\u001b[0m execution_options \u001b[38;5;241m=\u001b[39m \u001b[38;5;28mself\u001b[39m\u001b[38;5;241m.\u001b[39m_execution_options\u001b[38;5;241m.\u001b[39mmerge_with(\n\u001b[0;32m   1765\u001b[0m     execution_options\n\u001b[0;32m   1766\u001b[0m )\n\u001b[0;32m   1768\u001b[0m dialect \u001b[38;5;241m=\u001b[39m \u001b[38;5;28mself\u001b[39m\u001b[38;5;241m.\u001b[39mdialect\n\u001b[1;32m-> 1769\u001b[0m ret \u001b[38;5;241m=\u001b[39m \u001b[38;5;28;43mself\u001b[39;49m\u001b[38;5;241;43m.\u001b[39;49m\u001b[43m_execute_context\u001b[49m\u001b[43m(\u001b[49m\n\u001b[0;32m   1770\u001b[0m \u001b[43m    \u001b[49m\u001b[43mdialect\u001b[49m\u001b[43m,\u001b[49m\n\u001b[0;32m   1771\u001b[0m \u001b[43m    \u001b[49m\u001b[43mdialect\u001b[49m\u001b[38;5;241;43m.\u001b[39;49m\u001b[43mexecution_ctx_cls\u001b[49m\u001b[38;5;241;43m.\u001b[39;49m\u001b[43m_init_statement\u001b[49m\u001b[43m,\u001b[49m\n\u001b[0;32m   1772\u001b[0m \u001b[43m    \u001b[49m\u001b[43mstatement\u001b[49m\u001b[43m,\u001b[49m\n\u001b[0;32m   1773\u001b[0m \u001b[43m    \u001b[49m\u001b[38;5;28;43;01mNone\u001b[39;49;00m\u001b[43m,\u001b[49m\n\u001b[0;32m   1774\u001b[0m \u001b[43m    \u001b[49m\u001b[43mexecution_options\u001b[49m\u001b[43m,\u001b[49m\n\u001b[0;32m   1775\u001b[0m \u001b[43m    \u001b[49m\u001b[43mstatement\u001b[49m\u001b[43m,\u001b[49m\n\u001b[0;32m   1776\u001b[0m \u001b[43m    \u001b[49m\u001b[43mdistilled_parameters\u001b[49m\u001b[43m,\u001b[49m\n\u001b[0;32m   1777\u001b[0m \u001b[43m\u001b[49m\u001b[43m)\u001b[49m\n\u001b[0;32m   1779\u001b[0m \u001b[38;5;28;01mreturn\u001b[39;00m ret\n",
      "File \u001b[1;32m~\\AppData\\Roaming\\Python\\Python311\\site-packages\\sqlalchemy\\engine\\base.py:1839\u001b[0m, in \u001b[0;36mConnection._execute_context\u001b[1;34m(self, dialect, constructor, statement, parameters, execution_options, *args, **kw)\u001b[0m\n\u001b[0;32m   1834\u001b[0m     \u001b[38;5;28;01mreturn\u001b[39;00m \u001b[38;5;28mself\u001b[39m\u001b[38;5;241m.\u001b[39m_exec_insertmany_context(\n\u001b[0;32m   1835\u001b[0m         dialect,\n\u001b[0;32m   1836\u001b[0m         context,\n\u001b[0;32m   1837\u001b[0m     )\n\u001b[0;32m   1838\u001b[0m \u001b[38;5;28;01melse\u001b[39;00m:\n\u001b[1;32m-> 1839\u001b[0m     \u001b[38;5;28;01mreturn\u001b[39;00m \u001b[38;5;28;43mself\u001b[39;49m\u001b[38;5;241;43m.\u001b[39;49m\u001b[43m_exec_single_context\u001b[49m\u001b[43m(\u001b[49m\n\u001b[0;32m   1840\u001b[0m \u001b[43m        \u001b[49m\u001b[43mdialect\u001b[49m\u001b[43m,\u001b[49m\u001b[43m \u001b[49m\u001b[43mcontext\u001b[49m\u001b[43m,\u001b[49m\u001b[43m \u001b[49m\u001b[43mstatement\u001b[49m\u001b[43m,\u001b[49m\u001b[43m \u001b[49m\u001b[43mparameters\u001b[49m\n\u001b[0;32m   1841\u001b[0m \u001b[43m    \u001b[49m\u001b[43m)\u001b[49m\n",
      "File \u001b[1;32m~\\AppData\\Roaming\\Python\\Python311\\site-packages\\sqlalchemy\\engine\\base.py:1979\u001b[0m, in \u001b[0;36mConnection._exec_single_context\u001b[1;34m(self, dialect, context, statement, parameters)\u001b[0m\n\u001b[0;32m   1976\u001b[0m     result \u001b[38;5;241m=\u001b[39m context\u001b[38;5;241m.\u001b[39m_setup_result_proxy()\n\u001b[0;32m   1978\u001b[0m \u001b[38;5;28;01mexcept\u001b[39;00m \u001b[38;5;167;01mBaseException\u001b[39;00m \u001b[38;5;28;01mas\u001b[39;00m e:\n\u001b[1;32m-> 1979\u001b[0m     \u001b[38;5;28;43mself\u001b[39;49m\u001b[38;5;241;43m.\u001b[39;49m\u001b[43m_handle_dbapi_exception\u001b[49m\u001b[43m(\u001b[49m\n\u001b[0;32m   1980\u001b[0m \u001b[43m        \u001b[49m\u001b[43me\u001b[49m\u001b[43m,\u001b[49m\u001b[43m \u001b[49m\u001b[43mstr_statement\u001b[49m\u001b[43m,\u001b[49m\u001b[43m \u001b[49m\u001b[43meffective_parameters\u001b[49m\u001b[43m,\u001b[49m\u001b[43m \u001b[49m\u001b[43mcursor\u001b[49m\u001b[43m,\u001b[49m\u001b[43m \u001b[49m\u001b[43mcontext\u001b[49m\n\u001b[0;32m   1981\u001b[0m \u001b[43m    \u001b[49m\u001b[43m)\u001b[49m\n\u001b[0;32m   1983\u001b[0m \u001b[38;5;28;01mreturn\u001b[39;00m result\n",
      "File \u001b[1;32m~\\AppData\\Roaming\\Python\\Python311\\site-packages\\sqlalchemy\\engine\\base.py:2335\u001b[0m, in \u001b[0;36mConnection._handle_dbapi_exception\u001b[1;34m(self, e, statement, parameters, cursor, context, is_sub_exec)\u001b[0m\n\u001b[0;32m   2333\u001b[0m \u001b[38;5;28;01melif\u001b[39;00m should_wrap:\n\u001b[0;32m   2334\u001b[0m     \u001b[38;5;28;01massert\u001b[39;00m sqlalchemy_exception \u001b[38;5;129;01mis\u001b[39;00m \u001b[38;5;129;01mnot\u001b[39;00m \u001b[38;5;28;01mNone\u001b[39;00m\n\u001b[1;32m-> 2335\u001b[0m     \u001b[38;5;28;01mraise\u001b[39;00m sqlalchemy_exception\u001b[38;5;241m.\u001b[39mwith_traceback(exc_info[\u001b[38;5;241m2\u001b[39m]) \u001b[38;5;28;01mfrom\u001b[39;00m \u001b[38;5;21;01me\u001b[39;00m\n\u001b[0;32m   2336\u001b[0m \u001b[38;5;28;01melse\u001b[39;00m:\n\u001b[0;32m   2337\u001b[0m     \u001b[38;5;28;01massert\u001b[39;00m exc_info[\u001b[38;5;241m1\u001b[39m] \u001b[38;5;129;01mis\u001b[39;00m \u001b[38;5;129;01mnot\u001b[39;00m \u001b[38;5;28;01mNone\u001b[39;00m\n",
      "File \u001b[1;32m~\\AppData\\Roaming\\Python\\Python311\\site-packages\\sqlalchemy\\engine\\base.py:1960\u001b[0m, in \u001b[0;36mConnection._exec_single_context\u001b[1;34m(self, dialect, context, statement, parameters)\u001b[0m\n\u001b[0;32m   1958\u001b[0m                 \u001b[38;5;28;01mbreak\u001b[39;00m\n\u001b[0;32m   1959\u001b[0m     \u001b[38;5;28;01mif\u001b[39;00m \u001b[38;5;129;01mnot\u001b[39;00m evt_handled:\n\u001b[1;32m-> 1960\u001b[0m         \u001b[38;5;28;43mself\u001b[39;49m\u001b[38;5;241;43m.\u001b[39;49m\u001b[43mdialect\u001b[49m\u001b[38;5;241;43m.\u001b[39;49m\u001b[43mdo_execute\u001b[49m\u001b[43m(\u001b[49m\n\u001b[0;32m   1961\u001b[0m \u001b[43m            \u001b[49m\u001b[43mcursor\u001b[49m\u001b[43m,\u001b[49m\u001b[43m \u001b[49m\u001b[43mstr_statement\u001b[49m\u001b[43m,\u001b[49m\u001b[43m \u001b[49m\u001b[43meffective_parameters\u001b[49m\u001b[43m,\u001b[49m\u001b[43m \u001b[49m\u001b[43mcontext\u001b[49m\n\u001b[0;32m   1962\u001b[0m \u001b[43m        \u001b[49m\u001b[43m)\u001b[49m\n\u001b[0;32m   1964\u001b[0m \u001b[38;5;28;01mif\u001b[39;00m \u001b[38;5;28mself\u001b[39m\u001b[38;5;241m.\u001b[39m_has_events \u001b[38;5;129;01mor\u001b[39;00m \u001b[38;5;28mself\u001b[39m\u001b[38;5;241m.\u001b[39mengine\u001b[38;5;241m.\u001b[39m_has_events:\n\u001b[0;32m   1965\u001b[0m     \u001b[38;5;28mself\u001b[39m\u001b[38;5;241m.\u001b[39mdispatch\u001b[38;5;241m.\u001b[39mafter_cursor_execute(\n\u001b[0;32m   1966\u001b[0m         \u001b[38;5;28mself\u001b[39m,\n\u001b[0;32m   1967\u001b[0m         cursor,\n\u001b[1;32m   (...)\u001b[0m\n\u001b[0;32m   1971\u001b[0m         context\u001b[38;5;241m.\u001b[39mexecutemany,\n\u001b[0;32m   1972\u001b[0m     )\n",
      "File \u001b[1;32m~\\AppData\\Roaming\\Python\\Python311\\site-packages\\sqlalchemy\\engine\\default.py:924\u001b[0m, in \u001b[0;36mDefaultDialect.do_execute\u001b[1;34m(self, cursor, statement, parameters, context)\u001b[0m\n\u001b[0;32m    923\u001b[0m \u001b[38;5;28;01mdef\u001b[39;00m \u001b[38;5;21mdo_execute\u001b[39m(\u001b[38;5;28mself\u001b[39m, cursor, statement, parameters, context\u001b[38;5;241m=\u001b[39m\u001b[38;5;28;01mNone\u001b[39;00m):\n\u001b[1;32m--> 924\u001b[0m     \u001b[43mcursor\u001b[49m\u001b[38;5;241;43m.\u001b[39;49m\u001b[43mexecute\u001b[49m\u001b[43m(\u001b[49m\u001b[43mstatement\u001b[49m\u001b[43m,\u001b[49m\u001b[43m \u001b[49m\u001b[43mparameters\u001b[49m\u001b[43m)\u001b[49m\n",
      "\u001b[1;31mProgrammingError\u001b[0m: (psycopg2.errors.UndefinedColumn) column \"rsi7\" does not exist\nLINE 4:                 , rsi7, adx\n                          ^\n\n[SQL: \n            select TO_TIMESTAMP(open_time) as open_time, open as Open, close as Close,\n                high  as High, low as Low, volume as Volume \n                , rsi7, adx\n            from proddb.coin_prices_1h \n            where open_time >= 1743440400 and open_time < 1756659600\n                and symbol = 'ETHUSDT'\n            order by open_time asc\n        ]\n(Background on this error at: https://sqlalche.me/e/20/f405)"
     ]
    }
   ],
   "source": [
    "symbols = ['ETHUSDT', 'HBARUSDT']  # , 'ETHUSDT'\n",
    "tfs = [\"p1h\"]\n",
    "for symbol in symbols:\n",
    "    for tf in tfs:\n",
    "        a = backtest_function(symbol, tf, [TriplePatternStrategy_9p, TriplePatternStrategy_26p, ButterflyStrategy_9p, ButterflyStrategy_26p])"
   ]
  },
  {
   "cell_type": "code",
   "execution_count": 100,
   "metadata": {},
   "outputs": [
    {
     "name": "stdout",
     "output_type": "stream",
     "text": [
      "df.shape:  (2652, 7)\n",
      "Running backtest for ADXLongStrategy_9p with max_periods=9\n"
     ]
    },
    {
     "data": {
      "application/vnd.jupyter.widget-view+json": {
       "model_id": "3f654eb40c904c6cb45341f3daada6c3",
       "version_major": 2,
       "version_minor": 0
      },
      "text/plain": [
       "FractionalBacktest.run:   0%|          | 0/2651 [00:00<?, ?bar/s]"
      ]
     },
     "metadata": {},
     "output_type": "display_data"
    },
    {
     "name": "stderr",
     "output_type": "stream",
     "text": [
      "C:\\Users\\Admin\\AppData\\Roaming\\Python\\Python311\\site-packages\\backtesting\\lib.py:548: UserWarning: Some trades remain open at the end of backtest. Use `Backtest(..., finalize_trades=True)` to close them and include them in stats.\n",
      "  result = super().run(**kwargs)\n"
     ]
    },
    {
     "name": "stdout",
     "output_type": "stream",
     "text": [
      "Running backtest for ADXLongStrategy_26p with max_periods=26\n"
     ]
    },
    {
     "name": "stderr",
     "output_type": "stream",
     "text": [
      "C:\\Users\\Admin\\AppData\\Roaming\\Python\\Python311\\site-packages\\bokeh\\util\\serialization.py:242: UserWarning: no explicit representation of timezones available for np.datetime64\n",
      "  return convert(array.astype(\"datetime64[us]\"))\n"
     ]
    },
    {
     "data": {
      "application/vnd.jupyter.widget-view+json": {
       "model_id": "e37f7eb250b34136ad8d7afbb089a107",
       "version_major": 2,
       "version_minor": 0
      },
      "text/plain": [
       "FractionalBacktest.run:   0%|          | 0/2651 [00:00<?, ?bar/s]"
      ]
     },
     "metadata": {},
     "output_type": "display_data"
    },
    {
     "name": "stderr",
     "output_type": "stream",
     "text": [
      "C:\\Users\\Admin\\AppData\\Roaming\\Python\\Python311\\site-packages\\backtesting\\lib.py:548: UserWarning: Some trades remain open at the end of backtest. Use `Backtest(..., finalize_trades=True)` to close them and include them in stats.\n",
      "  result = super().run(**kwargs)\n"
     ]
    },
    {
     "name": "stdout",
     "output_type": "stream",
     "text": [
      "Running backtest for RSI7LongStrategy_9p with max_periods=9\n"
     ]
    },
    {
     "name": "stderr",
     "output_type": "stream",
     "text": [
      "C:\\Users\\Admin\\AppData\\Roaming\\Python\\Python311\\site-packages\\bokeh\\util\\serialization.py:242: UserWarning: no explicit representation of timezones available for np.datetime64\n",
      "  return convert(array.astype(\"datetime64[us]\"))\n"
     ]
    },
    {
     "data": {
      "application/vnd.jupyter.widget-view+json": {
       "model_id": "7dc10b1cc5234358b78bf086924e0324",
       "version_major": 2,
       "version_minor": 0
      },
      "text/plain": [
       "FractionalBacktest.run:   0%|          | 0/2651 [00:00<?, ?bar/s]"
      ]
     },
     "metadata": {},
     "output_type": "display_data"
    },
    {
     "name": "stdout",
     "output_type": "stream",
     "text": [
      "Running backtest for RSI7LongStrategy_26p with max_periods=26\n"
     ]
    },
    {
     "name": "stderr",
     "output_type": "stream",
     "text": [
      "C:\\Users\\Admin\\AppData\\Roaming\\Python\\Python311\\site-packages\\bokeh\\util\\serialization.py:242: UserWarning: no explicit representation of timezones available for np.datetime64\n",
      "  return convert(array.astype(\"datetime64[us]\"))\n"
     ]
    },
    {
     "data": {
      "application/vnd.jupyter.widget-view+json": {
       "model_id": "22590e94f43d467cadb1927ae6c99ebc",
       "version_major": 2,
       "version_minor": 0
      },
      "text/plain": [
       "FractionalBacktest.run:   0%|          | 0/2651 [00:00<?, ?bar/s]"
      ]
     },
     "metadata": {},
     "output_type": "display_data"
    },
    {
     "name": "stderr",
     "output_type": "stream",
     "text": [
      "C:\\Users\\Admin\\AppData\\Roaming\\Python\\Python311\\site-packages\\bokeh\\util\\serialization.py:242: UserWarning: no explicit representation of timezones available for np.datetime64\n",
      "  return convert(array.astype(\"datetime64[us]\"))\n"
     ]
    },
    {
     "name": "stdout",
     "output_type": "stream",
     "text": [
      "df.shape:  (2652, 7)\n",
      "Running backtest for ADXLongStrategy_9p with max_periods=9\n"
     ]
    },
    {
     "data": {
      "application/vnd.jupyter.widget-view+json": {
       "model_id": "9a9b382d2edc4c69aea21ac1fd6310d4",
       "version_major": 2,
       "version_minor": 0
      },
      "text/plain": [
       "FractionalBacktest.run:   0%|          | 0/2651 [00:00<?, ?bar/s]"
      ]
     },
     "metadata": {},
     "output_type": "display_data"
    },
    {
     "name": "stderr",
     "output_type": "stream",
     "text": [
      "C:\\Users\\Admin\\AppData\\Roaming\\Python\\Python311\\site-packages\\backtesting\\lib.py:548: UserWarning: Some trades remain open at the end of backtest. Use `Backtest(..., finalize_trades=True)` to close them and include them in stats.\n",
      "  result = super().run(**kwargs)\n"
     ]
    },
    {
     "name": "stdout",
     "output_type": "stream",
     "text": [
      "Running backtest for ADXLongStrategy_26p with max_periods=26\n"
     ]
    },
    {
     "name": "stderr",
     "output_type": "stream",
     "text": [
      "C:\\Users\\Admin\\AppData\\Roaming\\Python\\Python311\\site-packages\\bokeh\\util\\serialization.py:242: UserWarning: no explicit representation of timezones available for np.datetime64\n",
      "  return convert(array.astype(\"datetime64[us]\"))\n"
     ]
    },
    {
     "data": {
      "application/vnd.jupyter.widget-view+json": {
       "model_id": "46ea494820734769ba9cf90d94fcd8e4",
       "version_major": 2,
       "version_minor": 0
      },
      "text/plain": [
       "FractionalBacktest.run:   0%|          | 0/2651 [00:00<?, ?bar/s]"
      ]
     },
     "metadata": {},
     "output_type": "display_data"
    },
    {
     "name": "stderr",
     "output_type": "stream",
     "text": [
      "C:\\Users\\Admin\\AppData\\Roaming\\Python\\Python311\\site-packages\\backtesting\\lib.py:548: UserWarning: Some trades remain open at the end of backtest. Use `Backtest(..., finalize_trades=True)` to close them and include them in stats.\n",
      "  result = super().run(**kwargs)\n"
     ]
    },
    {
     "name": "stdout",
     "output_type": "stream",
     "text": [
      "Running backtest for RSI7LongStrategy_9p with max_periods=9\n"
     ]
    },
    {
     "name": "stderr",
     "output_type": "stream",
     "text": [
      "C:\\Users\\Admin\\AppData\\Roaming\\Python\\Python311\\site-packages\\bokeh\\util\\serialization.py:242: UserWarning: no explicit representation of timezones available for np.datetime64\n",
      "  return convert(array.astype(\"datetime64[us]\"))\n"
     ]
    },
    {
     "data": {
      "application/vnd.jupyter.widget-view+json": {
       "model_id": "567900061699496db012c3c8088f0b25",
       "version_major": 2,
       "version_minor": 0
      },
      "text/plain": [
       "FractionalBacktest.run:   0%|          | 0/2651 [00:00<?, ?bar/s]"
      ]
     },
     "metadata": {},
     "output_type": "display_data"
    },
    {
     "name": "stdout",
     "output_type": "stream",
     "text": [
      "Running backtest for RSI7LongStrategy_26p with max_periods=26\n"
     ]
    },
    {
     "name": "stderr",
     "output_type": "stream",
     "text": [
      "C:\\Users\\Admin\\AppData\\Roaming\\Python\\Python311\\site-packages\\bokeh\\util\\serialization.py:242: UserWarning: no explicit representation of timezones available for np.datetime64\n",
      "  return convert(array.astype(\"datetime64[us]\"))\n"
     ]
    },
    {
     "data": {
      "application/vnd.jupyter.widget-view+json": {
       "model_id": "8bbeef7ca4434ae1812c32d1af0b7cea",
       "version_major": 2,
       "version_minor": 0
      },
      "text/plain": [
       "FractionalBacktest.run:   0%|          | 0/2651 [00:00<?, ?bar/s]"
      ]
     },
     "metadata": {},
     "output_type": "display_data"
    },
    {
     "name": "stderr",
     "output_type": "stream",
     "text": [
      "C:\\Users\\Admin\\AppData\\Roaming\\Python\\Python311\\site-packages\\bokeh\\util\\serialization.py:242: UserWarning: no explicit representation of timezones available for np.datetime64\n",
      "  return convert(array.astype(\"datetime64[us]\"))\n"
     ]
    }
   ],
   "source": [
    "symbols = ['ETHUSDT', 'HBARUSDT']  # , 'ETHUSDT'\n",
    "tfs = [\"f1h\"]\n",
    "for symbol in symbols:\n",
    "    for tf in tfs:\n",
    "        a = backtest_function(symbol, tf, [ADXLongStrategy_9p, ADXLongStrategy_26p, RSI7LongStrategy_9p, RSI7LongStrategy_26p])"
   ]
  },
  {
   "cell_type": "code",
   "execution_count": 141,
   "metadata": {},
   "outputs": [],
   "source": [
    "df_1d = get_data_4_8(\"ETHUSDT\", \"1d\")\n",
    "bt = FractionalBacktest(df_1d, TriplePatternStrategy_9p, cash=10_000, commission=0.002, fractional_unit=0.01)\n",
    "df_1d_stat = bt.run()"
   ]
  },
  {
   "cell_type": "code",
   "execution_count": 22,
   "metadata": {},
   "outputs": [
    {
     "data": {
      "text/html": [
       "<div>\n",
       "<style scoped>\n",
       "    .dataframe tbody tr th:only-of-type {\n",
       "        vertical-align: middle;\n",
       "    }\n",
       "\n",
       "    .dataframe tbody tr th {\n",
       "        vertical-align: top;\n",
       "    }\n",
       "\n",
       "    .dataframe thead th {\n",
       "        text-align: right;\n",
       "    }\n",
       "</style>\n",
       "<table border=\"1\" class=\"dataframe\">\n",
       "  <thead>\n",
       "    <tr style=\"text-align: right;\">\n",
       "      <th></th>\n",
       "      <th>Open</th>\n",
       "      <th>Close</th>\n",
       "      <th>High</th>\n",
       "      <th>Low</th>\n",
       "      <th>Volume</th>\n",
       "    </tr>\n",
       "    <tr>\n",
       "      <th>open_time</th>\n",
       "      <th></th>\n",
       "      <th></th>\n",
       "      <th></th>\n",
       "      <th></th>\n",
       "      <th></th>\n",
       "    </tr>\n",
       "  </thead>\n",
       "  <tbody>\n",
       "    <tr>\n",
       "      <th>2025-05-13 00:00:00+00:00</th>\n",
       "      <td>0.20554</td>\n",
       "      <td>0.21612</td>\n",
       "      <td>0.21857</td>\n",
       "      <td>0.20419</td>\n",
       "      <td>183175906.0</td>\n",
       "    </tr>\n",
       "    <tr>\n",
       "      <th>2025-08-28 00:00:00+00:00</th>\n",
       "      <td>0.23762</td>\n",
       "      <td>0.23922</td>\n",
       "      <td>0.24201</td>\n",
       "      <td>0.23540</td>\n",
       "      <td>134719322.0</td>\n",
       "    </tr>\n",
       "    <tr>\n",
       "      <th>2025-08-29 00:00:00+00:00</th>\n",
       "      <td>0.23922</td>\n",
       "      <td>0.22796</td>\n",
       "      <td>0.24037</td>\n",
       "      <td>0.22349</td>\n",
       "      <td>249640545.0</td>\n",
       "    </tr>\n",
       "    <tr>\n",
       "      <th>2025-08-30 00:00:00+00:00</th>\n",
       "      <td>0.22797</td>\n",
       "      <td>0.22574</td>\n",
       "      <td>0.22951</td>\n",
       "      <td>0.22028</td>\n",
       "      <td>107200716.0</td>\n",
       "    </tr>\n",
       "    <tr>\n",
       "      <th>2025-08-31 00:00:00+00:00</th>\n",
       "      <td>0.22575</td>\n",
       "      <td>0.21896</td>\n",
       "      <td>0.22871</td>\n",
       "      <td>0.21784</td>\n",
       "      <td>79075844.0</td>\n",
       "    </tr>\n",
       "  </tbody>\n",
       "</table>\n",
       "</div>"
      ],
      "text/plain": [
       "                              Open    Close     High      Low       Volume\n",
       "open_time                                                                 \n",
       "2025-05-13 00:00:00+00:00  0.20554  0.21612  0.21857  0.20419  183175906.0\n",
       "2025-08-28 00:00:00+00:00  0.23762  0.23922  0.24201  0.23540  134719322.0\n",
       "2025-08-29 00:00:00+00:00  0.23922  0.22796  0.24037  0.22349  249640545.0\n",
       "2025-08-30 00:00:00+00:00  0.22797  0.22574  0.22951  0.22028  107200716.0\n",
       "2025-08-31 00:00:00+00:00  0.22575  0.21896  0.22871  0.21784   79075844.0"
      ]
     },
     "execution_count": 22,
     "metadata": {},
     "output_type": "execute_result"
    }
   ],
   "source": [
    "df"
   ]
  },
  {
   "cell_type": "code",
   "execution_count": 64,
   "metadata": {},
   "outputs": [
    {
     "data": {
      "text/html": [
       "<div>\n",
       "<style scoped>\n",
       "    .dataframe tbody tr th:only-of-type {\n",
       "        vertical-align: middle;\n",
       "    }\n",
       "\n",
       "    .dataframe tbody tr th {\n",
       "        vertical-align: top;\n",
       "    }\n",
       "\n",
       "    .dataframe thead th {\n",
       "        text-align: right;\n",
       "    }\n",
       "</style>\n",
       "<table border=\"1\" class=\"dataframe\">\n",
       "  <thead>\n",
       "    <tr style=\"text-align: right;\">\n",
       "      <th></th>\n",
       "      <th>Open</th>\n",
       "      <th>Close</th>\n",
       "      <th>High</th>\n",
       "      <th>Low</th>\n",
       "      <th>Volume</th>\n",
       "      <th>rsi</th>\n",
       "      <th>rsi14</th>\n",
       "      <th>adx</th>\n",
       "    </tr>\n",
       "    <tr>\n",
       "      <th>open_time</th>\n",
       "      <th></th>\n",
       "      <th></th>\n",
       "      <th></th>\n",
       "      <th></th>\n",
       "      <th></th>\n",
       "      <th></th>\n",
       "      <th></th>\n",
       "      <th></th>\n",
       "    </tr>\n",
       "  </thead>\n",
       "  <tbody>\n",
       "    <tr>\n",
       "      <th>2025-08-30 21:00:00+00:00</th>\n",
       "      <td>0.22534</td>\n",
       "      <td>0.22494</td>\n",
       "      <td>0.22556</td>\n",
       "      <td>0.22470</td>\n",
       "      <td>1501365.0</td>\n",
       "      <td>47.303222</td>\n",
       "      <td>45.559180</td>\n",
       "      <td>4.395721</td>\n",
       "    </tr>\n",
       "    <tr>\n",
       "      <th>2025-08-30 22:00:00+00:00</th>\n",
       "      <td>0.22494</td>\n",
       "      <td>0.22618</td>\n",
       "      <td>0.22664</td>\n",
       "      <td>0.22468</td>\n",
       "      <td>2316734.0</td>\n",
       "      <td>57.481326</td>\n",
       "      <td>50.011356</td>\n",
       "      <td>4.316264</td>\n",
       "    </tr>\n",
       "    <tr>\n",
       "      <th>2025-08-30 23:00:00+00:00</th>\n",
       "      <td>0.22619</td>\n",
       "      <td>0.22574</td>\n",
       "      <td>0.22680</td>\n",
       "      <td>0.22528</td>\n",
       "      <td>3203916.0</td>\n",
       "      <td>53.225532</td>\n",
       "      <td>48.495815</td>\n",
       "      <td>4.363417</td>\n",
       "    </tr>\n",
       "    <tr>\n",
       "      <th>2025-08-31 00:00:00+00:00</th>\n",
       "      <td>0.22575</td>\n",
       "      <td>0.22778</td>\n",
       "      <td>0.22809</td>\n",
       "      <td>0.22561</td>\n",
       "      <td>3029463.0</td>\n",
       "      <td>66.601057</td>\n",
       "      <td>55.264625</td>\n",
       "      <td>4.445924</td>\n",
       "    </tr>\n",
       "    <tr>\n",
       "      <th>2025-08-31 01:00:00+00:00</th>\n",
       "      <td>0.22779</td>\n",
       "      <td>0.22832</td>\n",
       "      <td>0.22871</td>\n",
       "      <td>0.22664</td>\n",
       "      <td>2608834.0</td>\n",
       "      <td>69.311200</td>\n",
       "      <td>56.880084</td>\n",
       "      <td>4.712661</td>\n",
       "    </tr>\n",
       "    <tr>\n",
       "      <th>2025-08-31 02:00:00+00:00</th>\n",
       "      <td>0.22834</td>\n",
       "      <td>0.22765</td>\n",
       "      <td>0.22857</td>\n",
       "      <td>0.22746</td>\n",
       "      <td>1356011.0</td>\n",
       "      <td>62.025705</td>\n",
       "      <td>54.261869</td>\n",
       "      <td>5.098667</td>\n",
       "    </tr>\n",
       "    <tr>\n",
       "      <th>2025-08-31 03:00:00+00:00</th>\n",
       "      <td>0.22766</td>\n",
       "      <td>0.22774</td>\n",
       "      <td>0.22822</td>\n",
       "      <td>0.22706</td>\n",
       "      <td>1738604.0</td>\n",
       "      <td>62.641114</td>\n",
       "      <td>54.564416</td>\n",
       "      <td>5.349958</td>\n",
       "    </tr>\n",
       "    <tr>\n",
       "      <th>2025-08-31 04:00:00+00:00</th>\n",
       "      <td>0.22775</td>\n",
       "      <td>0.22693</td>\n",
       "      <td>0.22784</td>\n",
       "      <td>0.22648</td>\n",
       "      <td>1991090.0</td>\n",
       "      <td>53.531983</td>\n",
       "      <td>51.276927</td>\n",
       "      <td>5.462870</td>\n",
       "    </tr>\n",
       "    <tr>\n",
       "      <th>2025-08-31 05:00:00+00:00</th>\n",
       "      <td>0.22692</td>\n",
       "      <td>0.22591</td>\n",
       "      <td>0.22692</td>\n",
       "      <td>0.22559</td>\n",
       "      <td>2057496.0</td>\n",
       "      <td>44.108673</td>\n",
       "      <td>47.403749</td>\n",
       "      <td>5.312094</td>\n",
       "    </tr>\n",
       "    <tr>\n",
       "      <th>2025-08-31 06:00:00+00:00</th>\n",
       "      <td>0.22591</td>\n",
       "      <td>0.22443</td>\n",
       "      <td>0.22603</td>\n",
       "      <td>0.22436</td>\n",
       "      <td>2081082.0</td>\n",
       "      <td>33.982349</td>\n",
       "      <td>42.399361</td>\n",
       "      <td>4.948899</td>\n",
       "    </tr>\n",
       "    <tr>\n",
       "      <th>2025-08-31 07:00:00+00:00</th>\n",
       "      <td>0.22442</td>\n",
       "      <td>0.22417</td>\n",
       "      <td>0.22531</td>\n",
       "      <td>0.22399</td>\n",
       "      <td>2169904.0</td>\n",
       "      <td>32.455236</td>\n",
       "      <td>41.569118</td>\n",
       "      <td>4.744519</td>\n",
       "    </tr>\n",
       "    <tr>\n",
       "      <th>2025-08-31 08:00:00+00:00</th>\n",
       "      <td>0.22419</td>\n",
       "      <td>0.22613</td>\n",
       "      <td>0.22623</td>\n",
       "      <td>0.22418</td>\n",
       "      <td>1676589.0</td>\n",
       "      <td>51.588710</td>\n",
       "      <td>49.583757</td>\n",
       "      <td>4.501271</td>\n",
       "    </tr>\n",
       "    <tr>\n",
       "      <th>2025-08-31 09:00:00+00:00</th>\n",
       "      <td>0.22613</td>\n",
       "      <td>0.22588</td>\n",
       "      <td>0.22722</td>\n",
       "      <td>0.22569</td>\n",
       "      <td>3101900.0</td>\n",
       "      <td>49.502030</td>\n",
       "      <td>48.666813</td>\n",
       "      <td>4.428189</td>\n",
       "    </tr>\n",
       "    <tr>\n",
       "      <th>2025-08-31 10:00:00+00:00</th>\n",
       "      <td>0.22587</td>\n",
       "      <td>0.22462</td>\n",
       "      <td>0.22597</td>\n",
       "      <td>0.22378</td>\n",
       "      <td>2021296.0</td>\n",
       "      <td>39.990766</td>\n",
       "      <td>44.227542</td>\n",
       "      <td>4.153894</td>\n",
       "    </tr>\n",
       "    <tr>\n",
       "      <th>2025-08-31 11:00:00+00:00</th>\n",
       "      <td>0.22462</td>\n",
       "      <td>0.22500</td>\n",
       "      <td>0.22530</td>\n",
       "      <td>0.22387</td>\n",
       "      <td>1755980.0</td>\n",
       "      <td>43.790759</td>\n",
       "      <td>45.832326</td>\n",
       "      <td>4.023421</td>\n",
       "    </tr>\n",
       "    <tr>\n",
       "      <th>2025-08-31 12:00:00+00:00</th>\n",
       "      <td>0.22497</td>\n",
       "      <td>0.22484</td>\n",
       "      <td>0.22513</td>\n",
       "      <td>0.22348</td>\n",
       "      <td>2047893.0</td>\n",
       "      <td>42.469685</td>\n",
       "      <td>45.242043</td>\n",
       "      <td>3.935555</td>\n",
       "    </tr>\n",
       "    <tr>\n",
       "      <th>2025-08-31 13:00:00+00:00</th>\n",
       "      <td>0.22483</td>\n",
       "      <td>0.22345</td>\n",
       "      <td>0.22519</td>\n",
       "      <td>0.22318</td>\n",
       "      <td>2397163.0</td>\n",
       "      <td>32.524784</td>\n",
       "      <td>40.376849</td>\n",
       "      <td>3.836092</td>\n",
       "    </tr>\n",
       "    <tr>\n",
       "      <th>2025-08-31 14:00:00+00:00</th>\n",
       "      <td>0.22345</td>\n",
       "      <td>0.22352</td>\n",
       "      <td>0.22400</td>\n",
       "      <td>0.22237</td>\n",
       "      <td>3075512.0</td>\n",
       "      <td>33.440501</td>\n",
       "      <td>40.722562</td>\n",
       "      <td>4.004198</td>\n",
       "    </tr>\n",
       "    <tr>\n",
       "      <th>2025-08-31 15:00:00+00:00</th>\n",
       "      <td>0.22352</td>\n",
       "      <td>0.22569</td>\n",
       "      <td>0.22579</td>\n",
       "      <td>0.22343</td>\n",
       "      <td>4111748.0</td>\n",
       "      <td>55.353883</td>\n",
       "      <td>50.336180</td>\n",
       "      <td>3.869782</td>\n",
       "    </tr>\n",
       "    <tr>\n",
       "      <th>2025-08-31 16:00:00+00:00</th>\n",
       "      <td>0.22570</td>\n",
       "      <td>0.22393</td>\n",
       "      <td>0.22582</td>\n",
       "      <td>0.22344</td>\n",
       "      <td>4909046.0</td>\n",
       "      <td>42.205597</td>\n",
       "      <td>44.090496</td>\n",
       "      <td>3.742305</td>\n",
       "    </tr>\n",
       "  </tbody>\n",
       "</table>\n",
       "</div>"
      ],
      "text/plain": [
       "                              Open    Close     High      Low     Volume  \\\n",
       "open_time                                                                  \n",
       "2025-08-30 21:00:00+00:00  0.22534  0.22494  0.22556  0.22470  1501365.0   \n",
       "2025-08-30 22:00:00+00:00  0.22494  0.22618  0.22664  0.22468  2316734.0   \n",
       "2025-08-30 23:00:00+00:00  0.22619  0.22574  0.22680  0.22528  3203916.0   \n",
       "2025-08-31 00:00:00+00:00  0.22575  0.22778  0.22809  0.22561  3029463.0   \n",
       "2025-08-31 01:00:00+00:00  0.22779  0.22832  0.22871  0.22664  2608834.0   \n",
       "2025-08-31 02:00:00+00:00  0.22834  0.22765  0.22857  0.22746  1356011.0   \n",
       "2025-08-31 03:00:00+00:00  0.22766  0.22774  0.22822  0.22706  1738604.0   \n",
       "2025-08-31 04:00:00+00:00  0.22775  0.22693  0.22784  0.22648  1991090.0   \n",
       "2025-08-31 05:00:00+00:00  0.22692  0.22591  0.22692  0.22559  2057496.0   \n",
       "2025-08-31 06:00:00+00:00  0.22591  0.22443  0.22603  0.22436  2081082.0   \n",
       "2025-08-31 07:00:00+00:00  0.22442  0.22417  0.22531  0.22399  2169904.0   \n",
       "2025-08-31 08:00:00+00:00  0.22419  0.22613  0.22623  0.22418  1676589.0   \n",
       "2025-08-31 09:00:00+00:00  0.22613  0.22588  0.22722  0.22569  3101900.0   \n",
       "2025-08-31 10:00:00+00:00  0.22587  0.22462  0.22597  0.22378  2021296.0   \n",
       "2025-08-31 11:00:00+00:00  0.22462  0.22500  0.22530  0.22387  1755980.0   \n",
       "2025-08-31 12:00:00+00:00  0.22497  0.22484  0.22513  0.22348  2047893.0   \n",
       "2025-08-31 13:00:00+00:00  0.22483  0.22345  0.22519  0.22318  2397163.0   \n",
       "2025-08-31 14:00:00+00:00  0.22345  0.22352  0.22400  0.22237  3075512.0   \n",
       "2025-08-31 15:00:00+00:00  0.22352  0.22569  0.22579  0.22343  4111748.0   \n",
       "2025-08-31 16:00:00+00:00  0.22570  0.22393  0.22582  0.22344  4909046.0   \n",
       "\n",
       "                                 rsi      rsi14       adx  \n",
       "open_time                                                  \n",
       "2025-08-30 21:00:00+00:00  47.303222  45.559180  4.395721  \n",
       "2025-08-30 22:00:00+00:00  57.481326  50.011356  4.316264  \n",
       "2025-08-30 23:00:00+00:00  53.225532  48.495815  4.363417  \n",
       "2025-08-31 00:00:00+00:00  66.601057  55.264625  4.445924  \n",
       "2025-08-31 01:00:00+00:00  69.311200  56.880084  4.712661  \n",
       "2025-08-31 02:00:00+00:00  62.025705  54.261869  5.098667  \n",
       "2025-08-31 03:00:00+00:00  62.641114  54.564416  5.349958  \n",
       "2025-08-31 04:00:00+00:00  53.531983  51.276927  5.462870  \n",
       "2025-08-31 05:00:00+00:00  44.108673  47.403749  5.312094  \n",
       "2025-08-31 06:00:00+00:00  33.982349  42.399361  4.948899  \n",
       "2025-08-31 07:00:00+00:00  32.455236  41.569118  4.744519  \n",
       "2025-08-31 08:00:00+00:00  51.588710  49.583757  4.501271  \n",
       "2025-08-31 09:00:00+00:00  49.502030  48.666813  4.428189  \n",
       "2025-08-31 10:00:00+00:00  39.990766  44.227542  4.153894  \n",
       "2025-08-31 11:00:00+00:00  43.790759  45.832326  4.023421  \n",
       "2025-08-31 12:00:00+00:00  42.469685  45.242043  3.935555  \n",
       "2025-08-31 13:00:00+00:00  32.524784  40.376849  3.836092  \n",
       "2025-08-31 14:00:00+00:00  33.440501  40.722562  4.004198  \n",
       "2025-08-31 15:00:00+00:00  55.353883  50.336180  3.869782  \n",
       "2025-08-31 16:00:00+00:00  42.205597  44.090496  3.742305  "
      ]
     },
     "execution_count": 64,
     "metadata": {},
     "output_type": "execute_result"
    }
   ],
   "source": [
    "df[-20:]"
   ]
  },
  {
   "cell_type": "code",
   "execution_count": 63,
   "metadata": {},
   "outputs": [
    {
     "data": {
      "text/plain": [
       "1756659600"
      ]
     },
     "execution_count": 63,
     "metadata": {},
     "output_type": "execute_result"
    }
   ],
   "source": [
    "int(datetime(2025, 9, 1, 0, 0, 0).timestamp())"
   ]
  },
  {
   "cell_type": "code",
   "execution_count": null,
   "metadata": {},
   "outputs": [],
   "source": []
  }
 ],
 "metadata": {
  "kernelspec": {
   "display_name": "Python 3",
   "language": "python",
   "name": "python3"
  },
  "language_info": {
   "codemirror_mode": {
    "name": "ipython",
    "version": 3
   },
   "file_extension": ".py",
   "mimetype": "text/x-python",
   "name": "python",
   "nbconvert_exporter": "python",
   "pygments_lexer": "ipython3",
   "version": "3.11.2"
  }
 },
 "nbformat": 4,
 "nbformat_minor": 2
}
